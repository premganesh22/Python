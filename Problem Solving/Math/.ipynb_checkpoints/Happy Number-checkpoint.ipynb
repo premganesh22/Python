{
 "cells": [
  {
   "cell_type": "markdown",
   "metadata": {},
   "source": [
    "# [Happy Number](https://leetcode.com/problems/happy-number/)\n",
    "\n",
    "Write an algorithm to determine if a number is \"happy\".\n",
    "\n",
    "A happy number is a number defined by the following process: Starting with any positive integer, replace the number by the sum of the squares of its digits, and repeat the process until the number equals 1 (where it will stay), or it loops endlessly in a cycle which does not include 1. Those numbers for which this process ends in 1 are happy numbers.\n",
    "\n",
    "**Example 1:**\n",
    "\n",
    ">Input: 19\n",
    "\n",
    ">Output: true\n",
    "\n",
    ">Explanation: \n",
    "\n",
    ">>1^2 + 9^2 = 82\n",
    "\n",
    ">>8^2 + 2^2 = 68\n",
    "\n",
    ">>6^2 + 8^2 = 100\n",
    "\n",
    ">>1^2 + 0^2 + 0^2 = 1\n",
    "\n"
   ]
  },
  {
   "cell_type": "code",
   "execution_count": 39,
   "metadata": {},
   "outputs": [],
   "source": [
    "def happy_number(num = 0):\n",
    "    lista = []\n",
    "    \n",
    "    while num != 1:\n",
    "        sums = 0\n",
    "        while num>9:\n",
    "            sums = sums+(num%10)**2\n",
    "            num = num//10\n",
    "        num = sums + (num**2)\n",
    "        print(num)\n",
    "        if num in lista:\n",
    "            return False\n",
    "        lista.append(num)\n",
    "    \n",
    "    return True"
   ]
  },
  {
   "cell_type": "code",
   "execution_count": 41,
   "metadata": {},
   "outputs": [
    {
     "name": "stdout",
     "output_type": "stream",
     "text": [
      "65\n",
      "61\n",
      "37\n",
      "58\n",
      "89\n",
      "145\n",
      "42\n",
      "20\n",
      "4\n",
      "16\n",
      "37\n"
     ]
    },
    {
     "data": {
      "text/plain": [
       "False"
      ]
     },
     "execution_count": 41,
     "metadata": {},
     "output_type": "execute_result"
    }
   ],
   "source": [
    "happy_number(num=18)"
   ]
  }
 ],
 "metadata": {
  "kernelspec": {
   "display_name": "Python 3",
   "language": "python",
   "name": "python3"
  },
  "language_info": {
   "codemirror_mode": {
    "name": "ipython",
    "version": 3
   },
   "file_extension": ".py",
   "mimetype": "text/x-python",
   "name": "python",
   "nbconvert_exporter": "python",
   "pygments_lexer": "ipython3",
   "version": "3.7.0"
  }
 },
 "nbformat": 4,
 "nbformat_minor": 2
}
