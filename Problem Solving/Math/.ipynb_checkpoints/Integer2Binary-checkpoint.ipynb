{
 "cells": [
  {
   "cell_type": "markdown",
   "metadata": {},
   "source": [
    "# Integer to Binary Conversion\n",
    "\n",
    "Method 1: Convert using bin() function\n",
    "\n",
    "Method 2: Convert using String Format\n",
    "\n",
    "Method 3: Convert without using any inbuild function"
   ]
  },
  {
   "cell_type": "code",
   "execution_count": 2,
   "metadata": {},
   "outputs": [
    {
     "data": {
      "text/plain": [
       "'101'"
      ]
     },
     "execution_count": 2,
     "metadata": {},
     "output_type": "execute_result"
    }
   ],
   "source": [
    "'''\n",
    "use Bin function to convert the number\n",
    "\n",
    "'''\n",
    "def bin_function(n):\n",
    "    return bin(n)\n",
    "bin_function(5)[2:]"
   ]
  },
  {
   "cell_type": "code",
   "execution_count": 20,
   "metadata": {},
   "outputs": [
    {
     "data": {
      "text/plain": [
       "'00000101'"
      ]
     },
     "execution_count": 20,
     "metadata": {},
     "output_type": "execute_result"
    }
   ],
   "source": [
    "'''\n",
    "Use string funtion to convert\n",
    "\n",
    "{} places a variable into a string\n",
    "0 takes the variable at argument position 0\n",
    ": adds formatting options for this variable (otherwise it would represent decimal 6)\n",
    "08 formats the number to eight digits zero-padded on the left\n",
    "b converts the number to its binary representation\n",
    "\n",
    "'''\n",
    "\n",
    "def string_formatter(n):\n",
    "    return '{0:08b}'.format(n) # or f\"{n:b}\" for python 3.6 above\n",
    "string_formatter(5)"
   ]
  },
  {
   "cell_type": "code",
   "execution_count": 17,
   "metadata": {},
   "outputs": [
    {
     "data": {
      "text/plain": [
       "'101'"
      ]
     },
     "execution_count": 17,
     "metadata": {},
     "output_type": "execute_result"
    }
   ],
   "source": [
    "'''\n",
    "Run while loop with n/2  till n > 1,\n",
    "later perform n % 1 to get MSB of converted binary number.  \n",
    "Example :- 7\n",
    "1). 7/2 = Quotient = 3(grater than 1), Remainder = 1.\n",
    "2). 3/2 = Quotient = 1(not grater than 1), Remainder = 1.\n",
    "3). 1%2 = Remainder = 1.\n",
    "Therefore, answer is 111.\n",
    "'''\n",
    "\n",
    "def decimalToBinary(n):  \n",
    "    binary = []\n",
    "    while n>=1:\n",
    "        binary.append(str(n%2))\n",
    "        n = n//2\n",
    "    return \"\".join(binary[::-1])\n",
    "decimalToBinary(5)"
   ]
  }
 ],
 "metadata": {
  "kernelspec": {
   "display_name": "Python 3",
   "language": "python",
   "name": "python3"
  },
  "language_info": {
   "codemirror_mode": {
    "name": "ipython",
    "version": 3
   },
   "file_extension": ".py",
   "mimetype": "text/x-python",
   "name": "python",
   "nbconvert_exporter": "python",
   "pygments_lexer": "ipython3",
   "version": "3.7.0"
  }
 },
 "nbformat": 4,
 "nbformat_minor": 2
}
