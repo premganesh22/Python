{
 "cells": [
  {
   "cell_type": "markdown",
   "metadata": {},
   "source": [
    "# [Subtract the Product and Sum of Digits of an Integer](https://leetcode.com/problems/subtract-the-product-and-sum-of-digits-of-an-integer/)\n",
    "\n",
    "Given an integer number n, return the difference between the product of its digits and the sum of its digits.\n",
    " \n",
    "**Example 1:**\n",
    "\n",
    ">Input: n = 234\n",
    "\n",
    ">Output: 15\n",
    "\n",
    ">Explanation: \n",
    "\n",
    ">Product of digits = 2 * 3 * 4 = 24 \n",
    "\n",
    ">Sum of digits = 2 + 3 + 4 = 9 \n",
    "\n",
    ">Result = 24 - 9 = 15"
   ]
  },
  {
   "cell_type": "code",
   "execution_count": 56,
   "metadata": {},
   "outputs": [],
   "source": [
    "234\n",
    "def splitnum(num = 0):\n",
    "    product = 1\n",
    "    sum1 = 0\n",
    "    for i in str(num):\n",
    "        print(f\"product --> {product}\")\n",
    "        print(f\"Sum --> {sum1}\")\n",
    "        product*=int(i) \n",
    "        sum1+=int(i)\n",
    "    return product - sum1\n",
    "        "
   ]
  },
  {
   "cell_type": "code",
   "execution_count": 57,
   "metadata": {},
   "outputs": [
    {
     "name": "stdout",
     "output_type": "stream",
     "text": [
      "product --> 1\n",
      "Sum --> 0\n",
      "product --> 2\n",
      "Sum --> 2\n",
      "product --> 6\n",
      "Sum --> 5\n"
     ]
    },
    {
     "data": {
      "text/plain": [
       "15"
      ]
     },
     "execution_count": 57,
     "metadata": {},
     "output_type": "execute_result"
    }
   ],
   "source": [
    "splitnum(num=234)"
   ]
  },
  {
   "cell_type": "code",
   "execution_count": 58,
   "metadata": {},
   "outputs": [],
   "source": [
    "def splitnum1(num = 0):\n",
    "    product = 1\n",
    "    sum1 = 0\n",
    "    while(num!=0):\n",
    "        digit = num%10\n",
    "        product*=digit\n",
    "        sum1+=digit\n",
    "        num = num//10\n",
    "    return product - sum1"
   ]
  },
  {
   "cell_type": "code",
   "execution_count": 59,
   "metadata": {},
   "outputs": [
    {
     "data": {
      "text/plain": [
       "15"
      ]
     },
     "execution_count": 59,
     "metadata": {},
     "output_type": "execute_result"
    }
   ],
   "source": [
    "splitnum1(num=234)"
   ]
  }
 ],
 "metadata": {
  "kernelspec": {
   "display_name": "Python 3",
   "language": "python",
   "name": "python3"
  },
  "language_info": {
   "codemirror_mode": {
    "name": "ipython",
    "version": 3
   },
   "file_extension": ".py",
   "mimetype": "text/x-python",
   "name": "python",
   "nbconvert_exporter": "python",
   "pygments_lexer": "ipython3",
   "version": "3.7.0"
  }
 },
 "nbformat": 4,
 "nbformat_minor": 2
}
