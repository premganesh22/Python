{
 "cells": [
  {
   "cell_type": "markdown",
   "metadata": {},
   "source": [
    "# [Maximum 69 Number](https://leetcode.com/problems/maximum-69-number/)\n",
    "\n",
    "Given a positive integer num consisting only of digits 6 and 9.\n",
    "\n",
    "Return the maximum number you can get by changing at most one digit (6 becomes 9, and 9 becomes 6).\n",
    "\n",
    "**Example 1:**\n",
    "\n",
    ">Input: num = 9669\n",
    "\n",
    ">Output: 9969\n",
    "\n",
    ">Explanation: Changing the first digit results in 6669.\n",
    "Changing the second digit results in 9969.\n",
    "Changing the third digit results in 9699.\n",
    "Changing the fourth digit results in 9666. \n",
    "The maximum number is 9969.\n"
   ]
  },
  {
   "cell_type": "code",
   "execution_count": 6,
   "metadata": {},
   "outputs": [],
   "source": [
    "def max_number(num = 0):\n",
    "    numList = list(str(num))\n",
    "    for i in range(len(numList)):\n",
    "        if numList[i] == '6':\n",
    "            numList[i] = '9'\n",
    "            return int(\"\".join(numList))\n",
    "    return int(\"\".join(numList))"
   ]
  },
  {
   "cell_type": "code",
   "execution_count": 9,
   "metadata": {},
   "outputs": [
    {
     "data": {
      "text/plain": [
       "9999"
      ]
     },
     "execution_count": 9,
     "metadata": {},
     "output_type": "execute_result"
    }
   ],
   "source": [
    "max_number(num=9996)"
   ]
  },
  {
   "cell_type": "code",
   "execution_count": null,
   "metadata": {},
   "outputs": [],
   "source": []
  }
 ],
 "metadata": {
  "kernelspec": {
   "display_name": "Python 3",
   "language": "python",
   "name": "python3"
  },
  "language_info": {
   "codemirror_mode": {
    "name": "ipython",
    "version": 3
   },
   "file_extension": ".py",
   "mimetype": "text/x-python",
   "name": "python",
   "nbconvert_exporter": "python",
   "pygments_lexer": "ipython3",
   "version": "3.7.0"
  }
 },
 "nbformat": 4,
 "nbformat_minor": 2
}
