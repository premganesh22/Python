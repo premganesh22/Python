{
 "cells": [
  {
   "cell_type": "markdown",
   "metadata": {},
   "source": [
    "# [Prime Number of Set Bits in Binary Representation](https://leetcode.com/problems/prime-number-of-set-bits-in-binary-representation/)\n",
    "\n",
    "Given two integers L and R, find the count of numbers in the range [L, R] (inclusive) having a prime number of set bits in their binary representation. \n",
    "(Recall that the number of set bits an integer has is the number of 1s present when written in binary. For example, 21 written in binary is 10101 which has 3 set bits. Also, 1 is not a prime.) \n",
    "\n",
    "**Example 1:**\n",
    "\n",
    ">Input: L = 6, R = 10\n",
    "\n",
    ">Output: 4\n",
    "\n",
    ">Explanation: 6 -> 110 (2 set bits, 2 is prime)\n",
    "\n",
    ">7 -> 111 (3 set bits, 3 is prime)\n",
    "\n",
    ">9 -> 1001 (2 set bits , 2 is prime)\n",
    "\n",
    ">10->1010 (2 set bits , 2 is prime)"
   ]
  },
  {
   "cell_type": "code",
   "execution_count": 28,
   "metadata": {},
   "outputs": [],
   "source": [
    "def prime_number(num = 0):\n",
    "    print(num)\n",
    "    if num <= 1:\n",
    "        return False\n",
    "    if num == 2 or num == 3:\n",
    "        return True\n",
    "    for i in range(2,num//2+1):\n",
    "        if num%i == 0:\n",
    "            return False\n",
    "    return True\n",
    "\n",
    "def binary(L=0,R=0):\n",
    "    output = []\n",
    "    for i in range(L,R+1):\n",
    "        output.append(prime_number(num = ('{0:08b}'.format(i)).count('1')))\n",
    "    print(sum(output))\n",
    "        "
   ]
  },
  {
   "cell_type": "code",
   "execution_count": 29,
   "metadata": {},
   "outputs": [
    {
     "name": "stdout",
     "output_type": "stream",
     "text": [
      "5\n",
      "6\n",
      "5\n",
      "6\n",
      "6\n",
      "7\n",
      "4\n",
      "5\n",
      "5\n",
      "6\n",
      "5\n",
      "6\n",
      "6\n",
      "7\n",
      "5\n",
      "6\n",
      "6\n",
      "7\n",
      "6\n",
      "7\n",
      "7\n",
      "8\n",
      "4\n",
      "5\n",
      "5\n",
      "6\n",
      "5\n",
      "6\n",
      "6\n",
      "7\n",
      "5\n",
      "6\n",
      "6\n",
      "7\n",
      "6\n",
      "7\n",
      "7\n",
      "8\n",
      "5\n",
      "6\n",
      "6\n",
      "7\n",
      "6\n",
      "7\n",
      "7\n",
      "8\n",
      "6\n",
      "23\n"
     ]
    }
   ],
   "source": [
    "binary(L=842,R=888)\n"
   ]
  },
  {
   "cell_type": "code",
   "execution_count": null,
   "metadata": {},
   "outputs": [],
   "source": []
  }
 ],
 "metadata": {
  "kernelspec": {
   "display_name": "Python 3",
   "language": "python",
   "name": "python3"
  },
  "language_info": {
   "codemirror_mode": {
    "name": "ipython",
    "version": 3
   },
   "file_extension": ".py",
   "mimetype": "text/x-python",
   "name": "python",
   "nbconvert_exporter": "python",
   "pygments_lexer": "ipython3",
   "version": "3.7.0"
  }
 },
 "nbformat": 4,
 "nbformat_minor": 2
}
