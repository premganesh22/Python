{
 "cells": [
  {
   "cell_type": "markdown",
   "metadata": {},
   "source": [
    "# [Shortest Distance to a Character](https://leetcode.com/problems/shortest-distance-to-a-character/)\n",
    "\n",
    "Given a string S and a character C, return an array of integers representing the shortest distance from the character C in the string.\n",
    "\n",
    "\n",
    "**Example 1:**\n",
    "\n",
    ">Input: S = \"loveleetcode\", C = 'e'\n",
    "\n",
    ">Output: [3, 2, 1, 0, 1, 0, 0, 1, 2, 2, 1, 0]\n",
    "\n",
    "\n",
    "\n"
   ]
  },
  {
   "cell_type": "code",
   "execution_count": 45,
   "metadata": {},
   "outputs": [],
   "source": [
    "def sortest_distance(S='', C = ''):\n",
    "    #Find the location on C\n",
    "    location = [i for i in range(len(S)) if S[i] == C]\n",
    "    output = []\n",
    "    index = 0\n",
    "    for i in range(len(S)):\n",
    "        if S[i] == C:\n",
    "            output.append(0)\n",
    "            if index < len(location)-1:\n",
    "                index+=1\n",
    "        else:\n",
    "            if (index == 0) or (len(location) == 1):\n",
    "                output.append(abs(location[index] - i))\n",
    "            else:\n",
    "                output.append(min(abs(location[index]-i),abs(i-location[index-1])))\n",
    "                \n",
    "    return output\n",
    "        "
   ]
  },
  {
   "cell_type": "code",
   "execution_count": 46,
   "metadata": {},
   "outputs": [
    {
     "data": {
      "text/plain": [
       "[3, 2, 1, 0, 1, 0, 0, 1, 2, 2, 1, 0]"
      ]
     },
     "execution_count": 46,
     "metadata": {},
     "output_type": "execute_result"
    }
   ],
   "source": [
    "sortest_distance(S=\"loveleetcode\",C='e')"
   ]
  },
  {
   "cell_type": "code",
   "execution_count": null,
   "metadata": {},
   "outputs": [],
   "source": []
  }
 ],
 "metadata": {
  "kernelspec": {
   "display_name": "Python 3",
   "language": "python",
   "name": "python3"
  },
  "language_info": {
   "codemirror_mode": {
    "name": "ipython",
    "version": 3
   },
   "file_extension": ".py",
   "mimetype": "text/x-python",
   "name": "python",
   "nbconvert_exporter": "python",
   "pygments_lexer": "ipython3",
   "version": "3.7.0"
  }
 },
 "nbformat": 4,
 "nbformat_minor": 2
}
