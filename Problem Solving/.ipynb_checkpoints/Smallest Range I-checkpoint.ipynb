{
 "cells": [
  {
   "cell_type": "markdown",
   "metadata": {},
   "source": [
    "# [Smallest Range I](https://leetcode.com/problems/smallest-range-i/)\n",
    "\n",
    "Given an array A of integers, for each integer A[i] we may choose any x with -K <= x <= K, and add x to A[i].\n",
    "\n",
    "After this process, we have some array B.\n",
    "\n",
    "Return the smallest possible difference between the maximum value of B and the minimum value of B.\n",
    "\n",
    "**Example 1:**\n",
    "\n",
    ">Input: A = [1,3,6], K = 3\n",
    "\n",
    ">Output: 0\n",
    "\n",
    ">Explanation: B = [3,3,3] or B = [4,4,4]\n",
    "\n",
    "**Example 2:**\n",
    "\n",
    ">Input: A = [0,10], K = 2\n",
    "\n",
    ">Output: 6\n",
    "\n",
    ">Explanation: B = [2,8]\n"
   ]
  },
  {
   "cell_type": "code",
   "execution_count": 4,
   "metadata": {},
   "outputs": [],
   "source": [
    "def smallest_range(A = [], k = 0):\n",
    "    minimum = min(A)\n",
    "    maximum = max(A)\n",
    "    \n",
    "    if minimum+k >= maximum-k:\n",
    "        return 0\n",
    "    else:\n",
    "        return (maximum-k)-(minimum+k)"
   ]
  },
  {
   "cell_type": "code",
   "execution_count": 3,
   "metadata": {},
   "outputs": [
    {
     "data": {
      "text/plain": [
       "6"
      ]
     },
     "execution_count": 3,
     "metadata": {},
     "output_type": "execute_result"
    }
   ],
   "source": [
    "smallest_range(A=[0,10],k=2)"
   ]
  }
 ],
 "metadata": {
  "kernelspec": {
   "display_name": "Python 3",
   "language": "python",
   "name": "python3"
  },
  "language_info": {
   "codemirror_mode": {
    "name": "ipython",
    "version": 3
   },
   "file_extension": ".py",
   "mimetype": "text/x-python",
   "name": "python",
   "nbconvert_exporter": "python",
   "pygments_lexer": "ipython3",
   "version": "3.7.0"
  }
 },
 "nbformat": 4,
 "nbformat_minor": 2
}
