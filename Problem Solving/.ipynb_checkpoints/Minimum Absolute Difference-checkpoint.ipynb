{
 "cells": [
  {
   "cell_type": "markdown",
   "metadata": {},
   "source": [
    "# [Minimum Absolute Difference](https://leetcode.com/problems/minimum-absolute-difference/)\n",
    "\n",
    "Given an array of distinct integers arr, find all pairs of elements with the minimum absolute difference of any two elements. \n",
    "\n",
    "Return a list of pairs in ascending order(with respect to pairs), each pair [a, b] follows\n",
    "\n",
    "> a, b are from arr\n",
    "\n",
    "> a < b\n",
    "\n",
    "> b - a equals to the minimum absolute difference of any two elements in arr\n",
    "\n",
    "**Example 1:**\n",
    "\n",
    "> Input: arr = [4,2,1,3]\n",
    "\n",
    "> Output: [[1,2],[2,3],[3,4]]\n",
    "\n",
    "> Explanation: The minimum absolute difference is 1. List all pairs with difference equal to 1 in ascending order.\n",
    "\n",
    "**Example 2:**\n",
    "\n",
    "> Input: arr = [1,3,6,10,15]\n",
    "\n",
    "> Output: [[1,3]]\n",
    "\n"
   ]
  },
  {
   "cell_type": "code",
   "execution_count": 58,
   "metadata": {},
   "outputs": [],
   "source": [
    "def minimum_absolute_diff(integerList = []):\n",
    "    #Sort the list to decending order\n",
    "    integerList.sort()\n",
    "    output = []\n",
    "    minimum = abs(integerList[0]-integerList[1])\n",
    "    for num in range(len(integerList)-1):\n",
    "        diff = abs(integerList[num]-integerList[num+1])\n",
    "        if diff<minimum:\n",
    "            minimum = diff\n",
    "            output = []\n",
    "        if diff==minimum:\n",
    "            output.append(sorted([integerList[num],integerList[num+1]]))\n",
    "    \n",
    "    return sorted(output)"
   ]
  },
  {
   "cell_type": "code",
   "execution_count": 59,
   "metadata": {},
   "outputs": [
    {
     "data": {
      "text/plain": [
       "[[-14, -10], [19, 23], [23, 27]]"
      ]
     },
     "execution_count": 59,
     "metadata": {},
     "output_type": "execute_result"
    }
   ],
   "source": [
    "minimum_absolute_diff(integerList = [3,8,-10,23,19,-4,-14,27])"
   ]
  }
 ],
 "metadata": {
  "kernelspec": {
   "display_name": "Python 3",
   "language": "python",
   "name": "python3"
  },
  "language_info": {
   "codemirror_mode": {
    "name": "ipython",
    "version": 3
   },
   "file_extension": ".py",
   "mimetype": "text/x-python",
   "name": "python",
   "nbconvert_exporter": "python",
   "pygments_lexer": "ipython3",
   "version": "3.7.0"
  }
 },
 "nbformat": 4,
 "nbformat_minor": 2
}
