{
 "cells": [
  {
   "cell_type": "markdown",
   "metadata": {},
   "source": [
    "# [Height Checker](https://leetcode.com/problems/height-checker/)\n",
    "\n",
    "Students are asked to stand in non-decreasing order of heights for an annual photo.\n",
    "\n",
    "Return the minimum number of students not standing in the right positions.  (This is the number of students that must move in order for all students to be standing in non-decreasing order of height.)\n",
    "\n",
    "**Example 1:**\n",
    "\n",
    ">Input: [1,1,4,2,1,3]\n",
    "\n",
    ">Output: 3\n",
    "\n",
    ">Explanation: Students with heights 4, 3 and the last 1 are not standing in the right positions.\n",
    "\n",
    "**Note:**\n",
    "\n",
    ">1. 1 <= heights.length <= 100\n",
    "\n",
    ">2. 1 <= heights[i] <= 100\n"
   ]
  },
  {
   "cell_type": "code",
   "execution_count": 16,
   "metadata": {},
   "outputs": [],
   "source": [
    "def checker(height=[]):\n",
    "    sort = sorted(height)\n",
    "    count=0\n",
    "    for i in range(len(height)):\n",
    "        if not height[i] == sort[i]:\n",
    "            count+=1\n",
    "    return count"
   ]
  },
  {
   "cell_type": "code",
   "execution_count": 17,
   "metadata": {},
   "outputs": [
    {
     "data": {
      "text/plain": [
       "3"
      ]
     },
     "execution_count": 17,
     "metadata": {},
     "output_type": "execute_result"
    }
   ],
   "source": [
    "checker(height=[1,1,4,2,1,3])"
   ]
  }
 ],
 "metadata": {
  "kernelspec": {
   "display_name": "Python 3",
   "language": "python",
   "name": "python3"
  },
  "language_info": {
   "codemirror_mode": {
    "name": "ipython",
    "version": 3
   },
   "file_extension": ".py",
   "mimetype": "text/x-python",
   "name": "python",
   "nbconvert_exporter": "python",
   "pygments_lexer": "ipython3",
   "version": "3.7.0"
  }
 },
 "nbformat": 4,
 "nbformat_minor": 2
}
