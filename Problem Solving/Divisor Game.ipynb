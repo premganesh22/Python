{
 "cells": [
  {
   "cell_type": "markdown",
   "metadata": {},
   "source": [
    "# [Divisor Game](https://leetcode.com/problems/divisor-game/)\n",
    "\n",
    "Alice and Bob take turns playing a game, with Alice starting first.\n",
    "\n",
    "Initially, there is a number N on the chalkboard.  On each player's turn, that player makes a move consisting of:\n",
    "\n",
    ">Choosing any x with 0 < x < N and N % x == 0.\n",
    "\n",
    ">Replacing the number N on the chalkboard with N - x.\n",
    "\n",
    "Also, if a player cannot make a move, they lose the game.\n",
    "\n",
    "Return True if and only if Alice wins the game, assuming both players play optimally.\n",
    " \n",
    "\n",
    "**Example 1:**\n",
    "\n",
    ">Input: 2\n",
    "\n",
    ">Output: true\n",
    "\n",
    ">Explanation: Alice chooses 1, and Bob has no more moves.\n",
    "\n",
    "**Example 2:**\n",
    "\n",
    ">Input: 3\n",
    "\n",
    ">Output: false\n",
    "\n",
    ">Explanation: Alice chooses 1, Bob chooses 1, and Alice has no more moves.\n",
    "\n"
   ]
  },
  {
   "cell_type": "code",
   "execution_count": 113,
   "metadata": {},
   "outputs": [],
   "source": [
    "def divisor_game(num = 0):\n",
    "    player = 1\n",
    "    while num !=1:\n",
    "        for i in range(1,num):\n",
    "            if num%i == 0:\n",
    "                num = num-i\n",
    "                player+=1\n",
    "                break\n",
    "        \n",
    "    return player%2==0"
   ]
  },
  {
   "cell_type": "code",
   "execution_count": 115,
   "metadata": {},
   "outputs": [
    {
     "data": {
      "text/plain": [
       "True"
      ]
     },
     "execution_count": 115,
     "metadata": {},
     "output_type": "execute_result"
    }
   ],
   "source": [
    "divisor_game(num = 4)"
   ]
  }
 ],
 "metadata": {
  "kernelspec": {
   "display_name": "Python 3",
   "language": "python",
   "name": "python3"
  },
  "language_info": {
   "codemirror_mode": {
    "name": "ipython",
    "version": 3
   },
   "file_extension": ".py",
   "mimetype": "text/x-python",
   "name": "python",
   "nbconvert_exporter": "python",
   "pygments_lexer": "ipython3",
   "version": "3.7.0"
  }
 },
 "nbformat": 4,
 "nbformat_minor": 2
}
