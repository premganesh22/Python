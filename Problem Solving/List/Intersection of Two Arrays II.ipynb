{
 "cells": [
  {
   "cell_type": "markdown",
   "metadata": {},
   "source": [
    "# [Intersection of Two Arrays II](https://leetcode.com/problems/intersection-of-two-arrays-ii/)\n",
    "\n",
    "Given two arrays, write a function to compute their intersection.\n",
    "\n",
    "**Note:**\n",
    "\n",
    ">Your returned answers (both index1 and index2) are not zero-based.\n",
    "\n",
    ">You may assume that each input would have exactly one solution and you may not use the same element twice.\n",
    "\n",
    " \n",
    "**Example 1:**\n",
    "\n",
    ">Input: nums1 = [1,2,2,1], nums2 = [2,2]\n",
    "\n",
    ">Output: [2,2]\n",
    "\n",
    "**Example 2:**\n",
    "\n",
    ">Input: nums1 = [4,9,5], nums2 = [9,4,9,8,4]\n",
    "\n",
    ">Output: [4,9]\n"
   ]
  },
  {
   "cell_type": "code",
   "execution_count": 13,
   "metadata": {},
   "outputs": [],
   "source": [
    "#Solution 1\n",
    "def intersection(nums1 = [],nums2 = []):\n",
    "    output = []\n",
    "    for i in nums1:\n",
    "        if nums2:\n",
    "            for j in range(len(nums2)):\n",
    "                if i == nums2[j]:\n",
    "                    output.append(i)\n",
    "                    del nums2[j]\n",
    "                    break\n",
    "    return output"
   ]
  },
  {
   "cell_type": "code",
   "execution_count": 15,
   "metadata": {},
   "outputs": [
    {
     "data": {
      "text/plain": [
       "[4, 9]"
      ]
     },
     "execution_count": 15,
     "metadata": {},
     "output_type": "execute_result"
    }
   ],
   "source": [
    "intersection(nums1 = [4,9,5], nums2 = [9,4,9,8,4])"
   ]
  },
  {
   "cell_type": "code",
   "execution_count": 18,
   "metadata": {},
   "outputs": [],
   "source": [
    "#Solution 2\n",
    "def intersection1(nums1 = [],nums2 = []):\n",
    "    output = []\n",
    "    dic = {}\n",
    "    for i in nums1:\n",
    "        dic[i] = dic.get(i,0)+1\n",
    "    \n",
    "    for j in nums2:\n",
    "        if j in dic:\n",
    "            if dic[j] > 0:\n",
    "                output.append(j)\n",
    "                dic[j]-=1\n",
    "    return output"
   ]
  },
  {
   "cell_type": "code",
   "execution_count": 19,
   "metadata": {},
   "outputs": [
    {
     "data": {
      "text/plain": [
       "[9, 4]"
      ]
     },
     "execution_count": 19,
     "metadata": {},
     "output_type": "execute_result"
    }
   ],
   "source": [
    "intersection1(nums1 = [4,9,5], nums2 = [9,4,9,8,4])"
   ]
  }
 ],
 "metadata": {
  "kernelspec": {
   "display_name": "Python 3",
   "language": "python",
   "name": "python3"
  },
  "language_info": {
   "codemirror_mode": {
    "name": "ipython",
    "version": 3
   },
   "file_extension": ".py",
   "mimetype": "text/x-python",
   "name": "python",
   "nbconvert_exporter": "python",
   "pygments_lexer": "ipython3",
   "version": "3.7.0"
  }
 },
 "nbformat": 4,
 "nbformat_minor": 2
}
