{
 "cells": [
  {
   "cell_type": "markdown",
   "metadata": {},
   "source": [
    "# [496. Next Greater Element I](https://leetcode.com/problems/next-greater-element-i/)\n",
    "\n",
    "You are given two arrays (without duplicates) nums1 and nums2 where nums1’s elements are subset of nums2. Find all the next greater numbers for nums1's elements in the corresponding places of nums2.\n",
    "\n",
    "The Next Greater Number of a number x in nums1 is the first greater number to its right in nums2. If it does not exist, output -1 for this number.\n",
    " \n",
    "**Example 1:**\n",
    ">Input: nums1 = [4,1,2], nums2 = [1,3,4,2].\n",
    "\n",
    ">Output: [-1,3,-1]\n",
    "\n",
    ">Explanation:    \n",
    "\n",
    ">For number 4 in the first array, you cannot find the next greater number for it in the second array, so output -1.\n",
    "\n",
    ">For number 1 in the first array, the next greater number for it in the second array is 3.\n",
    "\n",
    ">For number 2 in the first array, there is no next greater number for it in the second array, so output -1.\n"
   ]
  },
  {
   "cell_type": "code",
   "execution_count": 6,
   "metadata": {},
   "outputs": [],
   "source": [
    "def next_greater(num1 = [], num2 = []):\n",
    "    length = len(num2)\n",
    "    output = []\n",
    "    for i in num1:\n",
    "        flag = True\n",
    "        index = num2.index(i)\n",
    "        if index < length:\n",
    "            for num in num2[index+1:]:\n",
    "                if num>i:\n",
    "                    output.append(num)\n",
    "                    flag = False\n",
    "                    break\n",
    "            if flag:\n",
    "                output.append(-1)\n",
    "    return output"
   ]
  },
  {
   "cell_type": "code",
   "execution_count": 8,
   "metadata": {},
   "outputs": [
    {
     "data": {
      "text/plain": [
       "[3, -1]"
      ]
     },
     "execution_count": 8,
     "metadata": {},
     "output_type": "execute_result"
    }
   ],
   "source": [
    "next_greater(num1 = [2,4], num2 = [1,2,3,4])"
   ]
  },
  {
   "cell_type": "code",
   "execution_count": 21,
   "metadata": {},
   "outputs": [],
   "source": [
    "def next_greater1(num1 = [], num2 = []):\n",
    "    stack = []\n",
    "    d = {}\n",
    "    for num in num2:\n",
    "        print(stack)\n",
    "        while(stack and stack[-1]<num):\n",
    "            print(d)\n",
    "            c = stack.pop()\n",
    "            d[c] = num\n",
    "            \n",
    "        stack.append(num)\n",
    "    output = []\n",
    "    for num in num1:\n",
    "        if num in d:\n",
    "            output.append(d[num])\n",
    "        else:\n",
    "            output.append(-1)\n",
    "    return output\n"
   ]
  },
  {
   "cell_type": "code",
   "execution_count": 22,
   "metadata": {},
   "outputs": [
    {
     "name": "stdout",
     "output_type": "stream",
     "text": [
      "[]\n",
      "[6]\n",
      "[6, 5]\n",
      "[6, 5, 4]\n",
      "[6, 5, 4, 3]\n",
      "[6, 5, 4, 3, 2]\n",
      "[6, 5, 4, 3, 2, 1]\n",
      "{}\n",
      "{1: 7}\n",
      "{1: 7, 2: 7}\n",
      "{1: 7, 2: 7, 3: 7}\n",
      "{1: 7, 2: 7, 3: 7, 4: 7}\n",
      "{1: 7, 2: 7, 3: 7, 4: 7, 5: 7}\n"
     ]
    },
    {
     "data": {
      "text/plain": [
       "[7, 7, 7, 7, 7]"
      ]
     },
     "execution_count": 22,
     "metadata": {},
     "output_type": "execute_result"
    }
   ],
   "source": [
    "next_greater1(num1 = [1,3,5,2,4], num2 = [6,5,4,3,2,1,7])"
   ]
  },
  {
   "cell_type": "code",
   "execution_count": null,
   "metadata": {},
   "outputs": [],
   "source": []
  }
 ],
 "metadata": {
  "kernelspec": {
   "display_name": "Python 3",
   "language": "python",
   "name": "python3"
  },
  "language_info": {
   "codemirror_mode": {
    "name": "ipython",
    "version": 3
   },
   "file_extension": ".py",
   "mimetype": "text/x-python",
   "name": "python",
   "nbconvert_exporter": "python",
   "pygments_lexer": "ipython3",
   "version": "3.7.0"
  }
 },
 "nbformat": 4,
 "nbformat_minor": 2
}
