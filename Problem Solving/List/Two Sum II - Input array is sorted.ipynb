{
 "cells": [
  {
   "cell_type": "markdown",
   "metadata": {},
   "source": [
    "# [Two Sum II - Input array is sorted](https://leetcode.com/problems/two-sum-ii-input-array-is-sorted/)\n",
    "\n",
    "Given an array of integers that is already sorted in ascending order, find two numbers such that they add up to a specific target number.\n",
    "\n",
    "The function twoSum should return indices of the two numbers such that they add up to the target, where index1 must be less than index2.\n",
    "\n",
    "**Note:**\n",
    "\n",
    ">Your returned answers (both index1 and index2) are not zero-based.\n",
    "\n",
    ">You may assume that each input would have exactly one solution and you may not use the same element twice.\n",
    "\n",
    " \n",
    "**Example 1:**\n",
    "\n",
    ">Input: numbers = [2,7,11,15], target = 9\n",
    "\n",
    ">Output: [1,2]\n",
    "\n",
    ">Explanation: [The sum of 2 and 7 is 9. Therefore index1 = 1, index2 = 2.\n"
   ]
  },
  {
   "cell_type": "code",
   "execution_count": 56,
   "metadata": {},
   "outputs": [],
   "source": [
    "#Solution 1 with O(N) Space complexity and Time complexity \n",
    "def two_sum(number = [], target = 0):\n",
    "        l = 0\n",
    "        r = len(number)-1\n",
    "        while l<r:\n",
    "            if number[l] + number[r] < target:\n",
    "                l+=1\n",
    "            elif number[l] + number[r] > target:\n",
    "                print(\"hI\")\n",
    "                r-=1\n",
    "            else:\n",
    "                return [l+1,r+1]\n"
   ]
  },
  {
   "cell_type": "code",
   "execution_count": 57,
   "metadata": {},
   "outputs": [
    {
     "name": "stdout",
     "output_type": "stream",
     "text": [
      "hI\n",
      "hI\n"
     ]
    },
    {
     "data": {
      "text/plain": [
       "[1, 2]"
      ]
     },
     "execution_count": 57,
     "metadata": {},
     "output_type": "execute_result"
    }
   ],
   "source": [
    "two_sum(number=[2,7,11,15],target = 9)"
   ]
  },
  {
   "cell_type": "code",
   "execution_count": 53,
   "metadata": {},
   "outputs": [
    {
     "data": {
      "text/plain": [
       "[1, 3]"
      ]
     },
     "execution_count": 53,
     "metadata": {},
     "output_type": "execute_result"
    }
   ],
   "source": [
    "two_sum(number=[2,3,4],target = 6)"
   ]
  },
  {
   "cell_type": "code",
   "execution_count": 43,
   "metadata": {},
   "outputs": [],
   "source": [
    "#Solution 2 with O(1) Space complexity and O(N) Time complexity\n",
    "def sortArray1(number = []):\n",
    "    i,odd,even = -1,-1,-1\n",
    "    while(i<len(number)-1):\n",
    "        i+=1\n",
    "        if i%2 == 0:\n",
    "            if not number[i]%2 == 0: #If the index is even and value is not even number.\n",
    "                if even > -1: #Check if even number is already in found in the list. IF yes, swap it.\n",
    "                    number[even],number[i] = number[i],number[even]\n",
    "                    i,even = even,-1 # Start the new iteration from this swap index\n",
    "                else: # if there is not other even number to swap, store this index for future swap\n",
    "                    if not odd > -1:\n",
    "                        odd = i\n",
    "        else:\n",
    "            if not number[i]%2 == 1:\n",
    "                if odd > -1:\n",
    "                    number[i],number[odd] = number[odd],number[i]\n",
    "                    i,odd = odd,-1\n",
    "                else: # if there is not other even number to swap, store this index for future swap\n",
    "                    if not even > -1:\n",
    "                        even = i\n",
    "    return number\n",
    "            "
   ]
  },
  {
   "cell_type": "code",
   "execution_count": 46,
   "metadata": {},
   "outputs": [
    {
     "data": {
      "text/plain": [
       "[2, 1, 6, 5, 10, 9, 4, 3, 8, 7, 12, 11]"
      ]
     },
     "execution_count": 46,
     "metadata": {},
     "output_type": "execute_result"
    }
   ],
   "source": [
    "sortArray1(number=[1,2,3,5,7,9,4,6,8,10,12,11])"
   ]
  },
  {
   "cell_type": "code",
   "execution_count": null,
   "metadata": {},
   "outputs": [],
   "source": []
  }
 ],
 "metadata": {
  "kernelspec": {
   "display_name": "Python 3",
   "language": "python",
   "name": "python3"
  },
  "language_info": {
   "codemirror_mode": {
    "name": "ipython",
    "version": 3
   },
   "file_extension": ".py",
   "mimetype": "text/x-python",
   "name": "python",
   "nbconvert_exporter": "python",
   "pygments_lexer": "ipython3",
   "version": "3.7.0"
  }
 },
 "nbformat": 4,
 "nbformat_minor": 2
}
