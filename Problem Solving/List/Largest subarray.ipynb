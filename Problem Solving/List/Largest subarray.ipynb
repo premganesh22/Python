{
 "cells": [
  {
   "cell_type": "markdown",
   "metadata": {},
   "source": [
    "# Largest Subarray Problem\n",
    "\n",
    "Create an algorithm to find the sum of contiguous subarray within a one-dimensional array of numbers which has the largest sum!\n",
    "\n",
    "**Example 1:**\n",
    "\n",
    ">Input: list = \"[1,-2,3,4,-5,8]\n",
    "\n",
    ">Output: 10\n",
    "\n",
    ">Explanation: 3,4,-5,8 is the largest subarray problem\n"
   ]
  },
  {
   "cell_type": "code",
   "execution_count": 15,
   "metadata": {},
   "outputs": [],
   "source": [
    "def largestSubArray(lista = []):\n",
    "    curMax = lista[0]\n",
    "    globalMax = lista[0]\n",
    "\n",
    "    for num in lista[1:]:\n",
    "        curMax = max(num,curMax+num)\n",
    "        \n",
    "        if curMax > globalMax:\n",
    "            globalMax = curMax\n",
    "    return globalMax"
   ]
  },
  {
   "cell_type": "code",
   "execution_count": 16,
   "metadata": {},
   "outputs": [
    {
     "data": {
      "text/plain": [
       "10"
      ]
     },
     "execution_count": 16,
     "metadata": {},
     "output_type": "execute_result"
    }
   ],
   "source": [
    "largestSubArray(lista=[1,-2,3,4,-5,8])"
   ]
  }
 ],
 "metadata": {
  "kernelspec": {
   "display_name": "Python 3",
   "language": "python",
   "name": "python3"
  },
  "language_info": {
   "codemirror_mode": {
    "name": "ipython",
    "version": 3
   },
   "file_extension": ".py",
   "mimetype": "text/x-python",
   "name": "python",
   "nbconvert_exporter": "python",
   "pygments_lexer": "ipython3",
   "version": "3.7.0"
  }
 },
 "nbformat": 4,
 "nbformat_minor": 2
}
