{
 "cells": [
  {
   "cell_type": "markdown",
   "metadata": {},
   "source": [
    "# [Missing Number](https://leetcode.com/problems/missing-number/)\n",
    "\n",
    "Given an array containing n distinct numbers taken from 0, 1, 2, ..., n, find the one that is missing from the array.\n",
    "\n",
    "\n",
    "\n",
    "**Example 1:**\n",
    "\n",
    ">Input: [9,6,4,2,3,5,7,0,1]\n",
    "\n",
    ">Output: 8\n",
    "\n"
   ]
  },
  {
   "cell_type": "code",
   "execution_count": 1,
   "metadata": {},
   "outputs": [],
   "source": [
    "def missing_number(nums = ['']):\n",
    "    nums.sort()\n",
    "    if nums[-1] != len(nums):\n",
    "        return len(nums)\n",
    "    if nums[0] != 0:\n",
    "        return 0\n",
    "    \n",
    "    for i in range(1,len(nums)+1):\n",
    "        expectedNum = nums[i-1] + 1\n",
    "        if nums[i] != expectedNum:\n",
    "            return expectedNum"
   ]
  },
  {
   "cell_type": "code",
   "execution_count": 4,
   "metadata": {},
   "outputs": [
    {
     "data": {
      "text/plain": [
       "8"
      ]
     },
     "execution_count": 4,
     "metadata": {},
     "output_type": "execute_result"
    }
   ],
   "source": [
    "missing_number(nums = [9,6,4,2,3,5,7,0,1])"
   ]
  },
  {
   "cell_type": "code",
   "execution_count": null,
   "metadata": {},
   "outputs": [],
   "source": []
  }
 ],
 "metadata": {
  "kernelspec": {
   "display_name": "Python 3",
   "language": "python",
   "name": "python3"
  },
  "language_info": {
   "codemirror_mode": {
    "name": "ipython",
    "version": 3
   },
   "file_extension": ".py",
   "mimetype": "text/x-python",
   "name": "python",
   "nbconvert_exporter": "python",
   "pygments_lexer": "ipython3",
   "version": "3.7.0"
  }
 },
 "nbformat": 4,
 "nbformat_minor": 2
}
