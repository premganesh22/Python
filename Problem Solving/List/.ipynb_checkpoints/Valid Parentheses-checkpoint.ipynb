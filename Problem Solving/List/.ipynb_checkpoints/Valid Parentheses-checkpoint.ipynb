{
 "cells": [
  {
   "cell_type": "markdown",
   "metadata": {},
   "source": [
    "# [Minimum number of Parentheses to be added to make it valid](https://www.geeksforgeeks.org/minimum-number-of-parentheses-to-be-added-to-make-it-valid/)\n",
    "\n",
    "Given a string containing just the characters '(', ')', '{', '}', '[' and ']', determine if the input string is valid.\n",
    "\n",
    "An input string is valid if:\n",
    "\n",
    "> Open brackets must be closed by the same type of brackets.\n",
    "\n",
    "> Open brackets must be closed in the correct order.\n",
    "\n",
    "**Note** that an empty string is also considered valid.\n",
    "\n",
    "**Example 1:**\n",
    "\n",
    ">Input: str = \"())\"\n",
    "\n",
    ">Output: 1\n",
    "\n",
    ">Explanation: One '(' is required at beginning.\n",
    "\n",
    "**Example 2:**\n",
    "\n",
    ">Input: str = \"(((\"\n",
    "\n",
    ">Output: 3\n",
    "\n",
    ">Explanation: Three ')' is required at end.\n",
    "\n"
   ]
  },
  {
   "cell_type": "code",
   "execution_count": 10,
   "metadata": {},
   "outputs": [],
   "source": [
    "def valid_parentheses(string = ''):\n",
    "    count = 0\n",
    "    for s in string:\n",
    "        if s == \"(\":\n",
    "            count+=1\n",
    "        else:\n",
    "            count-=1\n",
    "    if count > 0:\n",
    "        return f'{count} more \")\"\" is required'\n",
    "    else:\n",
    "        return f'{abs(count)} more \"(\"\" is required'"
   ]
  },
  {
   "cell_type": "code",
   "execution_count": 12,
   "metadata": {},
   "outputs": [
    {
     "data": {
      "text/plain": [
       "'1 more \"(\"\" is required'"
      ]
     },
     "execution_count": 12,
     "metadata": {},
     "output_type": "execute_result"
    }
   ],
   "source": [
    "valid_parentheses(string=\"((())))\")"
   ]
  }
 ],
 "metadata": {
  "kernelspec": {
   "display_name": "Python 3",
   "language": "python",
   "name": "python3"
  },
  "language_info": {
   "codemirror_mode": {
    "name": "ipython",
    "version": 3
   },
   "file_extension": ".py",
   "mimetype": "text/x-python",
   "name": "python",
   "nbconvert_exporter": "python",
   "pygments_lexer": "ipython3",
   "version": "3.7.0"
  }
 },
 "nbformat": 4,
 "nbformat_minor": 2
}
