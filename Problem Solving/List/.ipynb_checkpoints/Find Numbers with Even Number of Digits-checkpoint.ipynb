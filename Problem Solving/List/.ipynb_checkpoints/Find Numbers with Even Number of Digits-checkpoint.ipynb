{
 "cells": [
  {
   "cell_type": "markdown",
   "metadata": {},
   "source": [
    "# [Find Numbers with Even Number of Digits](https://leetcode.com/problems/find-numbers-with-even-number-of-digits/)\n",
    "\n",
    "Given an array nums of integers, return how many of them contain an even number of digits.\n",
    " \n",
    "\n",
    "**Note:**\n",
    "\n",
    ">Your returned answers (both index1 and index2) are not zero-based.\n",
    "\n",
    ">You may assume that each input would have exactly one solution and you may not use the same element twice.\n",
    "\n",
    " \n",
    "**Example 1:**\n",
    "\n",
    ">Input: nums = [555,901,482,1771]\n",
    "\n",
    ">Output: 1 \n",
    "\n",
    ">Explanation: Only 1771 contains an even number of digits.\n"
   ]
  },
  {
   "cell_type": "code",
   "execution_count": 56,
   "metadata": {},
   "outputs": [],
   "source": [
    "#Solution 1 with O(N) Space complexity and Time complexity \n",
    "def find_num():\n",
    "    \n"
   ]
  }
 ],
 "metadata": {
  "kernelspec": {
   "display_name": "Python 3",
   "language": "python",
   "name": "python3"
  },
  "language_info": {
   "codemirror_mode": {
    "name": "ipython",
    "version": 3
   },
   "file_extension": ".py",
   "mimetype": "text/x-python",
   "name": "python",
   "nbconvert_exporter": "python",
   "pygments_lexer": "ipython3",
   "version": "3.7.0"
  }
 },
 "nbformat": 4,
 "nbformat_minor": 2
}
