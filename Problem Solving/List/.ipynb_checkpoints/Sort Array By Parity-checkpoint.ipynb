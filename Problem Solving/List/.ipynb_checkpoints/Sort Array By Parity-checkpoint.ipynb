{
 "cells": [
  {
   "cell_type": "markdown",
   "metadata": {},
   "source": [
    "# [Sort Array By Parity](https://leetcode.com/problems/sort-array-by-parity/)\n",
    "\n",
    "Given an array A of non-negative integers, return an array consisting of all the even elements of A, followed by all the odd elements of A.\n",
    "\n",
    "You may return any answer array that satisfies this condition.\n",
    "\n",
    "**Example 1:**\n",
    "\n",
    ">Input: [3,1,2,4]\n",
    "\n",
    ">Output: [2,4,3,1]\n",
    "\n",
    ">Explanation: The outputs [4,2,3,1], [2,4,1,3], and [4,2,1,3] would also be accepted.\n"
   ]
  },
  {
   "cell_type": "code",
   "execution_count": 16,
   "metadata": {},
   "outputs": [],
   "source": [
    "#Solution 1 with O(N) Space complexity and Time complexity \n",
    "def sortArray(number = []):\n",
    "    start = 0\n",
    "    end = le"
   ]
  },
  {
   "cell_type": "code",
   "execution_count": 17,
   "metadata": {},
   "outputs": [
    {
     "data": {
      "text/plain": [
       "[2, 1, 4, 3, 6, 5, 8, 7, 10, 9, 12, 11]"
      ]
     },
     "execution_count": 17,
     "metadata": {},
     "output_type": "execute_result"
    }
   ],
   "source": [
    "sortArray(number=[1,2,3,5,7,9,4,6,8,10,12,11])"
   ]
  },
  {
   "cell_type": "code",
   "execution_count": 43,
   "metadata": {},
   "outputs": [],
   "source": [
    "#Solution 2 with O(1) Space complexity and O(N) Time complexity\n",
    "def sortArray1(number = []):\n",
    "    i,odd,even = -1,-1,-1\n",
    "    while(i<len(number)-1):\n",
    "        i+=1\n",
    "        if i%2 == 0:\n",
    "            if not number[i]%2 == 0: #If the index is even and value is not even number.\n",
    "                if even > -1: #Check if even number is already in found in the list. IF yes, swap it.\n",
    "                    number[even],number[i] = number[i],number[even]\n",
    "                    i,even = even,-1 # Start the new iteration from this swap index\n",
    "                else: # if there is not other even number to swap, store this index for future swap\n",
    "                    if not odd > -1:\n",
    "                        odd = i\n",
    "        else:\n",
    "            if not number[i]%2 == 1:\n",
    "                if odd > -1:\n",
    "                    number[i],number[odd] = number[odd],number[i]\n",
    "                    i,odd = odd,-1\n",
    "                else: # if there is not other even number to swap, store this index for future swap\n",
    "                    if not even > -1:\n",
    "                        even = i\n",
    "    return number\n",
    "            "
   ]
  },
  {
   "cell_type": "code",
   "execution_count": 46,
   "metadata": {},
   "outputs": [
    {
     "data": {
      "text/plain": [
       "[2, 1, 6, 5, 10, 9, 4, 3, 8, 7, 12, 11]"
      ]
     },
     "execution_count": 46,
     "metadata": {},
     "output_type": "execute_result"
    }
   ],
   "source": [
    "sortArray1(number=[1,2,3,5,7,9,4,6,8,10,12,11])"
   ]
  },
  {
   "cell_type": "code",
   "execution_count": null,
   "metadata": {},
   "outputs": [],
   "source": []
  }
 ],
 "metadata": {
  "kernelspec": {
   "display_name": "Python 3",
   "language": "python",
   "name": "python3"
  },
  "language_info": {
   "codemirror_mode": {
    "name": "ipython",
    "version": 3
   },
   "file_extension": ".py",
   "mimetype": "text/x-python",
   "name": "python",
   "nbconvert_exporter": "python",
   "pygments_lexer": "ipython3",
   "version": "3.7.0"
  }
 },
 "nbformat": 4,
 "nbformat_minor": 2
}
