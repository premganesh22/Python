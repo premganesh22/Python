{
 "cells": [
  {
   "cell_type": "markdown",
   "metadata": {},
   "source": [
    "# [496. Next Greater Element I](https://leetcode.com/problems/next-greater-element-i/)\n",
    "\n",
    "You are given two arrays (without duplicates) nums1 and nums2 where nums1’s elements are subset of nums2. Find all the next greater numbers for nums1's elements in the corresponding places of nums2.\n",
    "\n",
    "The Next Greater Number of a number x in nums1 is the first greater number to its right in nums2. If it does not exist, output -1 for this number.\n",
    " \n",
    "**Example 1:**\n",
    ">Input: nums1 = [4,1,2], nums2 = [1,3,4,2].\n",
    "\n",
    ">Output: [-1,3,-1]\n",
    "\n",
    ">Explanation:    \n",
    "\n",
    ">For number 4 in the first array, you cannot find the next greater number for it in the second array, so output -1.\n",
    "\n",
    ">For number 1 in the first array, the next greater number for it in the second array is 3.\n",
    "\n",
    ">For number 2 in the first array, there is no next greater number for it in the second array, so output -1.\n"
   ]
  },
  {
   "cell_type": "code",
   "execution_count": 15,
   "metadata": {},
   "outputs": [],
   "source": [
    "def stone(lista = []):\n",
    "    \n",
    "    while(len(lista) > 1):\n",
    "        lista.sort()\n",
    "        print(lista)\n",
    "        if lista[-1] == lista[-2]:\n",
    "            lista.pop()\n",
    "            lista.pop()\n",
    "        else:\n",
    "            lista[-2] = lista[-1]-lista[-2]\n",
    "            del lista[-1]\n",
    "    return lista[0] if len(lista) == 1 else 0"
   ]
  },
  {
   "cell_type": "code",
   "execution_count": 16,
   "metadata": {},
   "outputs": [
    {
     "name": "stdout",
     "output_type": "stream",
     "text": [
      "[1, 1, 2, 4, 7, 8]\n",
      "[1, 1, 1, 2, 4]\n",
      "[1, 1, 1, 2]\n",
      "[1, 1, 1]\n"
     ]
    },
    {
     "data": {
      "text/plain": [
       "1"
      ]
     },
     "execution_count": 16,
     "metadata": {},
     "output_type": "execute_result"
    }
   ],
   "source": [
    "stone(lista=[2,7,4,1,8,1])"
   ]
  },
  {
   "cell_type": "code",
   "execution_count": 17,
   "metadata": {},
   "outputs": [],
   "source": [
    "def stone1(lista = []):\n",
    "    while(len(lista) > 1):\n",
    "        fmax = max(lista)\n",
    "        lista.remove(fmax)\n",
    "        smax = max(lista)\n",
    "        lista.remove(smax)\n",
    "        dif = fmax-smax\n",
    "        if dif>0:\n",
    "            lista.append(dif)\n",
    "    return lista[0] if len(lista) == 1 else 0"
   ]
  },
  {
   "cell_type": "code",
   "execution_count": 18,
   "metadata": {},
   "outputs": [
    {
     "data": {
      "text/plain": [
       "1"
      ]
     },
     "execution_count": 18,
     "metadata": {},
     "output_type": "execute_result"
    }
   ],
   "source": [
    "stone1(lista=[2,7,4,1,8,1])"
   ]
  },
  {
   "cell_type": "code",
   "execution_count": 2,
   "metadata": {},
   "outputs": [],
   "source": [
    "def test(stns = []):\n",
    "        while(len(stns)>=2):\n",
    "            stns = sorted(stns)\n",
    "            print(\"sorted at beginning:\",stns)\n",
    "            i  = len(stns)-1\n",
    "            val = 0\n",
    "            while(i>=1):\n",
    "                val = stns[i] - stns[i-1]\n",
    "                val = abs(val)\n",
    "                print(\"stns[i], stns[i-1]\",stns[i], stns[i-1])\n",
    "                print(\"val:\",val)\n",
    "                if(val == 0):\n",
    "                    del stns[i]\n",
    "                else:\n",
    "                    stns[i] = val\n",
    "                del stns[i]\n",
    "                print(\"stns now: i now:\",stns, i)\n",
    "                i -= 2\n",
    "\n",
    "            print(\"Final stns:\",stns)\n",
    "            exit()\n",
    "\n",
    "        if(len(stns)==1):\n",
    "            print(stns[0])\n",
    "        else:\n",
    "            print(\"0\")\n"
   ]
  },
  {
   "cell_type": "code",
   "execution_count": 3,
   "metadata": {},
   "outputs": [
    {
     "name": "stdout",
     "output_type": "stream",
     "text": [
      "sorted at beginning: [45, 46, 51, 66, 71, 73, 106, 157, 187, 212, 283, 303, 316, 398, 405, 425, 464, 477, 508, 590, 600, 604, 771, 828, 859, 869, 924, 926, 982, 992]\n",
      "stns[i], stns[i-1] 992 982\n",
      "val: 10\n",
      "stns now: i now: [45, 46, 51, 66, 71, 73, 106, 157, 187, 212, 283, 303, 316, 398, 405, 425, 464, 477, 508, 590, 600, 604, 771, 828, 859, 869, 924, 926, 982] 29\n",
      "stns[i], stns[i-1] 926 924\n",
      "val: 2\n",
      "stns now: i now: [45, 46, 51, 66, 71, 73, 106, 157, 187, 212, 283, 303, 316, 398, 405, 425, 464, 477, 508, 590, 600, 604, 771, 828, 859, 869, 924, 982] 27\n",
      "stns[i], stns[i-1] 869 859\n",
      "val: 10\n",
      "stns now: i now: [45, 46, 51, 66, 71, 73, 106, 157, 187, 212, 283, 303, 316, 398, 405, 425, 464, 477, 508, 590, 600, 604, 771, 828, 859, 924, 982] 25\n",
      "stns[i], stns[i-1] 828 771\n",
      "val: 57\n",
      "stns now: i now: [45, 46, 51, 66, 71, 73, 106, 157, 187, 212, 283, 303, 316, 398, 405, 425, 464, 477, 508, 590, 600, 604, 771, 859, 924, 982] 23\n",
      "stns[i], stns[i-1] 604 600\n",
      "val: 4\n",
      "stns now: i now: [45, 46, 51, 66, 71, 73, 106, 157, 187, 212, 283, 303, 316, 398, 405, 425, 464, 477, 508, 590, 600, 771, 859, 924, 982] 21\n",
      "stns[i], stns[i-1] 590 508\n",
      "val: 82\n",
      "stns now: i now: [45, 46, 51, 66, 71, 73, 106, 157, 187, 212, 283, 303, 316, 398, 405, 425, 464, 477, 508, 600, 771, 859, 924, 982] 19\n",
      "stns[i], stns[i-1] 477 464\n",
      "val: 13\n",
      "stns now: i now: [45, 46, 51, 66, 71, 73, 106, 157, 187, 212, 283, 303, 316, 398, 405, 425, 464, 508, 600, 771, 859, 924, 982] 17\n",
      "stns[i], stns[i-1] 425 405\n",
      "val: 20\n",
      "stns now: i now: [45, 46, 51, 66, 71, 73, 106, 157, 187, 212, 283, 303, 316, 398, 405, 464, 508, 600, 771, 859, 924, 982] 15\n",
      "stns[i], stns[i-1] 398 316\n",
      "val: 82\n",
      "stns now: i now: [45, 46, 51, 66, 71, 73, 106, 157, 187, 212, 283, 303, 316, 405, 464, 508, 600, 771, 859, 924, 982] 13\n",
      "stns[i], stns[i-1] 303 283\n",
      "val: 20\n",
      "stns now: i now: [45, 46, 51, 66, 71, 73, 106, 157, 187, 212, 283, 316, 405, 464, 508, 600, 771, 859, 924, 982] 11\n",
      "stns[i], stns[i-1] 212 187\n",
      "val: 25\n",
      "stns now: i now: [45, 46, 51, 66, 71, 73, 106, 157, 187, 283, 316, 405, 464, 508, 600, 771, 859, 924, 982] 9\n",
      "stns[i], stns[i-1] 157 106\n",
      "val: 51\n",
      "stns now: i now: [45, 46, 51, 66, 71, 73, 106, 187, 283, 316, 405, 464, 508, 600, 771, 859, 924, 982] 7\n",
      "stns[i], stns[i-1] 73 71\n",
      "val: 2\n",
      "stns now: i now: [45, 46, 51, 66, 71, 106, 187, 283, 316, 405, 464, 508, 600, 771, 859, 924, 982] 5\n",
      "stns[i], stns[i-1] 66 51\n",
      "val: 15\n",
      "stns now: i now: [45, 46, 51, 71, 106, 187, 283, 316, 405, 464, 508, 600, 771, 859, 924, 982] 3\n",
      "stns[i], stns[i-1] 46 45\n",
      "val: 1\n",
      "stns now: i now: [45, 51, 71, 106, 187, 283, 316, 405, 464, 508, 600, 771, 859, 924, 982] 1\n",
      "Final stns: [45, 51, 71, 106, 187, 283, 316, 405, 464, 508, 600, 771, 859, 924, 982]\n",
      "sorted at beginning: [45, 51, 71, 106, 187, 283, 316, 405, 464, 508, 600, 771, 859, 924, 982]\n",
      "stns[i], stns[i-1] 982 924\n",
      "val: 58\n",
      "stns now: i now: [45, 51, 71, 106, 187, 283, 316, 405, 464, 508, 600, 771, 859, 924] 14\n",
      "stns[i], stns[i-1] 859 771\n",
      "val: 88\n",
      "stns now: i now: [45, 51, 71, 106, 187, 283, 316, 405, 464, 508, 600, 771, 924] 12\n",
      "stns[i], stns[i-1] 600 508\n",
      "val: 92\n",
      "stns now: i now: [45, 51, 71, 106, 187, 283, 316, 405, 464, 508, 771, 924] 10\n",
      "stns[i], stns[i-1] 464 405\n",
      "val: 59\n",
      "stns now: i now: [45, 51, 71, 106, 187, 283, 316, 405, 508, 771, 924] 8\n",
      "stns[i], stns[i-1] 316 283\n",
      "val: 33\n",
      "stns now: i now: [45, 51, 71, 106, 187, 283, 405, 508, 771, 924] 6\n",
      "stns[i], stns[i-1] 187 106\n",
      "val: 81\n",
      "stns now: i now: [45, 51, 71, 106, 283, 405, 508, 771, 924] 4\n",
      "stns[i], stns[i-1] 71 51\n",
      "val: 20\n",
      "stns now: i now: [45, 51, 106, 283, 405, 508, 771, 924] 2\n",
      "Final stns: [45, 51, 106, 283, 405, 508, 771, 924]\n",
      "sorted at beginning: [45, 51, 106, 283, 405, 508, 771, 924]\n",
      "stns[i], stns[i-1] 924 771\n",
      "val: 153\n",
      "stns now: i now: [45, 51, 106, 283, 405, 508, 771] 7\n",
      "stns[i], stns[i-1] 508 405\n",
      "val: 103\n",
      "stns now: i now: [45, 51, 106, 283, 405, 771] 5\n",
      "stns[i], stns[i-1] 283 106\n",
      "val: 177\n",
      "stns now: i now: [45, 51, 106, 405, 771] 3\n",
      "stns[i], stns[i-1] 51 45\n",
      "val: 6\n",
      "stns now: i now: [45, 106, 405, 771] 1\n",
      "Final stns: [45, 106, 405, 771]\n",
      "sorted at beginning: [45, 106, 405, 771]\n",
      "stns[i], stns[i-1] 771 405\n",
      "val: 366\n",
      "stns now: i now: [45, 106, 405] 3\n",
      "stns[i], stns[i-1] 106 45\n",
      "val: 61\n",
      "stns now: i now: [45, 405] 1\n",
      "Final stns: [45, 405]\n",
      "sorted at beginning: [45, 405]\n",
      "stns[i], stns[i-1] 405 45\n",
      "val: 360\n",
      "stns now: i now: [45] 1\n",
      "Final stns: [45]\n",
      "45\n"
     ]
    }
   ],
   "source": [
    "test(stns=[316,157,73,106,771,828,46,212,926,604,600,992,71,51,477,869,425,405,859,924,45,187,283,590,303,66,508,982,464,398])"
   ]
  },
  {
   "cell_type": "code",
   "execution_count": null,
   "metadata": {},
   "outputs": [],
   "source": []
  }
 ],
 "metadata": {
  "kernelspec": {
   "display_name": "Python 3",
   "language": "python",
   "name": "python3"
  },
  "language_info": {
   "codemirror_mode": {
    "name": "ipython",
    "version": 3
   },
   "file_extension": ".py",
   "mimetype": "text/x-python",
   "name": "python",
   "nbconvert_exporter": "python",
   "pygments_lexer": "ipython3",
   "version": "3.7.0"
  }
 },
 "nbformat": 4,
 "nbformat_minor": 2
}
