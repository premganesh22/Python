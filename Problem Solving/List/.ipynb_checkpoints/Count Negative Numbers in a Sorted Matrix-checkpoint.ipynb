{
 "cells": [
  {
   "cell_type": "markdown",
   "metadata": {},
   "source": [
    "# [Count Negative Numbers in a Sorted Matrix](https://leetcode.com/problems/count-negative-numbers-in-a-sorted-matrix/)\n",
    "\n",
    "Given a m * n matrix grid which is sorted in non-increasing order both row-wise and column-wise. \n",
    "\n",
    "Return the number of negative numbers in grid.\n",
    "\n",
    " \n",
    "**Example 1:**\n",
    "\n",
    ">Input: [[4,3,2,-1],[3,2,1,-1],[1,1,-1,-2],[-1,-1,-2,-3]]\n",
    "\n",
    ">Output: 8\n",
    "\n",
    ">Explanation: There are 8 negatives number in the matrix.\n",
    "\n",
    "**Note:**\n",
    "\n",
    ">1. 2 <= A.length <= 20000\n",
    ">2. A.length % 2 == 0\n",
    ">3. 0 <= A[i] <= 1000"
   ]
  },
  {
   "cell_type": "code",
   "execution_count": 16,
   "metadata": {},
   "outputs": [],
   "source": [
    "#Solution 1 with O(N) Space complexity and Time complexity \n",
    "def sortArray(number = []):\n",
    "    '''\n",
    "    Create two list for even and odd numbers and merge the list together.\n",
    "    \n",
    "    '''\n",
    "    oddList = []\n",
    "    evenList = []\n",
    "    output = []\n",
    "    for i in number:\n",
    "        if i%2 == 0:\n",
    "            evenList.append(i)\n",
    "        else:\n",
    "            oddList.append(i)\n",
    "    for i,j in zip(evenList,oddList):\n",
    "        output.extend([i,j])\n",
    "    return output"
   ]
  },
  {
   "cell_type": "code",
   "execution_count": 17,
   "metadata": {},
   "outputs": [
    {
     "data": {
      "text/plain": [
       "[2, 1, 4, 3, 6, 5, 8, 7, 10, 9, 12, 11]"
      ]
     },
     "execution_count": 17,
     "metadata": {},
     "output_type": "execute_result"
    }
   ],
   "source": [
    "sortArray(number=[1,2,3,5,7,9,4,6,8,10,12,11])"
   ]
  },
  {
   "cell_type": "code",
   "execution_count": 43,
   "metadata": {},
   "outputs": [],
   "source": [
    "#Solution 2 with O(1) Space complexity and O(N) Time complexity\n",
    "def sortArray1(number = []):\n",
    "    i,odd,even = -1,-1,-1\n",
    "    while(i<len(number)-1):\n",
    "        i+=1\n",
    "        if i%2 == 0:\n",
    "            if not number[i]%2 == 0: #If the index is even and value is not even number.\n",
    "                if even > -1: #Check if even number is already in found in the list. IF yes, swap it.\n",
    "                    number[even],number[i] = number[i],number[even]\n",
    "                    i,even = even,-1 # Start the new iteration from this swap index\n",
    "                else: # if there is not other even number to swap, store this index for future swap\n",
    "                    if not odd > -1:\n",
    "                        odd = i\n",
    "        else:\n",
    "            if not number[i]%2 == 1:\n",
    "                if odd > -1:\n",
    "                    number[i],number[odd] = number[odd],number[i]\n",
    "                    i,odd = odd,-1\n",
    "                else: # if there is not other even number to swap, store this index for future swap\n",
    "                    if not even > -1:\n",
    "                        even = i\n",
    "    return number\n",
    "            "
   ]
  },
  {
   "cell_type": "code",
   "execution_count": 46,
   "metadata": {},
   "outputs": [
    {
     "data": {
      "text/plain": [
       "[2, 1, 6, 5, 10, 9, 4, 3, 8, 7, 12, 11]"
      ]
     },
     "execution_count": 46,
     "metadata": {},
     "output_type": "execute_result"
    }
   ],
   "source": [
    "sortArray1(number=[1,2,3,5,7,9,4,6,8,10,12,11])"
   ]
  },
  {
   "cell_type": "code",
   "execution_count": null,
   "metadata": {},
   "outputs": [],
   "source": []
  }
 ],
 "metadata": {
  "kernelspec": {
   "display_name": "Python 3",
   "language": "python",
   "name": "python3"
  },
  "language_info": {
   "codemirror_mode": {
    "name": "ipython",
    "version": 3
   },
   "file_extension": ".py",
   "mimetype": "text/x-python",
   "name": "python",
   "nbconvert_exporter": "python",
   "pygments_lexer": "ipython3",
   "version": "3.7.0"
  }
 },
 "nbformat": 4,
 "nbformat_minor": 2
}
