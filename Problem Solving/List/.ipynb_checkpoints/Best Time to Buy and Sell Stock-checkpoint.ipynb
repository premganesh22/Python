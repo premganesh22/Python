{
 "cells": [
  {
   "cell_type": "markdown",
   "metadata": {},
   "source": [
    "# [Best Time to Buy and Sell Stock](https://leetcode.com/problems/best-time-to-buy-and-sell-stock/)\n",
    "\n",
    "Say you have an array for which the ith element is the price of a given stock on day i.\n",
    "\n",
    "If you were only permitted to complete at most one transaction (i.e., buy one and sell one share of the stock), design an algorithm to find the maximum profit.\n",
    "\n",
    "Note that you cannot sell a stock before you buy one.\n",
    "\n",
    " \n",
    "**Example 1:**\n",
    "\n",
    ">Input:  [7,1,5,3,6,4]\n",
    "\n",
    ">Output: 5\n",
    "\n",
    ">Explanation: Buy on day 2 (price = 1) and sell on day 5 (price = 6), profit = 6-1 = 5.\n",
    "             Not 7-1 = 6, as selling price needs to be larger than buying price.\n",
    "\n",
    "**Example 2:**\n",
    "\n",
    ">Input:  [7,6,4,3,1]\n",
    "\n",
    ">Output: 0\n",
    "\n",
    ">Explanation: In this case, no transaction is done, i.e. max profit = 0."
   ]
  },
  {
   "cell_type": "code",
   "execution_count": 14,
   "metadata": {},
   "outputs": [],
   "source": [
    "def max_profit1(number = []):\n",
    "    if not number:\n",
    "        return 0\n",
    "    bestProfit, curProfit = 0,0\n",
    "    buy = number[0]\n",
    "    for i in range(1,len(number)):\n",
    "        if number[i] - buy > curProfit:\n",
    "            curProfit = number[i] - buy\n",
    "        else:\n",
    "            if number[i] < buy:\n",
    "                buy = number[i]\n",
    "        if curProfit > bestProfit:\n",
    "            bestProfit = curProfit\n",
    "    return bestProfit"
   ]
  },
  {
   "cell_type": "code",
   "execution_count": 17,
   "metadata": {},
   "outputs": [
    {
     "data": {
      "text/plain": [
       "5"
      ]
     },
     "execution_count": 17,
     "metadata": {},
     "output_type": "execute_result"
    }
   ],
   "source": [
    "max_profit1(number=[7,1,5,3,6,4])"
   ]
  }
 ],
 "metadata": {
  "kernelspec": {
   "display_name": "Python 3",
   "language": "python",
   "name": "python3"
  },
  "language_info": {
   "codemirror_mode": {
    "name": "ipython",
    "version": 3
   },
   "file_extension": ".py",
   "mimetype": "text/x-python",
   "name": "python",
   "nbconvert_exporter": "python",
   "pygments_lexer": "ipython3",
   "version": "3.7.0"
  }
 },
 "nbformat": 4,
 "nbformat_minor": 2
}
