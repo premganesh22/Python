{
 "cells": [
  {
   "cell_type": "markdown",
   "metadata": {},
   "source": [
    "# [884. Uncommon Words from Two Sentences](https://leetcode.com/problems/uncommon-words-from-two-sentences/)\n",
    "\n",
    "We are given two sentences A and B.  (A sentence is a string of space separated words.  Each word consists only of lowercase letters.)\n",
    "\n",
    "A word is uncommon if it appears exactly once in one of the sentences, and does not appear in the other sentence.\n",
    "\n",
    "Return a list of all uncommon words. \n",
    "\n",
    "You may return the list in any order.\n",
    "\n",
    "**Example 1:**\n",
    ">Input: A = \"this apple is sweet\", B = \"this apple is sour\"\n",
    "\n",
    ">Output: [\"sweet\",\"sour\"] \n",
    "\n"
   ]
  },
  {
   "cell_type": "code",
   "execution_count": 6,
   "metadata": {},
   "outputs": [],
   "source": [
    "def next_greater(num1 = [], num2 = []):\n",
    "    length = len(num2)\n",
    "    output = []\n",
    "    for i in num1:\n",
    "        flag = True\n",
    "        index = num2.index(i)\n",
    "        if index < length:\n",
    "            for num in num2[index+1:]:\n",
    "                if num>i:\n",
    "                    output.append(num)\n",
    "                    flag = False\n",
    "                    break\n",
    "            if flag:\n",
    "                output.append(-1)\n",
    "    return output"
   ]
  },
  {
   "cell_type": "code",
   "execution_count": 8,
   "metadata": {},
   "outputs": [
    {
     "data": {
      "text/plain": [
       "[3, -1]"
      ]
     },
     "execution_count": 8,
     "metadata": {},
     "output_type": "execute_result"
    }
   ],
   "source": [
    "next_greater(num1 = [2,4], num2 = [1,2,3,4])"
   ]
  },
  {
   "cell_type": "code",
   "execution_count": 21,
   "metadata": {},
   "outputs": [],
   "source": [
    "def next_greater1(num1 = [], num2 = []):\n",
    "    stack = []\n",
    "    d = {}\n",
    "    for num in num2:\n",
    "        print(stack)\n",
    "        while(stack and stack[-1]<num):\n",
    "            print(d)\n",
    "            c = stack.pop()\n",
    "            d[c] = num\n",
    "            \n",
    "        stack.append(num)\n",
    "    output = []\n",
    "    for num in num1:\n",
    "        if num in d:\n",
    "            output.append(d[num])\n",
    "        else:\n",
    "            output.append(-1)\n",
    "    return output\n"
   ]
  },
  {
   "cell_type": "code",
   "execution_count": 22,
   "metadata": {},
   "outputs": [
    {
     "name": "stdout",
     "output_type": "stream",
     "text": [
      "[]\n",
      "[6]\n",
      "[6, 5]\n",
      "[6, 5, 4]\n",
      "[6, 5, 4, 3]\n",
      "[6, 5, 4, 3, 2]\n",
      "[6, 5, 4, 3, 2, 1]\n",
      "{}\n",
      "{1: 7}\n",
      "{1: 7, 2: 7}\n",
      "{1: 7, 2: 7, 3: 7}\n",
      "{1: 7, 2: 7, 3: 7, 4: 7}\n",
      "{1: 7, 2: 7, 3: 7, 4: 7, 5: 7}\n"
     ]
    },
    {
     "data": {
      "text/plain": [
       "[7, 7, 7, 7, 7]"
      ]
     },
     "execution_count": 22,
     "metadata": {},
     "output_type": "execute_result"
    }
   ],
   "source": [
    "next_greater1(num1 = [1,3,5,2,4], num2 = [6,5,4,3,2,1,7])"
   ]
  },
  {
   "cell_type": "code",
   "execution_count": null,
   "metadata": {},
   "outputs": [],
   "source": []
  }
 ],
 "metadata": {
  "kernelspec": {
   "display_name": "Python 3",
   "language": "python",
   "name": "python3"
  },
  "language_info": {
   "codemirror_mode": {
    "name": "ipython",
    "version": 3
   },
   "file_extension": ".py",
   "mimetype": "text/x-python",
   "name": "python",
   "nbconvert_exporter": "python",
   "pygments_lexer": "ipython3",
   "version": "3.7.0"
  }
 },
 "nbformat": 4,
 "nbformat_minor": 2
}
