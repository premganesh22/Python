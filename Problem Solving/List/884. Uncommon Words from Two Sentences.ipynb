{
 "cells": [
  {
   "cell_type": "markdown",
   "metadata": {},
   "source": [
    "# [884. Uncommon Words from Two Sentences](https://leetcode.com/problems/uncommon-words-from-two-sentences/)\n",
    "\n",
    "We are given two sentences A and B.  (A sentence is a string of space separated words.  Each word consists only of lowercase letters.)\n",
    "\n",
    "A word is uncommon if it appears exactly once in one of the sentences, and does not appear in the other sentence.\n",
    "\n",
    "Return a list of all uncommon words. \n",
    "\n",
    "You may return the list in any order.\n",
    "\n",
    "**Example 1:**\n",
    ">Input: A = \"this apple is sweet\", B = \"this apple is sour\"\n",
    "\n",
    ">Output: [\"sweet\",\"sour\"] \n",
    "\n",
    "\n",
    "**Example 2:**\n",
    ">Input: A = \"apple apple\", B = \"banana\"\n",
    "\n",
    ">Output: [\"banana\"]\n",
    "\n"
   ]
  },
  {
   "cell_type": "code",
   "execution_count": 46,
   "metadata": {},
   "outputs": [],
   "source": [
    "def uncommon(A = \"\", B=\"\"):\n",
    "    X = {}\n",
    "    output = []\n",
    "    for item in A.split(\" \"):\n",
    "        X[item] = X.get(item,0)+1\n",
    "    for item in B.split(\" \"):\n",
    "        X[item] = X.get(item,0)+1\n",
    "    for k,v in X.items():\n",
    "        if v == 1:\n",
    "            output.append(k)\n",
    "    return output\n",
    "    "
   ]
  },
  {
   "cell_type": "code",
   "execution_count": 47,
   "metadata": {},
   "outputs": [
    {
     "data": {
      "text/plain": [
       "['banana']"
      ]
     },
     "execution_count": 47,
     "metadata": {},
     "output_type": "execute_result"
    }
   ],
   "source": [
    "uncommon(A = \"apple apple\", B = \"banana\")"
   ]
  },
  {
   "cell_type": "code",
   "execution_count": null,
   "metadata": {},
   "outputs": [],
   "source": []
  }
 ],
 "metadata": {
  "kernelspec": {
   "display_name": "Python 3",
   "language": "python",
   "name": "python3"
  },
  "language_info": {
   "codemirror_mode": {
    "name": "ipython",
    "version": 3
   },
   "file_extension": ".py",
   "mimetype": "text/x-python",
   "name": "python",
   "nbconvert_exporter": "python",
   "pygments_lexer": "ipython3",
   "version": "3.7.0"
  }
 },
 "nbformat": 4,
 "nbformat_minor": 2
}
