{
 "cells": [
  {
   "cell_type": "markdown",
   "metadata": {},
   "source": [
    "# [Sort Array By Parity](https://leetcode.com/problems/sort-array-by-parity/)\n",
    "\n",
    "Given an array A of non-negative integers, return an array consisting of all the even elements of A, followed by all the odd elements of A.\n",
    "\n",
    "You may return any answer array that satisfies this condition.\n",
    "\n",
    "**Example 1:**\n",
    "\n",
    ">Input: [3,1,2,4]\n",
    "\n",
    ">Output: [2,4,3,1]\n",
    "\n",
    ">Explanation: The outputs [4,2,3,1], [2,4,1,3], and [4,2,1,3] would also be accepted.\n"
   ]
  },
  {
   "cell_type": "code",
   "execution_count": 25,
   "metadata": {},
   "outputs": [],
   "source": [
    "#Solution 1 with O(N) Space complexity and Time complexity \n",
    "def sortArray(number = []):\n",
    "    if len(number) == 1:\n",
    "        return number\n",
    "    start = 0\n",
    "    end = len(number) -1\n",
    "    while(start<=end):\n",
    "        if number[start] %2!=0 and number[end]%2 == 0:\n",
    "            number[start],number[end] = number[end],number[start]\n",
    "            start+=1\n",
    "            end-=1\n",
    "            continue\n",
    "\n",
    "        if number[start] %2 == 0:\n",
    "            start+=1\n",
    "            \n",
    "        if number[end] %2 != 0:\n",
    "            end-=1\n",
    "            \n",
    "    return number"
   ]
  },
  {
   "cell_type": "code",
   "execution_count": 26,
   "metadata": {},
   "outputs": [
    {
     "data": {
      "text/plain": [
       "[4, 2, 1, 3]"
      ]
     },
     "execution_count": 26,
     "metadata": {},
     "output_type": "execute_result"
    }
   ],
   "source": [
    "sortArray(number=[3,1,2,4])"
   ]
  },
  {
   "cell_type": "code",
   "execution_count": null,
   "metadata": {},
   "outputs": [],
   "source": []
  }
 ],
 "metadata": {
  "kernelspec": {
   "display_name": "Python 3",
   "language": "python",
   "name": "python3"
  },
  "language_info": {
   "codemirror_mode": {
    "name": "ipython",
    "version": 3
   },
   "file_extension": ".py",
   "mimetype": "text/x-python",
   "name": "python",
   "nbconvert_exporter": "python",
   "pygments_lexer": "ipython3",
   "version": "3.7.0"
  }
 },
 "nbformat": 4,
 "nbformat_minor": 2
}
