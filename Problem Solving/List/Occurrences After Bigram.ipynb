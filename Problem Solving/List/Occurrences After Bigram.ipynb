{
 "cells": [
  {
   "cell_type": "markdown",
   "metadata": {},
   "source": [
    "# [Occurrences After Bigram](https://leetcode.com/problems/occurrences-after-bigram/)\n",
    "\n",
    "Given words first and second, consider occurrences in some text of the form \"first second third\", where second comes immediately after first, and third comes immediately after second.\n",
    "\n",
    "For each such occurrence, add \"third\" to the answer, and return the answer.\n",
    "\n",
    "**Example 1:**\n",
    "\n",
    ">Input: text = \"alice is a good girl she is a good student\", first = \"a\", second = \"good\"\n",
    "\n",
    ">Output: [\"girl\",\"student\"]\n",
    "\n",
    "**Example 2:**\n",
    "\n",
    ">Input: text = \"we will we will rock you\", first = \"we\", second = \"will\"\n",
    "\n",
    ">Output: [\"we\",\"rock\"]\n"
   ]
  },
  {
   "cell_type": "code",
   "execution_count": 21,
   "metadata": {},
   "outputs": [],
   "source": [
    "def occurrence_after_bigram(text = '',first='',second=''):\n",
    "    charList = text.split()\n",
    "    length = len(charList)-2\n",
    "    i = 0\n",
    "    output = []\n",
    "    while i <= length-1:\n",
    "        if charList[i] == first and charList[i+1] == second:\n",
    "            output.append(charList[i+2])\n",
    "            i+=1    \n",
    "        i+=1\n",
    "    return output\n",
    "\n",
    "\n",
    "def one_liner(text = '',first='',second=''):\n",
    "    return [t for f,s,t in zip(text.split(),text.split()[1:],text.split()[2:]) if f == first and s == second]\n"
   ]
  },
  {
   "cell_type": "code",
   "execution_count": 22,
   "metadata": {},
   "outputs": [
    {
     "data": {
      "text/plain": [
       "['ypkk', 'ypkk']"
      ]
     },
     "execution_count": 22,
     "metadata": {},
     "output_type": "execute_result"
    }
   ],
   "source": [
    "occurrence_after_bigram(text = \"ypkk lnlqhmaohv lnlqhmaohv lnlqhmaohv ypkk ypkk ypkk ypkk ypkk ypkk lnlqhmaohv lnlqhmaohv lnlqhmaohv lnlqhmaohv ypkk ypkk ypkk lnlqhmaohv lnlqhmaohv ypkk\", first = \"lnlqhmaohv\", second = \"ypkk\")"
   ]
  }
 ],
 "metadata": {
  "kernelspec": {
   "display_name": "Python 3",
   "language": "python",
   "name": "python3"
  },
  "language_info": {
   "codemirror_mode": {
    "name": "ipython",
    "version": 3
   },
   "file_extension": ".py",
   "mimetype": "text/x-python",
   "name": "python",
   "nbconvert_exporter": "python",
   "pygments_lexer": "ipython3",
   "version": "3.7.0"
  }
 },
 "nbformat": 4,
 "nbformat_minor": 2
}
