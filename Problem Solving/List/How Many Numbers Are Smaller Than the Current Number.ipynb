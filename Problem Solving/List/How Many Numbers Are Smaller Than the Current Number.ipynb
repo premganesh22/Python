{
 "cells": [
  {
   "cell_type": "markdown",
   "metadata": {},
   "source": [
    "# [How Many Numbers Are Smaller Than the Current Number](https://leetcode.com/problems/how-many-numbers-are-smaller-than-the-current-number/)\n",
    "\n",
    "Given the array nums, for each nums[i] find out how many numbers in the array are smaller than it. That is, for each nums[i] you have to count the number of valid j's such that j != i and nums[j] < nums[i].\n",
    "\n",
    "Return the answer in an array.\n",
    "\n",
    "**Example 1:**\n",
    ">Input: nums = [8,1,2,2,3]\n",
    "\n",
    ">Output: [4,0,1,1,3]\n",
    "\n",
    ">Explanation: \n",
    "\n",
    ">For nums[0]=8 there exist four smaller numbers than it (1, 2, 2 and 3). \n",
    "\n",
    ">For nums[1]=1 does not exist any smaller number than it.\n",
    "\n",
    ">For nums[2]=2 there exist one smaller number than it (1). \n",
    "\n",
    ">For nums[3]=2 there exist one smaller number than it (1). \n",
    "\n",
    ">For nums[4]=3 there exist three smaller numbers than it (1, 2 and 2)."
   ]
  },
  {
   "cell_type": "code",
   "execution_count": 22,
   "metadata": {},
   "outputs": [],
   "source": [
    "[8,1,2,2,3]\n",
    "def count_smaller(nums = []):\n",
    "    output = []\n",
    "    for i in nums:\n",
    "        increment = 0\n",
    "        for j in nums:\n",
    "            if i>j:\n",
    "                increment+=1\n",
    "        output.append(increment)\n",
    "    return output"
   ]
  },
  {
   "cell_type": "code",
   "execution_count": 23,
   "metadata": {},
   "outputs": [
    {
     "data": {
      "text/plain": [
       "[4, 0, 1, 1, 3]"
      ]
     },
     "execution_count": 23,
     "metadata": {},
     "output_type": "execute_result"
    }
   ],
   "source": [
    "count_smaller(nums=[8,1,2,2,3])"
   ]
  },
  {
   "cell_type": "code",
   "execution_count": 28,
   "metadata": {},
   "outputs": [],
   "source": [
    "def count_smaller1(nums = []):\n",
    "    output = []\n",
    "    sorted_list = sorted(nums)\n",
    "    for i in nums:\n",
    "        increment = 0\n",
    "        output.append(sorted_list.index(i))\n",
    "    return output"
   ]
  },
  {
   "cell_type": "code",
   "execution_count": 29,
   "metadata": {},
   "outputs": [
    {
     "data": {
      "text/plain": [
       "[4, 0, 1, 1, 3]"
      ]
     },
     "execution_count": 29,
     "metadata": {},
     "output_type": "execute_result"
    }
   ],
   "source": [
    "count_smaller1(nums=[8,1,2,2,3])"
   ]
  }
 ],
 "metadata": {
  "kernelspec": {
   "display_name": "Python 3",
   "language": "python",
   "name": "python3"
  },
  "language_info": {
   "codemirror_mode": {
    "name": "ipython",
    "version": 3
   },
   "file_extension": ".py",
   "mimetype": "text/x-python",
   "name": "python",
   "nbconvert_exporter": "python",
   "pygments_lexer": "ipython3",
   "version": "3.7.0"
  }
 },
 "nbformat": 4,
 "nbformat_minor": 2
}
