{
 "cells": [
  {
   "cell_type": "markdown",
   "metadata": {},
   "source": [
    "# [Shortest Unsorted Continuous Subarray](https://leetcode.com/problems/shortest-unsorted-continuous-subarray/)\n",
    "\n",
    "Given an integer array, you need to find one continuous subarray that if you only sort this subarray in ascending order, then the whole array will be sorted in ascending order, too.\n",
    "\n",
    "You need to find the shortest such subarray and output its length.\n",
    "\n",
    " \n",
    "**Example 1:**\n",
    "\n",
    ">Input: [2, 6, 4, 8, 10, 9, 15]\n",
    "\n",
    ">Output: 5\n",
    "\n",
    ">Explanation: You need to sort [6, 4, 8, 10, 9] in ascending order to make the whole array sorted in ascending order.\n",
    "\n"
   ]
  },
  {
   "cell_type": "code",
   "execution_count": 47,
   "metadata": {},
   "outputs": [],
   "source": [
    "#Solution 1 with O(N) Space complexity and Time complexity \n",
    "def unsorted_subarray(number = []):\n",
    "    '''\n",
    "    Create two list for even and odd numbers and merge the list together.\n",
    "    \n",
    "    '''\n",
    "    sorted_list = sorted(number)\n",
    "    if sorted_list == number:\n",
    "        return 0\n",
    "    for i in range(len(number)):\n",
    "            if number[i] != sorted_list[i]:\n",
    "                start_index = i\n",
    "                break\n",
    "    for i in range(len(number)-1,-1,-1):\n",
    "        if number[i] != sorted_list[i]:\n",
    "            end_index = i\n",
    "            break\n",
    "    print(end_index,start_index)\n",
    "    return end_index-start_index+1"
   ]
  },
  {
   "cell_type": "code",
   "execution_count": 48,
   "metadata": {},
   "outputs": [
    {
     "name": "stdout",
     "output_type": "stream",
     "text": [
      "2 1\n"
     ]
    },
    {
     "data": {
      "text/plain": [
       "2"
      ]
     },
     "execution_count": 48,
     "metadata": {},
     "output_type": "execute_result"
    }
   ],
   "source": [
    "unsorted_subarray(number=[1,3,2,4,5])"
   ]
  }
 ],
 "metadata": {
  "kernelspec": {
   "display_name": "Python 3",
   "language": "python",
   "name": "python3"
  },
  "language_info": {
   "codemirror_mode": {
    "name": "ipython",
    "version": 3
   },
   "file_extension": ".py",
   "mimetype": "text/x-python",
   "name": "python",
   "nbconvert_exporter": "python",
   "pygments_lexer": "ipython3",
   "version": "3.7.0"
  }
 },
 "nbformat": 4,
 "nbformat_minor": 2
}
