{
 "cells": [
  {
   "cell_type": "code",
   "execution_count": 1,
   "metadata": {},
   "outputs": [],
   "source": [
    "from datetime import datetime,timedelta"
   ]
  },
  {
   "cell_type": "code",
   "execution_count": 8,
   "metadata": {},
   "outputs": [],
   "source": [
    "def hours(hour,minute,second):\n",
    "    if hour <= 10 or hour >= 18 or (hour == 11 and minute <= 44) or (hour == 17 and minute >= 30) :\n",
    "        return 11\n",
    "    else:\n",
    "        if minute >= 57 or (minute == 56 and second > 50):\n",
    "            return hour+1\n",
    "        else:\n",
    "            return hour\n",
    "def minutes(hour,minute,second):\n",
    "    if hour <= 10 or hour >= 18 or (hour == 11 and minute <= 44) or (hour == 17 and minute >= 30):\n",
    "        return 45\n",
    "    else:\n",
    "        if (minute % 3 == 2 and second > 50):\n",
    "            minu = (3 - minute % 3 ) + (minute) + 3\n",
    "            if minu == 60:\n",
    "                return 0\n",
    "            elif minu > 60:\n",
    "                return 3\n",
    "            else:\n",
    "                return minu\n",
    "        else:\n",
    "            minu = (3 - minute % 3 ) + (minute)\n",
    "            if not minu == 60:\n",
    "                return minu\n",
    "            else:\n",
    "                return 0\n"
   ]
  },
  {
   "cell_type": "code",
   "execution_count": 28,
   "metadata": {},
   "outputs": [
    {
     "name": "stdout",
     "output_type": "stream",
     "text": [
      "2020-01-07 11:44:34.721236\n",
      "11 45\n"
     ]
    }
   ],
   "source": [
    "curtime=datetime.today() - timedelta(hours=1, minutes=24)\n",
    "print(curtime)\n",
    "curhour = hours(curtime.hour,curtime.minute,curtime.second)\n",
    "curminute = minutes(curtime.hour,curtime.minute,curtime.second)\n",
    "print(curhour,curminute)"
   ]
  },
  {
   "cell_type": "code",
   "execution_count": 66,
   "metadata": {},
   "outputs": [
    {
     "name": "stdout",
     "output_type": "stream",
     "text": [
      "2020-01-07 11:47:53.747675\n",
      "11 51\n"
     ]
    }
   ],
   "source": [
    "curtime=datetime.today() - timedelta(hours=1, minutes=22)\n",
    "print(curtime)\n",
    "curhour = hours(curtime.hour,curtime.minute,curtime.second)\n",
    "curminute = minutes(curtime.hour,curtime.minute,curtime.second)\n",
    "print(curhour,curminute)"
   ]
  },
  {
   "cell_type": "code",
   "execution_count": null,
   "metadata": {},
   "outputs": [],
   "source": []
  },
  {
   "cell_type": "code",
   "execution_count": null,
   "metadata": {},
   "outputs": [],
   "source": []
  }
 ],
 "metadata": {
  "kernelspec": {
   "display_name": "Python 3",
   "language": "python",
   "name": "python3"
  },
  "language_info": {
   "codemirror_mode": {
    "name": "ipython",
    "version": 3
   },
   "file_extension": ".py",
   "mimetype": "text/x-python",
   "name": "python",
   "nbconvert_exporter": "python",
   "pygments_lexer": "ipython3",
   "version": "3.7.0"
  }
 },
 "nbformat": 4,
 "nbformat_minor": 2
}
