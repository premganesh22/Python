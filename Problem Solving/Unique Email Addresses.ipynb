{
 "cells": [
  {
   "cell_type": "markdown",
   "metadata": {},
   "source": [
    "# [Unique Email Addresses](https://leetcode.com/problems/unique-email-addresses/)\n",
    "\n",
    "Every email consists of a local name and a domain name, separated by the @ sign.\n",
    "\n",
    "For example, in alice@leetcode.com, alice is the local name, and leetcode.com is the domain name.\n",
    "\n",
    "Besides lowercase letters, these emails may contain '.'s or '+'s.\n",
    "\n",
    "If you add periods ('.') between some characters in the local name part of an email address, mail sent there will be forwarded to the same address without dots in the local name.  For example, \"alice.z@leetcode.com\" and \"alicez@leetcode.com\" forward to the same email address.  (Note that this rule does not apply for domain names.)\n",
    "\n",
    "If you add a plus ('+') in the local name, everything after the first plus sign will be ignored. This allows certain emails to be filtered, for example m.y+name@email.com will be forwarded to my@email.com.  (Again, this rule does not apply for domain names.)\n",
    "\n",
    "It is possible to use both of these rules at the same time.\n",
    "\n",
    "Given a list of emails, we send one email to each address in the list.  How many different addresses actually receive mails? \n",
    "\n",
    "**Example 1:**\n",
    "\n",
    ">Input: s = [\"test.email+alex@leetcode.com\",\"test.e.mail+bob.cathy@leetcode.com\",\"testemail+david@lee.tcode.com\"]\n",
    "\n",
    ">Output: 2\n",
    "\n",
    ">Explanation: \"testemail@leetcode.com\" and \"testemail@lee.tcode.com\" actually receive mails"
   ]
  },
  {
   "cell_type": "code",
   "execution_count": 36,
   "metadata": {},
   "outputs": [],
   "source": [
    "def email_check(emailList = []):\n",
    "    output = []\n",
    "    for i in emailList:\n",
    "        split = i.split('@')\n",
    "        string = ''\n",
    "        for j in split[0]:\n",
    "            if j == '.':\n",
    "                pass\n",
    "            elif j == '+':\n",
    "                break\n",
    "            else:\n",
    "                string+=j\n",
    "        output.append(string+'@'+split[1])\n",
    "    return len(set(output))"
   ]
  },
  {
   "cell_type": "code",
   "execution_count": 37,
   "metadata": {},
   "outputs": [
    {
     "name": "stdout",
     "output_type": "stream",
     "text": [
      "2\n",
      "3\n"
     ]
    }
   ],
   "source": [
    "print(email_check(emailList = [\"test.email+alex@leetcode.com\",\"test.e.mail+bob.cathy@leetcode.com\",\"testemail+david@lee.tcode.com\"]))\n",
    "print(email_check(emailList = [\"a@leetcode.com\",\"b@leetcode.com\",\"c@leetcode.com\"]))"
   ]
  },
  {
   "cell_type": "code",
   "execution_count": 38,
   "metadata": {},
   "outputs": [],
   "source": [
    "def email_check1(emailList = []):\n",
    "    output = []\n",
    "    for i in emailList:\n",
    "        split = i.split('@')\n",
    "        \n",
    "        print(split[0])\n",
    "        string = split[0].replace('.','')\n",
    "        print(string)\n",
    "        if string.find('+') > -1:\n",
    "            string = string[:string.find('+')]\n",
    "        print(string)\n",
    "        output.append(string+'@'+split[1])\n",
    "    return len(set(output))"
   ]
  },
  {
   "cell_type": "code",
   "execution_count": 39,
   "metadata": {},
   "outputs": [
    {
     "name": "stdout",
     "output_type": "stream",
     "text": [
      "2\n",
      "3\n"
     ]
    }
   ],
   "source": [
    "print(email_check(emailList = [\"test.email+alex@leetcode.com\",\"test.e.mail+bob.cathy@leetcode.com\",\"testemail+david@lee.tcode.com\"]))\n",
    "print(email_check(emailList = [\"a@leetcode.com\",\"b@leetcode.com\",\"c@leetcode.com\"]))"
   ]
  }
 ],
 "metadata": {
  "kernelspec": {
   "display_name": "Python 3",
   "language": "python",
   "name": "python3"
  },
  "language_info": {
   "codemirror_mode": {
    "name": "ipython",
    "version": 3
   },
   "file_extension": ".py",
   "mimetype": "text/x-python",
   "name": "python",
   "nbconvert_exporter": "python",
   "pygments_lexer": "ipython3",
   "version": "3.7.0"
  }
 },
 "nbformat": 4,
 "nbformat_minor": 2
}
