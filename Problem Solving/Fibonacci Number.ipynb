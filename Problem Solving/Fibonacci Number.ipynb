{
 "cells": [
  {
   "cell_type": "markdown",
   "metadata": {},
   "source": [
    "# [Fibonacci Number](https://leetcode.com/problems/fibonacci-number/)\n",
    "\n",
    "The Fibonacci numbers, commonly denoted F(n) form a sequence, called the Fibonacci sequence, such that each number is the sum of the two preceding ones, starting from 0 and 1. That is,\n",
    "\n",
    ">F(0) = 0,   F(1) = 1\n",
    "\n",
    ">F(N) = F(N - 1) + F(N - 2), for N > 1.\n",
    "\n",
    ">Given N, calculate F(N).\n",
    "\n",
    " \n",
    "**Example 1:**\n",
    "\n",
    ">Input: 2\n",
    "\n",
    ">Output: 1\n",
    "\n",
    ">Explanation: F(2) = F(1) + F(0) = 1 + 0 = 1.\n",
    "\n",
    "**Example 2:**\n",
    "\n",
    ">Input: 3\n",
    "\n",
    ">Output: 2\n",
    "\n",
    ">Explanation: F(3) = F(2) + F(1) = 1 + 1 = 2.\n",
    "\n",
    "**Example 3:**\n",
    "\n",
    ">Input: 4\n",
    "\n",
    ">Output: 3\n",
    "\n",
    ">Explanation: F(4) = F(3) + F(2) = 2 + 1 = 3.\n"
   ]
  },
  {
   "cell_type": "code",
   "execution_count": 39,
   "metadata": {},
   "outputs": [],
   "source": [
    "def fib(num: int):\n",
    "    if num == 0:\n",
    "        return 0\n",
    "    elif num in [1,2]:\n",
    "        return 1\n",
    "    else:\n",
    "        return fib(num-1) + fib(num-2)"
   ]
  },
  {
   "cell_type": "code",
   "execution_count": 41,
   "metadata": {},
   "outputs": [
    {
     "data": {
      "text/plain": [
       "5"
      ]
     },
     "execution_count": 41,
     "metadata": {},
     "output_type": "execute_result"
    }
   ],
   "source": [
    "fib(num=5)"
   ]
  },
  {
   "cell_type": "code",
   "execution_count": 42,
   "metadata": {},
   "outputs": [
    {
     "name": "stdout",
     "output_type": "stream",
     "text": [
      "0\n",
      "1\n",
      "1\n",
      "2\n",
      "3\n",
      "5\n",
      "8\n",
      "13\n",
      "21\n",
      "34\n"
     ]
    }
   ],
   "source": [
    "#To print the sequence\n",
    "for i in range(10):\n",
    "    print(fib(num=i))"
   ]
  }
 ],
 "metadata": {
  "kernelspec": {
   "display_name": "Python 3",
   "language": "python",
   "name": "python3"
  },
  "language_info": {
   "codemirror_mode": {
    "name": "ipython",
    "version": 3
   },
   "file_extension": ".py",
   "mimetype": "text/x-python",
   "name": "python",
   "nbconvert_exporter": "python",
   "pygments_lexer": "ipython3",
   "version": "3.7.0"
  }
 },
 "nbformat": 4,
 "nbformat_minor": 2
}
