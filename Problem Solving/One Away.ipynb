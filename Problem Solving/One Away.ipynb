{
 "cells": [
  {
   "cell_type": "markdown",
   "metadata": {},
   "source": [
    "# One Away\n",
    "\n",
    "There are three types of edits that can be performed on strings: \n",
    ">Insert a character\n",
    "\n",
    ">Remove a character\n",
    "\n",
    ">Replace a character\n",
    "\n",
    "Write a function to check if they are one edit (or zero edit) away.\n",
    "\n",
    "**Example 1:**\n",
    "\n",
    ">Input: s = \"pale\", t = \"ple\" \n",
    "\n",
    ">Output: True\n",
    "\n",
    "**Example 2:**\n",
    "\n",
    ">Input: s = \"pale\", t = \"bake\"\n",
    "\n",
    ">Output: False\n"
   ]
  },
  {
   "cell_type": "code",
   "execution_count": 2,
   "metadata": {},
   "outputs": [],
   "source": [
    "def is_one_away(stringA='',stringB=''):\n",
    "    \n",
    "    # Find lengths of given strings \n",
    "    stringALength = len(stringA)\n",
    "    stringBLength = len(stringB)\n",
    "    \n",
    "    \n",
    "    # If difference between lengths is more than 1, \n",
    "    # then strings can't be at one distance\n",
    "    if abs(stringALength-stringBLength) > 1:\n",
    "        return False\n",
    "    \n",
    "    count = 0 # Count of isEditDistanceOne\n",
    "    i = 0\n",
    "    j = 0\n",
    "    \n",
    "    while i < stringALength and j < stringBLength:\n",
    "        \n",
    "        # If current characters dont match \n",
    "        if stringA[i] != stringB[j]:\n",
    "            #If there is already a mismatch. Return false\n",
    "            if count > 0:\n",
    "                return False\n",
    "                        \n",
    "            if stringALength == stringBLength: # If lengths of both strings is same\n",
    "                i+=1\n",
    "                j+=1\n",
    "                \n",
    "            elif stringALength > stringBLength: # If StringA length is bigger, increment stringA\n",
    "                i+=1\n",
    "            else: # If StringB length is bigger, increment stringB\n",
    "                j+=1\n",
    "                \n",
    "            # Increment count of edits   \n",
    "            count+=1\n",
    "        \n",
    "        # if current characters match\n",
    "        else:\n",
    "            i+=1\n",
    "            j+=1\n",
    "    return True"
   ]
  },
  {
   "cell_type": "code",
   "execution_count": 6,
   "metadata": {},
   "outputs": [
    {
     "name": "stdout",
     "output_type": "stream",
     "text": [
      "True\n",
      "True\n",
      "True\n",
      "True\n",
      "True\n",
      "True\n",
      "False\n",
      "False\n",
      "False\n",
      "False\n",
      "False\n"
     ]
    }
   ],
   "source": [
    "print(is_one_away(stringA=\"abcde\", stringB=\"abcd\"))  # should return True\n",
    "print(is_one_away(stringA=\"abde\",stringB=\"abcde\"))  # should return True\n",
    "print(is_one_away(stringA=\"a\", stringB=\"a\"))  # should return True\n",
    "print(is_one_away(stringA=\"abcdef\", stringB=\"abqdef\"))  # should return True\n",
    "print(is_one_away(stringA=\"abcdef\", stringB=\"abccef\"))  # should return True\n",
    "print(is_one_away(stringA=\"abcdef\", stringB=\"abcde\"))  # should return True\n",
    "print(is_one_away(stringA=\"aaa\", stringB=\"abc\"))  # should return False\n",
    "print(is_one_away(stringA=\"abcde\", stringB=\"abc\"))  # should return False\n",
    "print(is_one_away(stringA=\"abc\", stringB=\"abcde\"))  # should return False\n",
    "print(is_one_away(stringA=\"abc\", stringB=\"bcc\"))  # should return False\n",
    "print(is_one_away(stringA=\"abcd\", stringB=\"aabc\"))  # should return False"
   ]
  },
  {
   "cell_type": "code",
   "execution_count": null,
   "metadata": {},
   "outputs": [],
   "source": []
  }
 ],
 "metadata": {
  "kernelspec": {
   "display_name": "Python 3",
   "language": "python",
   "name": "python3"
  },
  "language_info": {
   "codemirror_mode": {
    "name": "ipython",
    "version": 3
   },
   "file_extension": ".py",
   "mimetype": "text/x-python",
   "name": "python",
   "nbconvert_exporter": "python",
   "pygments_lexer": "ipython3",
   "version": "3.7.0"
  }
 },
 "nbformat": 4,
 "nbformat_minor": 2
}
