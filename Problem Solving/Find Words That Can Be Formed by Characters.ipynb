{
 "cells": [
  {
   "cell_type": "markdown",
   "metadata": {},
   "source": [
    "# [Find Words That Can Be Formed by Characters](https://leetcode.com/problems/find-words-that-can-be-formed-by-characters/)\n",
    "\n",
    "You are given an array of strings words and a string chars.\n",
    "\n",
    "A string is good if it can be formed by characters from chars (each character can only be used once).\n",
    "\n",
    "Return the sum of lengths of all good strings in words.\n",
    "\n",
    "**Example 1:**\n",
    "\n",
    ">Input: words = [\"cat\",\"bt\",\"hat\",\"tree\"], chars = \"atach\"\n",
    " \n",
    ">Output: 6\n",
    " \n",
    ">Explanation: The strings that can be formed are \"cat\" and \"hat\" so the answer is 3 + 3 = 6.\n",
    "\n",
    "**Example 2:**\n",
    "\n",
    ">Input: words = [\"hello\",\"world\",\"leetcode\"], chars = \"welldonehoneyr\"\n",
    "\n",
    ">Output: 10\n",
    "\n",
    ">Explanation: The strings that can be formed are \"hello\" and \"world\" so the answer is 5 + 5 = 10.\n",
    "\n",
    "**Note:**\n",
    "\n",
    ">1. 1 <= words.length <= 1000\n",
    ">2. 1 <= words[i].length, chars.length <= 100\n",
    ">3. All strings contain lowercase English letters only.\n"
   ]
  },
  {
   "cell_type": "code",
   "execution_count": 26,
   "metadata": {},
   "outputs": [],
   "source": [
    "from collections import Counter\n",
    "def countCharacters(words = [], chars = str):\n",
    "    res = 0\n",
    "    aux_dict = Counter(chars)\n",
    "    for word in words:\n",
    "        good = True\n",
    "        for char in word:\n",
    "            if (char not in aux_dict) or (word.count(char) > aux_dict[char]):\n",
    "                good = False\n",
    "                break\n",
    "        if good:\n",
    "            res += len(word)\n",
    "    return res"
   ]
  },
  {
   "cell_type": "code",
   "execution_count": 27,
   "metadata": {},
   "outputs": [
    {
     "name": "stdout",
     "output_type": "stream",
     "text": [
      "hello\n",
      "world\n"
     ]
    },
    {
     "data": {
      "text/plain": [
       "10"
      ]
     },
     "execution_count": 27,
     "metadata": {},
     "output_type": "execute_result"
    }
   ],
   "source": [
    "count_words(words = [\"hello\",\"world\",\"leetcode\"], string = \"welldonehoneyr\")"
   ]
  },
  {
   "cell_type": "code",
   "execution_count": null,
   "metadata": {},
   "outputs": [],
   "source": []
  }
 ],
 "metadata": {
  "kernelspec": {
   "display_name": "Python 3",
   "language": "python",
   "name": "python3"
  },
  "language_info": {
   "codemirror_mode": {
    "name": "ipython",
    "version": 3
   },
   "file_extension": ".py",
   "mimetype": "text/x-python",
   "name": "python",
   "nbconvert_exporter": "python",
   "pygments_lexer": "ipython3",
   "version": "3.7.0"
  }
 },
 "nbformat": 4,
 "nbformat_minor": 2
}
