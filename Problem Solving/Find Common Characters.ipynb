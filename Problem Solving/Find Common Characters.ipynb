{
 "cells": [
  {
   "cell_type": "markdown",
   "metadata": {},
   "source": [
    "# [Find Common Characters](https://leetcode.com/problems/find-common-characters/)\n",
    "\n",
    "Given an array A of strings made only from lowercase letters, return a list of all characters that show up in all strings within the list (including duplicates).  For example, if a character occurs 3 times in all strings but not 4 times, you need to include that character three times in the final answer.\n",
    "\n",
    "You may return the answer in any order.\n",
    "\n",
    "**Example 1:**\n",
    "\n",
    ">Input: [\"bella\",\"label\",\"roller\"]\n",
    "\n",
    ">Output: [\"e\",\"l\",\"l\"]\n",
    "\n",
    "\n",
    "\n",
    "**Example 2:**\n",
    "\n",
    ">Input: [\"cool\",\"lock\",\"cook\"]\n",
    "\n",
    ">Output: [\"c\",\"o\"]\n",
    "\n",
    "\n",
    "\n"
   ]
  },
  {
   "cell_type": "code",
   "execution_count": 21,
   "metadata": {},
   "outputs": [],
   "source": [
    "def find_common(wordList = []):\n",
    "    dic = {}\n",
    "    output = []\n",
    "    for i in wordList[0]:\n",
    "        dic[i] = dic.get(i,0)+1\n",
    "\n",
    "    for item in dic:\n",
    "        for word in wordList[1:]:\n",
    "            if item in word:\n",
    "                count = word.count(item)\n",
    "                if dic[item]>count:\n",
    "                    dic[item] = count\n",
    "            else:\n",
    "                dic[item] = 0\n",
    "\n",
    "    for item in dic:\n",
    "        output.extend(item*dic[item])\n",
    "    return output\n",
    "        "
   ]
  },
  {
   "cell_type": "code",
   "execution_count": 22,
   "metadata": {},
   "outputs": [
    {
     "name": "stdout",
     "output_type": "stream",
     "text": [
      "['e', 'l', 'l']\n"
     ]
    },
    {
     "data": {
      "text/plain": [
       "['c', 'o']"
      ]
     },
     "execution_count": 22,
     "metadata": {},
     "output_type": "execute_result"
    }
   ],
   "source": [
    "print(find_common(wordList = [\"bella\",\"label\",\"roller\"]))\n",
    "find_common(wordList = [\"cool\",\"lock\",\"cook\"])"
   ]
  }
 ],
 "metadata": {
  "kernelspec": {
   "display_name": "Python 3",
   "language": "python",
   "name": "python3"
  },
  "language_info": {
   "codemirror_mode": {
    "name": "ipython",
    "version": 3
   },
   "file_extension": ".py",
   "mimetype": "text/x-python",
   "name": "python",
   "nbconvert_exporter": "python",
   "pygments_lexer": "ipython3",
   "version": "3.7.0"
  }
 },
 "nbformat": 4,
 "nbformat_minor": 2
}
