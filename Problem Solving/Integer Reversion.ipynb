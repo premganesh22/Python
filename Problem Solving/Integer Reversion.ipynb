{
 "cells": [
  {
   "cell_type": "markdown",
   "metadata": {},
   "source": [
    "# Interger Reversion\n",
    "\n",
    "Our task is to design an efficient algorithm to reverse a given integer. For example if the input of the algorithm is 1234 then the output should be 4321.\n",
    "\n"
   ]
  },
  {
   "cell_type": "code",
   "execution_count": 29,
   "metadata": {},
   "outputs": [],
   "source": [
    "def integer(num = 0):\n",
    "    output = 0\n",
    "    while num>0:\n",
    "        remainder = num%10\n",
    "        num = int(num/10)\n",
    "        output= output*10+remainder\n",
    "    return output"
   ]
  },
  {
   "cell_type": "code",
   "execution_count": 30,
   "metadata": {},
   "outputs": [],
   "source": [
    "def oneline(num = 0):\n",
    "    return int(str(num)[::-1])"
   ]
  },
  {
   "cell_type": "code",
   "execution_count": 31,
   "metadata": {},
   "outputs": [
    {
     "name": "stdout",
     "output_type": "stream",
     "text": [
      "4321\n",
      "4321\n",
      "21\n",
      "1\n",
      "1\n"
     ]
    }
   ],
   "source": [
    "print(integer(num = 1234))\n",
    "print(oneline(num = 1234))\n",
    "print(integer(num = 12))\n",
    "print(integer(num = 100))\n",
    "print(oneline(num = 100))"
   ]
  }
 ],
 "metadata": {
  "kernelspec": {
   "display_name": "Python 3",
   "language": "python",
   "name": "python3"
  },
  "language_info": {
   "codemirror_mode": {
    "name": "ipython",
    "version": 3
   },
   "file_extension": ".py",
   "mimetype": "text/x-python",
   "name": "python",
   "nbconvert_exporter": "python",
   "pygments_lexer": "ipython3",
   "version": "3.7.0"
  }
 },
 "nbformat": 4,
 "nbformat_minor": 2
}
