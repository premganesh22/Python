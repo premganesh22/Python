{
 "cells": [
  {
   "cell_type": "markdown",
   "metadata": {},
   "source": [
    "# [First Unique Character in a String](https://leetcode.com/problems/first-unique-character-in-a-string/)\n",
    "\n",
    "Given a string, find the first non-repeating character in it and return it's index. If it doesn't exist, return -1.\n",
    "\n",
    "**Example 1:**\n",
    "\n",
    "> s = \"leetcode\"\n",
    "\n",
    "> return 0.\n",
    "\n",
    "> s = \"loveleetcode\",\n",
    "\n",
    "> return 2.\n",
    "\n",
    "Note: You may assume the string contain only lowercase letters."
   ]
  },
  {
   "cell_type": "code",
   "execution_count": 13,
   "metadata": {},
   "outputs": [],
   "source": [
    "def first_unique_char(string = ''):\n",
    "    string = list(string)\n",
    "    dic = {}\n",
    "    for i in string:\n",
    "        dic[i] = dic.get(i,0)+1\n",
    "    for k,v in dic.items():\n",
    "        if v == 1:\n",
    "            return string.index(k)\n"
   ]
  },
  {
   "cell_type": "code",
   "execution_count": 15,
   "metadata": {},
   "outputs": [
    {
     "data": {
      "text/plain": [
       "2"
      ]
     },
     "execution_count": 15,
     "metadata": {},
     "output_type": "execute_result"
    }
   ],
   "source": [
    "first_unique_char(string=\"loveleetcode\")"
   ]
  }
 ],
 "metadata": {
  "kernelspec": {
   "display_name": "Python 3",
   "language": "python",
   "name": "python3"
  },
  "language_info": {
   "codemirror_mode": {
    "name": "ipython",
    "version": 3
   },
   "file_extension": ".py",
   "mimetype": "text/x-python",
   "name": "python",
   "nbconvert_exporter": "python",
   "pygments_lexer": "ipython3",
   "version": "3.7.0"
  }
 },
 "nbformat": 4,
 "nbformat_minor": 2
}
