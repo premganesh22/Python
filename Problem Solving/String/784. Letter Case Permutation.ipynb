{
 "cells": [
  {
   "cell_type": "markdown",
   "metadata": {},
   "source": [
    "# [Letter Case Permutation](https://leetcode.com/problems/letter-case-permutation/)\n",
    "\n",
    "Given a string S, we can transform every letter individually to be lowercase or uppercase to create another string.  Return a list of all possible strings we could create.\n",
    " \n",
    "**Example 1:**\n",
    "\n",
    ">Input: s = \"Hello\" \n",
    "\n",
    ">Output: \"hello\""
   ]
  },
  {
   "cell_type": "code",
   "execution_count": 23,
   "metadata": {},
   "outputs": [],
   "source": [
    "def to_lower_case(S = \"\"):\n",
    "        res = [S]\n",
    "        for i in range(len(S)):\n",
    "            if S[i].isdigit():\n",
    "                continue\n",
    "            tmp = []\n",
    "          \n",
    "            for r in res:# the growing part\n",
    "                print(r)\n",
    "                tmp.append(r[:i] + r[i].upper() + r[i + 1:])\n",
    "                tmp.append(r[:i] + r[i].lower() + r[i + 1:])\n",
    "            print(tmp)  \n",
    "            res = tmp\n",
    "        return res\n"
   ]
  },
  {
   "cell_type": "code",
   "execution_count": 24,
   "metadata": {},
   "outputs": [
    {
     "name": "stdout",
     "output_type": "stream",
     "text": [
      "ab\n",
      "['Ab', 'ab']\n",
      "Ab\n",
      "ab\n",
      "['AB', 'Ab', 'aB', 'ab']\n"
     ]
    },
    {
     "data": {
      "text/plain": [
       "['AB', 'Ab', 'aB', 'ab']"
      ]
     },
     "execution_count": 24,
     "metadata": {},
     "output_type": "execute_result"
    }
   ],
   "source": [
    "to_lower_case(S=\"ab\")"
   ]
  },
  {
   "cell_type": "code",
   "execution_count": 20,
   "metadata": {},
   "outputs": [],
   "source": [
    "def test(string = ''):\n",
    "    output = []\n",
    "    for i in range(len(string)):\n",
    "        temp = list(string)\n",
    "        if string[i].isalpha():\n",
    "            temp[i] = temp[i].swapcase()\n",
    "        output.append(\"\".join(temp))\n",
    "    output.append(string)\n",
    "    output.append(string.swapcase())\n",
    "    return output"
   ]
  },
  {
   "cell_type": "code",
   "execution_count": 22,
   "metadata": {},
   "outputs": [
    {
     "data": {
      "text/plain": [
       "['Abc', 'aBc', 'abC', 'abc', 'ABC']"
      ]
     },
     "execution_count": 22,
     "metadata": {},
     "output_type": "execute_result"
    }
   ],
   "source": [
    "test(string='abc')"
   ]
  },
  {
   "cell_type": "code",
   "execution_count": null,
   "metadata": {},
   "outputs": [],
   "source": []
  }
 ],
 "metadata": {
  "kernelspec": {
   "display_name": "Python 3",
   "language": "python",
   "name": "python3"
  },
  "language_info": {
   "codemirror_mode": {
    "name": "ipython",
    "version": 3
   },
   "file_extension": ".py",
   "mimetype": "text/x-python",
   "name": "python",
   "nbconvert_exporter": "python",
   "pygments_lexer": "ipython3",
   "version": "3.7.0"
  }
 },
 "nbformat": 4,
 "nbformat_minor": 2
}
