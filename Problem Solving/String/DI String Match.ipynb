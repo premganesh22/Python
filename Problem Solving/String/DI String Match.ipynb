{
 "cells": [
  {
   "cell_type": "markdown",
   "metadata": {},
   "source": [
    "# [DI String Match](https://leetcode.com/problems/di-string-match/)\n",
    "\n",
    "Given a string S that only contains \"I\" (increase) or \"D\" (decrease), let N = S.length.\n",
    "\n",
    "Return any permutation A of [0, 1, ..., N] such that for all i = 0, ..., N-1:\n",
    "\n",
    ">If S[i] == \"I\", then A[i] < A[i+1]\n",
    "\n",
    ">If S[i] == \"D\", then A[i] > A[i+1]\n",
    " \n",
    "**Example 1:**\n",
    "\n",
    ">Input: s = \"IDID\"\n",
    "\n",
    ">Output: [0,4,1,3,2]\n",
    "\n",
    "**Example 2:**\n",
    "\n",
    ">Input: s = \"DDI\"\n",
    "\n",
    ">Output: [3,2,0,1]"
   ]
  },
  {
   "cell_type": "code",
   "execution_count": 47,
   "metadata": {},
   "outputs": [],
   "source": [
    "def string(strA = \"\"):\n",
    "        start = 1 if strA[0] == 'I' else 0\n",
    "        end = len(strA)-1 if strA[0] == 'D' else len(strA)\n",
    "        print(start,end)\n",
    "        output = []\n",
    "        for char in strA[::-1]:\n",
    "            if char == \"I\":\n",
    "                output.append(end)\n",
    "                end-=1\n",
    "            else:\n",
    "                output.append(start)\n",
    "                start+=1\n",
    "        output.append(0 if strA[0] == 'I' else len(strA))\n",
    "        return output[::-1]\n"
   ]
  },
  {
   "cell_type": "code",
   "execution_count": 48,
   "metadata": {},
   "outputs": [
    {
     "data": {
      "text/plain": [
       "[0, 8, 1, 7, 2, 3, 6, 5, 4]"
      ]
     },
     "execution_count": 48,
     "metadata": {},
     "output_type": "execute_result"
    }
   ],
   "source": [
    "string(strA = \"IDIDIIDD\")"
   ]
  },
  {
   "cell_type": "code",
   "execution_count": 52,
   "metadata": {},
   "outputs": [],
   "source": [
    "def string1(S = \"\"):\n",
    "        pt1, pt2  = 0, len(S)\n",
    "        retarr = []\n",
    "        for i in S:\n",
    "            if i == \"I\":\n",
    "                retarr.append(pt1)\n",
    "                pt1+=1\n",
    "            else:\n",
    "                retarr.append(pt2)\n",
    "                pt2-=1\n",
    "        \n",
    "        return retarr + [pt1]\n"
   ]
  },
  {
   "cell_type": "code",
   "execution_count": 53,
   "metadata": {},
   "outputs": [
    {
     "data": {
      "text/plain": [
       "[0, 8, 1, 7, 2, 3, 6, 5, 4]"
      ]
     },
     "execution_count": 53,
     "metadata": {},
     "output_type": "execute_result"
    }
   ],
   "source": [
    "string1(S = \"IDIDIIDD\")"
   ]
  },
  {
   "cell_type": "code",
   "execution_count": null,
   "metadata": {},
   "outputs": [],
   "source": []
  }
 ],
 "metadata": {
  "kernelspec": {
   "display_name": "Python 3",
   "language": "python",
   "name": "python3"
  },
  "language_info": {
   "codemirror_mode": {
    "name": "ipython",
    "version": 3
   },
   "file_extension": ".py",
   "mimetype": "text/x-python",
   "name": "python",
   "nbconvert_exporter": "python",
   "pygments_lexer": "ipython3",
   "version": "3.7.0"
  }
 },
 "nbformat": 4,
 "nbformat_minor": 2
}
