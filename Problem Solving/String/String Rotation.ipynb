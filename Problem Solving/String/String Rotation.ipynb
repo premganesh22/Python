{
 "cells": [
  {
   "cell_type": "markdown",
   "metadata": {},
   "source": [
    "# String Rotation\n",
    "\n",
    "Assumeyou have a method isSubstringwhich checks ifoneword isa substring of another. Given two strings, sl and s2, write code to check if s2 is a rotation of sl using only one call to isSubstring \n",
    "\n",
    "\n",
    "**Example 1:**\n",
    "\n",
    ">Input: s = \"waterbottle\", t = \"erbottlewat\" \n",
    "\n",
    ">Output: True\n",
    "\n",
    ">Explanation: \"waterbottle\" is a rotation of \"erbottlewat\"\n",
    "\n"
   ]
  },
  {
   "cell_type": "code",
   "execution_count": 12,
   "metadata": {},
   "outputs": [],
   "source": [
    "def stringRotation(stringA='',stringB=''):\n",
    "    \n",
    "    #Check if the length matches. \n",
    "    if not len(stringA) == len(stringB):\n",
    "        return False\n",
    "    i = 0\n",
    "    j = 0\n",
    "    #Iterate till the length of stringA\n",
    "    while(i < len(stringA)):\n",
    "        if stringA[i] == stringB[j]:\n",
    "            i+=1\n",
    "            j+=1\n",
    "        else: #Increment stringA alone if it didn't match\n",
    "            i+=1\n",
    "            if j > 0: # Start from zero if it didn't match in between\n",
    "                j = 0\n",
    "    \n",
    "    return stringB[:j]+stringA[:i-j] == stringB\n"
   ]
  },
  {
   "cell_type": "code",
   "execution_count": 15,
   "metadata": {},
   "outputs": [
    {
     "data": {
      "text/plain": [
       "True"
      ]
     },
     "execution_count": 15,
     "metadata": {},
     "output_type": "execute_result"
    }
   ],
   "source": [
    "stringRotation(stringA=\"wboerbottle\",stringB=\"bottlewboer\")"
   ]
  }
 ],
 "metadata": {
  "kernelspec": {
   "display_name": "Python 3",
   "language": "python",
   "name": "python3"
  },
  "language_info": {
   "codemirror_mode": {
    "name": "ipython",
    "version": 3
   },
   "file_extension": ".py",
   "mimetype": "text/x-python",
   "name": "python",
   "nbconvert_exporter": "python",
   "pygments_lexer": "ipython3",
   "version": "3.7.0"
  }
 },
 "nbformat": 4,
 "nbformat_minor": 2
}
