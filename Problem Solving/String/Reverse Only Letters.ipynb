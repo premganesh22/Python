{
 "cells": [
  {
   "cell_type": "markdown",
   "metadata": {},
   "source": [
    "# [Reverse only Letters](https://leetcode.com/problems/reverse-only-letters/)\n",
    "\n",
    "Given a string S, return the \"reversed\" string where all characters that are not a letter stay in the same place, and all letters reverse their positions.\n",
    "\n",
    "**Example 1:**\n",
    "\n",
    ">Input: \"a-bC-dEf-ghIj\"\n",
    "\n",
    ">Output: \"j-Ih-gfE-dCba\"\n"
   ]
  },
  {
   "cell_type": "code",
   "execution_count": 10,
   "metadata": {},
   "outputs": [
    {
     "data": {
      "text/plain": [
       "'j-Ih-gfE-dCba'"
      ]
     },
     "execution_count": 10,
     "metadata": {},
     "output_type": "execute_result"
    }
   ],
   "source": [
    "def stringReverse(lista = []):\n",
    "    i = 0\n",
    "    j = len(lista)-1\n",
    "    #Iterate till the length of stringA\n",
    "    while(i <= j):\n",
    "        if not lista[i].isalpha():\n",
    "            i+=1\n",
    "        elif not lista[j].isalpha():\n",
    "            j-=1\n",
    "        else:\n",
    "            lista[i],lista[j] = lista[j],lista[i]\n",
    "            i+=1\n",
    "            j-=1\n",
    "    return \"\".join(lista)\n",
    "stringReverse(lista = list('a-bC-dEf-ghIj'))"
   ]
  }
 ],
 "metadata": {
  "kernelspec": {
   "display_name": "Python 3",
   "language": "python",
   "name": "python3"
  },
  "language_info": {
   "codemirror_mode": {
    "name": "ipython",
    "version": 3
   },
   "file_extension": ".py",
   "mimetype": "text/x-python",
   "name": "python",
   "nbconvert_exporter": "python",
   "pygments_lexer": "ipython3",
   "version": "3.7.0"
  }
 },
 "nbformat": 4,
 "nbformat_minor": 2
}
