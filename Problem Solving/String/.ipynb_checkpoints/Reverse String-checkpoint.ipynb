{
 "cells": [
  {
   "cell_type": "markdown",
   "metadata": {},
   "source": [
    "# [Reverse String](https://leetcode.com/problems/reverse-string/)\n",
    "\n",
    "Write a function that reverses a string. The input string is given as an array of characters char[].\n",
    "\n",
    "Do not allocate extra space for another array, you must do this by modifying the input array in-place with O(1) extra memory.\n",
    "\n",
    "You may assume all the characters consist of printable ascii characters.\n",
    "\n",
    "\n",
    "**Example 1:**\n",
    "\n",
    ">Input: [\"H\",\"a\",\"n\",\"n\",\"a\",\"h\"]\n",
    "\n",
    ">Output: [\"h\",\"a\",\"n\",\"n\",\"a\",\"H\"]\n",
    "\n",
    "\n",
    "\n"
   ]
  },
  {
   "cell_type": "code",
   "execution_count": 12,
   "metadata": {},
   "outputs": [],
   "source": [
    "def stringRotation(stringA='',stringB=''):\n",
    "    \n",
    "    #Check if the length matches. \n",
    "    if not len(stringA) == len(stringB):\n",
    "        return False\n",
    "    i = 0\n",
    "    j = 0\n",
    "    #Iterate till the length of stringA\n",
    "    while(i < len(stringA)):\n",
    "        if stringA[i] == stringB[j]:\n",
    "            i+=1\n",
    "            j+=1\n",
    "        else: #Increment stringA alone if it didn't match\n",
    "            i+=1\n",
    "            if j > 0: # Start from zero if it didn't match in between\n",
    "                j = 0\n",
    "    \n",
    "    return stringB[:j]+stringA[:i-j] == stringB\n"
   ]
  },
  {
   "cell_type": "code",
   "execution_count": 15,
   "metadata": {},
   "outputs": [
    {
     "data": {
      "text/plain": [
       "True"
      ]
     },
     "execution_count": 15,
     "metadata": {},
     "output_type": "execute_result"
    }
   ],
   "source": [
    "stringRotation(stringA=\"wboerbottle\",stringB=\"bottlewboer\")"
   ]
  }
 ],
 "metadata": {
  "kernelspec": {
   "display_name": "Python 3",
   "language": "python",
   "name": "python3"
  },
  "language_info": {
   "codemirror_mode": {
    "name": "ipython",
    "version": 3
   },
   "file_extension": ".py",
   "mimetype": "text/x-python",
   "name": "python",
   "nbconvert_exporter": "python",
   "pygments_lexer": "ipython3",
   "version": "3.7.0"
  }
 },
 "nbformat": 4,
 "nbformat_minor": 2
}
