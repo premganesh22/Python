{
 "cells": [
  {
   "cell_type": "markdown",
   "metadata": {},
   "source": [
    "# [Reverse only Letters](https://leetcode.com/problems/reverse-only-letters/)\n",
    "\n",
    "Given a string S, return the \"reversed\" string where all characters that are not a letter stay in the same place, and all letters reverse their positions.\n",
    "\n",
    "**Example 1:**\n",
    "\n",
    ">Input: \"a-bC-dEf-ghIj\"\n",
    "\n",
    ">Output: \"j-Ih-gfE-dCba\"\n",
    "\n",
    "\n",
    "\n"
   ]
  },
  {
   "cell_type": "code",
   "execution_count": 1,
   "metadata": {},
   "outputs": [],
   "source": [
    "def stringReverse(lista = []):\n",
    "    \n",
    "    i = 0\n",
    "    j = len(lista)-1\n",
    "    #Iterate till the length of stringA\n",
    "    while(i <= j):\n",
    "        lista[i],lista[j] = lista[j],lista[i]\n",
    "        i+=1\n",
    "        j-=1"
   ]
  },
  {
   "cell_type": "code",
   "execution_count": 2,
   "metadata": {},
   "outputs": [],
   "source": [
    "lista = [\"H\",\"a\",\"n\",\"n\",\"a\",\"h\"]\n",
    "stringReverse(lista)"
   ]
  },
  {
   "cell_type": "code",
   "execution_count": 3,
   "metadata": {},
   "outputs": [
    {
     "data": {
      "text/plain": [
       "['h', 'a', 'n', 'n', 'a', 'H']"
      ]
     },
     "execution_count": 3,
     "metadata": {},
     "output_type": "execute_result"
    }
   ],
   "source": [
    "lista"
   ]
  }
 ],
 "metadata": {
  "kernelspec": {
   "display_name": "Python 3",
   "language": "python",
   "name": "python3"
  },
  "language_info": {
   "codemirror_mode": {
    "name": "ipython",
    "version": 3
   },
   "file_extension": ".py",
   "mimetype": "text/x-python",
   "name": "python",
   "nbconvert_exporter": "python",
   "pygments_lexer": "ipython3",
   "version": "3.7.0"
  }
 },
 "nbformat": 4,
 "nbformat_minor": 2
}
