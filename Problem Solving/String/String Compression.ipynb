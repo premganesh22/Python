{
 "cells": [
  {
   "cell_type": "markdown",
   "metadata": {},
   "source": [
    "# String Compression\n",
    "\n",
    "Implement a method to perform basic string compression using the counts of repeated characters. \n",
    "\n",
    "**Example 1:**\n",
    "\n",
    ">Input: s = \"aabcccccaaa\" \n",
    "\n",
    ">Output: \"a2blc5a3\"\n",
    "\n",
    "If the \"compressed\" string would not become smaller than the original string, your method should return the original string. You can assume the string has only uppercase and lowercase letters (a -z). \n"
   ]
  },
  {
   "cell_type": "code",
   "execution_count": 13,
   "metadata": {},
   "outputs": [],
   "source": [
    "from collections import Counter\n",
    "def compress(string=''):\n",
    "    output = ''\n",
    "    count = 1\n",
    "    char = string[0]\n",
    "    for i in string[1:]:\n",
    "        if i == char:\n",
    "            count+=1\n",
    "        else:\n",
    "            output+=f'{char}{count}'\n",
    "            char = i\n",
    "            count = 1\n",
    "    output+=f'{char}{count}'\n",
    "    return string if len(output) > len(string) else output"
   ]
  },
  {
   "cell_type": "code",
   "execution_count": 17,
   "metadata": {},
   "outputs": [
    {
     "data": {
      "text/plain": [
       "'a2b1c5a3A1d1'"
      ]
     },
     "execution_count": 17,
     "metadata": {},
     "output_type": "execute_result"
    }
   ],
   "source": [
    "compress(string = \"aabcccccaaaAd\")"
   ]
  },
  {
   "cell_type": "code",
   "execution_count": null,
   "metadata": {},
   "outputs": [],
   "source": []
  }
 ],
 "metadata": {
  "kernelspec": {
   "display_name": "Python 3",
   "language": "python",
   "name": "python3"
  },
  "language_info": {
   "codemirror_mode": {
    "name": "ipython",
    "version": 3
   },
   "file_extension": ".py",
   "mimetype": "text/x-python",
   "name": "python",
   "nbconvert_exporter": "python",
   "pygments_lexer": "ipython3",
   "version": "3.7.0"
  }
 },
 "nbformat": 4,
 "nbformat_minor": 2
}
