{
 "cells": [
  {
   "cell_type": "markdown",
   "metadata": {},
   "source": [
    "# [Number of Lines To Write String](https://leetcode.com/problems/number-of-lines-to-write-string/)\n",
    "\n",
    "We are to write the letters of a given string S, from left to right into lines. Each line has maximum width 100 units, and if writing a letter would cause the width of the line to exceed 100 units, it is written on the next line. We are given an array widths, an array where widths[0] is the width of 'a', widths[1] is the width of 'b', ..., and widths[25] is the width of 'z'.\n",
    "\n",
    "Now answer two questions: how many lines have at least one character from S, and what is the width used by the last such line? Return your answer as an integer list of length 2.\n",
    "\n",
    " \n",
    "\n",
    "**Example 1:**\n",
    "\n",
    ">Input: widths = [4,10,10,10,10,10,10,10,10,10,10,10,10,10,10,10,10,10,10,10,10,10,10,10,10,10] S = \"bbbcccdddaaa\"\n",
    "\n",
    ">Output: [2, 4]\n",
    "\n",
    ">Explanation: \n",
    "All letters except 'a' have the same length of 10, and \n",
    "\"bbbcccdddaa\" will cover 9 * 10 + 2 * 4 = 98 units.\n",
    "For the last 'a', it is written on the second line because\n",
    "there is only 2 units left in the first line.\n",
    "So the answer is 2 lines, plus 4 units in the second line.\n"
   ]
  },
  {
   "cell_type": "code",
   "execution_count": 14,
   "metadata": {},
   "outputs": [],
   "source": [
    "def write_string(widths=[], S = ''):\n",
    "    units = 0\n",
    "    lines = 1\n",
    "    for char in S:\n",
    "        width = widths[ord(char)-97]\n",
    "        if units+width > 100:\n",
    "            units = width\n",
    "            lines+=1\n",
    "        else:\n",
    "            units+=width\n",
    "    return ([lines,units])\n"
   ]
  },
  {
   "cell_type": "code",
   "execution_count": 15,
   "metadata": {},
   "outputs": [
    {
     "data": {
      "text/plain": [
       "[2, 4]"
      ]
     },
     "execution_count": 15,
     "metadata": {},
     "output_type": "execute_result"
    }
   ],
   "source": [
    "write_string(widths = [4,10,10,10,10,10,10,10,10,10,10,10,10,10,10,10,10,10,10,10,10,10,10,10,10,10], S=\"bbbcccdddaaa\")"
   ]
  }
 ],
 "metadata": {
  "kernelspec": {
   "display_name": "Python 3",
   "language": "python",
   "name": "python3"
  },
  "language_info": {
   "codemirror_mode": {
    "name": "ipython",
    "version": 3
   },
   "file_extension": ".py",
   "mimetype": "text/x-python",
   "name": "python",
   "nbconvert_exporter": "python",
   "pygments_lexer": "ipython3",
   "version": "3.7.0"
  }
 },
 "nbformat": 4,
 "nbformat_minor": 2
}
