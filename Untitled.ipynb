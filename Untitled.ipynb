{
 "cells": [
  {
   "cell_type": "code",
   "execution_count": 5,
   "metadata": {},
   "outputs": [],
   "source": [
    "import pandas as pd\n",
    "import json\n",
    "from datetime import datetime, timedelta"
   ]
  },
  {
   "cell_type": "code",
   "execution_count": 23,
   "metadata": {},
   "outputs": [
    {
     "name": "stdout",
     "output_type": "stream",
     "text": [
      "[1, 4, 7, 9, 10, 12, 16, 19]\n",
      "10 12\n",
      "[10, 12, 16, 19]\n",
      "16 12\n",
      "[10, 12]\n",
      "12 12\n",
      "Hi found\n"
     ]
    }
   ],
   "source": [
    "lista = [1,4,7,9,10,12,16,19]\n",
    "search = 12\n",
    "def bin_search(lista):\n",
    "    print(lista)\n",
    "    length = len(lista)\n",
    "    mid = int(length/2)\n",
    "    print(lista[mid],search)\n",
    "    if length == 1:\n",
    "        if lista[0] != search:\n",
    "            return \"not found\"\n",
    "        else:\n",
    "            return \"found\"\n",
    "    if lista[mid] == search:\n",
    "        return \"Hi found\"\n",
    "    if lista[mid] > search:\n",
    "        return bin_search(lista[:mid])\n",
    "    if lista[mid] < search:\n",
    "        return bin_search(lista[mid:])\n",
    "\n",
    "output = bin_search(lista)\n",
    "print(output)\n",
    "     \n",
    "    "
   ]
  },
  {
   "cell_type": "code",
   "execution_count": 31,
   "metadata": {},
   "outputs": [
    {
     "name": "stdout",
     "output_type": "stream",
     "text": [
      "Item found in 4\n"
     ]
    }
   ],
   "source": [
    "lista = [1,4,7,9,10,12,16,19]\n",
    "search = 10\n",
    "def bin_search(start,end):\n",
    "    mid = int((end-start)/2+start)\n",
    "    if start == end:\n",
    "        if lista[start] == search:\n",
    "            return f\"Item found in {start}\"\n",
    "        else:\n",
    "            return \"Item not found\"\n",
    "    if lista[mid] == search:\n",
    "        return f\"Item found in {mid}\"\n",
    "    if lista[mid] > search:\n",
    "        return bin_search(start,mid)\n",
    "    if lista[mid] < search:\n",
    "        return bin_search(mid,end)\n",
    "print(bin_search(0,len(lista)))    "
   ]
  },
  {
   "cell_type": "code",
   "execution_count": 55,
   "metadata": {},
   "outputs": [
    {
     "data": {
      "text/plain": [
       "True"
      ]
     },
     "execution_count": 55,
     "metadata": {},
     "output_type": "execute_result"
    }
   ],
   "source": [
    "time > time1"
   ]
  },
  {
   "cell_type": "code",
   "execution_count": 145,
   "metadata": {},
   "outputs": [],
   "source": [
    "alldetails = {'reserve': {'reserveFor': 'aa022949', 'reservation_start': '2020-02-22T15:23',\n",
    "'reservation_end': '2020-04-21T15:23', 'purpose': 'sdfa'}, 'devices': [{'0': {'device_id': '531277', 'device_infodot': '60285', 'device_ipaddress': '10.154.102.47', 'device_lab': 'Lab-SJS-2.1C.103', 'device_manufacturer': 'Avocent', 'device_model': 'PM3000', 'device_rack': 'K19', 'device_site': 'San Jose (SJS)', 'device_uposition': 'FL'}, '1': None, 'reservations': [{'ctime': '2020-01-15 14:10:26', 'device_id': '531277', 'device_infodot': '60285', 'reservation_end': '2021-01-15 23:59:59', 'reservation_id': '70718', 'reservation_start': '2020-01-15 00:00:00', 'status': '', 'user_id': 'rn403732', 'user_name': 'Raghu Navalgund'}], 'selected': False, 'isSelected': True}, {'0': {'device_id': '528223', 'device_infodot': '209734', 'device_ipaddress': '', 'device_lab': 'Lab-SJS-2.1C.103', 'device_manufacturer': 'Brocade', 'device_model': 'G630', 'device_rack': 'K19', 'device_site': 'San Jose (SJS)', 'device_uposition': 'B1'}, '1': [{'ri_id': '443299', 'ri_ip': '10.154.100.126', 'ri_port': '8', 'ri_tag': '', 'ri_type': 'TS'}, {'ri_id': '443302', 'ri_ip': '10.154.100.126', 'ri_port': '6', 'ri_tag': '', 'ri_type': 'TS'}, {'ri_id': '525154', 'ri_ip': '10.154.103.170', 'ri_port': '10', 'ri_tag': '', 'ri_type': 'PDU'}, {'ri_id': '525157', 'ri_ip': '10.154.102.47', 'ri_port': '11', 'ri_tag': '', 'ri_type': 'PDU'}, {'ri_id': '1448778', 'ri_ip': '10.154.102.47', 'ri_port': '18', 'ri_tag': None, 'ri_type': 'PDU'}], 'reservations': [{'ctime': '2020-01-15 14:10:26', 'device_id': '528223', 'device_infodot': '209734', 'reservation_end': '2021-01-15 23:59:59', 'reservation_id': '70794', 'reservation_start': '2020-01-15 00:00:00', 'status': '', 'user_id': 'rn403732', 'user_name': 'Raghu Navalgund'}], 'selected': False, 'isSelected': True}, {'0': {'device_id': '630703', 'device_infodot': '228586', 'device_ipaddress': '', 'device_lab': 'Lab-SJS-2.1C.103', 'device_manufacturer': 'Brocade', 'device_model': 'G630', 'device_rack': 'K19', 'device_site': 'San Jose (SJS)', 'device_uposition':'B27'}, '1': [{'ri_id': '445894', 'ri_ip': '10.154.100.126', 'ri_port': '12', 'ri_tag': '', 'ri_type': 'TS'}, {'ri_id': '445897', 'ri_ip': '10.154.102.47', 'ri_port': '2', 'ri_tag': '', 'ri_type': 'PDU'}, {'ri_id': '1424707', 'ri_ip': '10.154.103.170', 'ri_port': '2', 'ri_tag': '', 'ri_type': 'PDU'}], 'reservations':[{'ctime': '2020-01-15 14:10:26', 'device_id': '630703', 'device_infodot': '228586', 'reservation_end': '2021-01-15 23:59:59', 'reservation_id': '70722', 'reservation_start': '2020-01-15 00:00:00', 'status': '', 'user_id': 'rn403732', 'user_name': 'Raghu Navalgund'}], 'selected': False, 'isSelected': True}], 'testbedid': '1031', 'alltestbed': [{'completed_date': None, 'description': 'FOS SQA San Jose Diagnostic', 'display_name': 'Aixia Shao', 'expected_end_date': None, 'expected_start_date': None, 'id': '32', 'name': 'ENG-FOS-SQA-SJ-Diagnostic', 'on_going': '1', 'status': 'ACTIVE', 'user_id': 'as415214'}, {'completed_date': None, 'description': 'Raghu Navalgund - EM Test Bed', 'display_name': 'Raghu Navalgund',\n",
    " 'expected_end_date': None, 'expected_start_date': None, 'id': '1031', 'name': 'ENG-SQA-EM Test Bed', 'on_going': '1', 'status': 'ACTIVE', 'user_id': 'rn403732'}, {'completed_date': None, 'description': 'This is Scale L2 TB from I-01 to I-28 and J-01 to J-09.', 'display_name': 'Amol Sonawane', 'expected_end_date': None, 'expected_start_date': '2019-03-25', 'id': '1036', 'name': 'ENG-FOS-SQA-SJ-ScaleL2', 'on_going': '1', 'status': 'ACTIVE', 'user_id': 'as407652'}, {'completed_date': None, 'description': 'Small Gen5 configuration with host and targets (16G) ', 'display_name': 'Mrunmayee Mardikar', 'expected_end_date': None, 'expected_start_date': None, 'id': '1080', 'name': 'ENG-SQA-SJ-Gen5-Small', 'on_going': '1', 'status': 'ACTIVE', 'user_id': 'mm401197'}, {'completed_date': None, 'description': 'This Test Bed is for AG Scalability', 'display_name': 'Prem Ganesh Elango', 'expected_end_date': None, 'expected_start_date': None, 'id': '2444', 'name': 'ENG-SQA-SJ-ScaleAG', 'on_going': '1', 'status': 'ACTIVE', 'user_id': 'pe415247'}]}\n"
   ]
  },
  {
   "cell_type": "code",
   "execution_count": 13,
   "metadata": {},
   "outputs": [
    {
     "name": "stdout",
     "output_type": "stream",
     "text": [
      "{'completed_date': None, 'description': 'Raghu Navalgund - EM Test Bed', 'display_name': 'Raghu Navalgund', 'expected_end_date': None, 'expected_start_date': None, 'id': '1031', 'name': 'ENG-SQA-EM Test Bed', 'on_going': '1', 'status': 'ACTIVE', 'user_id': 'rn403732'}\n",
      "rn403732\n"
     ]
    }
   ],
   "source": [
    "testbedid = alldetails['testbedid']\n",
    "for i in alldetails['alltestbed']:\n",
    "    if i['id'] == testbedid:\n",
    "        print(i)\n",
    "        \n",
    "ownerId = \"\".join([i['user_id'] for i in alldetails['alltestbed'] if i['id'] == alldetails['testbedid']])\n",
    "print(ownerId)"
   ]
  },
  {
   "cell_type": "code",
   "execution_count": 148,
   "metadata": {},
   "outputs": [
    {
     "data": {
      "text/plain": [
       "[{'user_name': 'Raghu Navalgund',\n",
       "  'reservation_start': '2020-01-15 00:00:00',\n",
       "  'reservation_end': '2021-01-15 23:59:59',\n",
       "  'ctime': 3}]"
      ]
     },
     "execution_count": 148,
     "metadata": {},
     "output_type": "execute_result"
    }
   ],
   "source": [
    "df1 = pd.DataFrame()\n",
    "for i in alldetails['devices']:\n",
    "    for j in i['reservations']:\n",
    "        df1 = df1.append(pd.DataFrame.from_dict(j, orient='index').T)\n",
    "df1 = df1.groupby(['user_name','reservation_start','reservation_end']).count().reset_index()\n",
    "df1 = df1[['user_name','reservation_start','reservation_end','ctime']]\n",
    "df1 = df1.to_json(orient='records')\n",
    "df1 = json.loads(df1)\n",
    "df1"
   ]
  },
  {
   "cell_type": "code",
   "execution_count": 143,
   "metadata": {},
   "outputs": [],
   "source": [
    "df = pd.DataFrame()\n",
    "for i in alldetails['devices']:\n",
    "    df = df.append(pd.DataFrame.from_dict(i['0'], orient='index').T)\n",
    "df = df.groupby(['device_manufacturer','device_model']).count().reset_index()"
   ]
  },
  {
   "cell_type": "code",
   "execution_count": 144,
   "metadata": {},
   "outputs": [
    {
     "data": {
      "text/plain": [
       "[{'device_manufacturer': 'Avocent', 'device_model': 'PM3000', 'device_id': 1},\n",
       " {'device_manufacturer': 'Brocade', 'device_model': 'G630', 'device_id': 2}]"
      ]
     },
     "execution_count": 144,
     "metadata": {},
     "output_type": "execute_result"
    }
   ],
   "source": [
    "\n",
    "df = df[['device_manufacturer','device_model','device_id']]\n",
    "df = df.to_json(orient='records')\n",
    "df = json.loads(df)\n",
    "df\n",
    " "
   ]
  },
  {
   "cell_type": "code",
   "execution_count": 98,
   "metadata": {},
   "outputs": [
    {
     "name": "stdout",
     "output_type": "stream",
     "text": [
      "dict_keys(['reserve', 'devices', 'testbedid', 'alltestbed'])\n",
      "{'0': {'device_id': '531277', 'device_infodot': '60285', 'device_ipaddress': '10.154.102.47', 'device_lab': 'Lab-SJS-2.1C.103', 'device_manufacturer': 'Avocent', 'device_model': 'PM3000', 'device_rack': 'K19', 'device_site': 'San Jose (SJS)', 'device_uposition': 'FL'}, '1': None, 'reservations': [{'ctime': '2020-01-15 14:10:26', 'device_id': '531277', 'device_infodot': '60285', 'reservation_end': '2021-01-15 23:59:59', 'reservation_id': '70718', 'reservation_start': '2020-01-15 00:00:00', 'status': '', 'user_id': 'rn403732', 'user_name': 'Raghu Navalgund'}], 'selected': False, 'isSelected': True}\n",
      "{'0': {'device_id': '528223', 'device_infodot': '209734', 'device_ipaddress': '', 'device_lab': 'Lab-SJS-2.1C.103', 'device_manufacturer': 'Brocade', 'device_model': 'Allegiance', 'device_rack': 'K19', 'device_site': 'San Jose (SJS)', 'device_uposition': 'B1'}, '1': [{'ri_id': '443299', 'ri_ip': '10.154.100.126', 'ri_port': '8', 'ri_tag': '', 'ri_type': 'TS'}, {'ri_id': '443302', 'ri_ip': '10.154.100.126', 'ri_port': '6', 'ri_tag': '', 'ri_type': 'TS'}, {'ri_id': '525154', 'ri_ip': '10.154.103.170', 'ri_port': '10', 'ri_tag': '', 'ri_type': 'PDU'}, {'ri_id': '525157', 'ri_ip': '10.154.102.47', 'ri_port': '11', 'ri_tag': '', 'ri_type': 'PDU'}, {'ri_id': '1448778', 'ri_ip': '10.154.102.47', 'ri_port': '18', 'ri_tag': None, 'ri_type': 'PDU'}], 'reservations': [{'ctime': '2020-01-15 14:10:26', 'device_id': '528223', 'device_infodot': '209734', 'reservation_end': '2021-01-15 23:59:59', 'reservation_id': '70794', 'reservation_start': '2020-01-15 00:00:00', 'status': '', 'user_id': 'rn403732', 'user_name': 'Raghu Navalgund'}], 'selected': False, 'isSelected': True}\n",
      "{'0': {'device_id': '630703', 'device_infodot': '228586', 'device_ipaddress': '', 'device_lab': 'Lab-SJS-2.1C.103', 'device_manufacturer': 'Brocade', 'device_model': 'G630', 'device_rack': 'K19', 'device_site': 'San Jose (SJS)', 'device_uposition': 'B27'}, '1': [{'ri_id': '445894', 'ri_ip': '10.154.100.126', 'ri_port': '12', 'ri_tag': '', 'ri_type': 'TS'}, {'ri_id': '445897', 'ri_ip': '10.154.102.47', 'ri_port': '2', 'ri_tag': '', 'ri_type': 'PDU'}, {'ri_id': '1424707', 'ri_ip': '10.154.103.170', 'ri_port': '2', 'ri_tag': '', 'ri_type': 'PDU'}], 'reservations': [{'ctime': '2020-01-15 14:10:26', 'device_id': '630703', 'device_infodot': '228586', 'reservation_end': '2021-01-15 23:59:59', 'reservation_id': '70722', 'reservation_start': '2020-01-15 00:00:00', 'status': '', 'user_id': 'rn403732', 'user_name': 'Raghu Navalgund'}], 'selected': False, 'isSelected': True}\n"
     ]
    }
   ],
   "source": [
    "#dic = {'reserve': {'reserveFor': 'aa022949', 'reservation_start': '2020-02-21T15:34','reservation_end': '2020-02-22T15:45', 'purpose': 'dfgsd'}, 'devices': [{'0': {'device_id': '63029', 'device_infodot': '168368', 'device_ipaddress': '', 'device_lab': 'Lab-SJS-2.1C.103', 'device_manufacturer': 'IBM', 'device_model': 'x3650M4', 'device_rack': 'J12', 'device_site': 'San Jose (SJS)', 'device_uposition':'F3'}, '1': [{'ri_id': '439669', 'ri_ip': '10.154.103.61', 'ri_port': '2', 'ri_tag': '', 'ri_type': 'KVM'}, {'ri_id': '468349', 'ri_ip': '10.154.103.160', 'ri_port': '3', 'ri_tag': '', 'ri_type': 'PDU'}], 'reservations': [{'ctime': '2020-01-15 15:38:06', 'device_id': '63029', 'device_infodot': '168368', 'reservation_end': '2021-12-31 23:59:59', 'reservation_id': '73250', 'reservation_start': '2020-01-15 00:00:00', 'status': '', 'user_id': 'pe415247', 'user_name': 'Prem GaneshElango'}], 'selected': False, 'isSelected': True}], 'testbedid': '2444', 'alltestbed': [{'completed_date': None, 'description': 'FOS SQA San Jose Diagnostic','display_name': 'Aixia Shao', 'expected_end_date': None, 'expected_start_date':None, 'id': '32', 'name': 'ENG-FOS-SQA-SJ-Diagnostic', 'on_going': '1', 'status': 'ACTIVE', 'user_id': 'as415214'}, {'completed_date': None, 'description': 'Raghu Navalgund - EM Test Bed', 'display_name': 'Raghu Navalgund', 'expected_end_date': None, 'expected_start_date': None, 'id': '1031', 'name': 'ENG-SQA-EM Test Bed', 'on_going': '1', 'status': 'ACTIVE', 'user_id': 'rn403732'}, {'completed_date': None, 'description': 'This is Scale L2 TB from I-01 to I-28 and J-01 to J-09.', 'display_name': 'Amol Sonawane', 'expected_end_date': None, 'expected_start_date': '2019-03-25', 'id': '1036', 'name': 'ENG-FOS-SQA-SJ-ScaleL2', 'on_going': '1', 'status': 'ACTIVE', 'user_id': 'as407652'}, {'completed_date': None, 'description': 'Small Gen5 configuration with host and targets (16G) ', 'display_name': 'Mrunmayee Mardikar', 'expected_end_date': None, 'expected_start_date': None, 'id': '1080', 'name': 'ENG-SQA-SJ-Gen5-Small', 'on_going': '1', 'status': 'ACTIVE', 'user_id': 'mm401197'}, {'completed_date': None, 'description': 'This TestBed is for AG Scalability', 'display_name': 'Prem Ganesh Elango', 'expected_end_date': None, 'expected_start_date': None, 'id': '2444', 'name': 'ENG-SQA-SJ-ScaleAG', 'on_going': '1', 'status': 'ACTIVE', 'user_id': 'pe415247'}]}\n",
    "\n",
    "print(dic.keys())\n",
    "dic['devices'][0]['reservations']\n",
    "dic['reserve']['reservation_end']\n",
    "for i in dic['devices']:\n",
    "    \n",
    "    print(i)"
   ]
  },
  {
   "cell_type": "code",
   "execution_count": 99,
   "metadata": {},
   "outputs": [
    {
     "name": "stdout",
     "output_type": "stream",
     "text": [
      "{}\n"
     ]
    }
   ],
   "source": [
    "output = {}\n",
    "reserve = {}\n",
    "reserve_start = alldetails['reserve']['reservation_start']\n",
    "reserve_end = alldetails['reserve']['reservation_end']\n",
    "testbed_id = alldetails['testbedid']\n",
    "reserve_for = alldetails['reserve']['reserveFor']\n",
    "purpose = alldetails['reserve']['purpose']\n",
    "\n",
    "for device in alldetails['devices']:\n",
    "    for item in device['reservations']:\n",
    "        if not item['reservation_start'] == \"\":\n",
    "            if datetime.fromisoformat(item['reservation_start']) < datetime.fromisoformat(reserve_start):\n",
    "                output[item['reservation_id']] = item\n",
    "        else:\n",
    "            start_date = datetime.fromisoformat(reserve_start) + timedelta(seconds=60)\n",
    "            end_date = datetime.fromisoformat(reserve_end)\n",
    "            if not end_date in reserve:\n",
    "                reserve[end_date] = {'infodot':[item['device_infodot']],'date_duration':f'{str(start_date.date())},{str(str(end_date.date()))}','testbed_id':testbed_id,'time_duration':f'{str(start_date.time())},{str(str(end_date.time()))}','reserve_for':reserve_for}\n",
    "            else:\n",
    "                reserve[end_date]['infodot'].append(value['device_infodot'])\n",
    "print(reserve)\n",
    "#dic = {'73240': {'ctime': '2020-01-15 15:38:06', 'device_id': '647889', 'device_infodot': '140271', 'reservation_end': '2021-12-31 23:59:59', 'reservation_id': '73240', 'reservation_start': '2020-01-15 00:00:00', 'status': '', 'user_id': 'pe415247', 'user_name': 'Prem Ganesh Elango'},'73241': {'ctime': '2020-01-15 15:38:06', 'device_id': '647889', 'device_infodot': '140271', 'reservation_end': '2021-12-31 23:59:59', 'reservation_id': '73240', 'reservation_start': '2020-01-15 00:00:00', 'status': '', 'user_id': 'pe415247', 'user_name': 'Prem Ganesh Elango'}} "
   ]
  },
  {
   "cell_type": "code",
   "execution_count": 102,
   "metadata": {},
   "outputs": [
    {
     "name": "stdout",
     "output_type": "stream",
     "text": [
      "{datetime.datetime(2021, 1, 15, 23, 59, 59): {'infodot': ['60285', '209734', '228586'], 'date_duration': '2020-04-21,2021-01-15', 'testbed_id': '1031', 'time_duration': '15:24:00,23:59:59', 'reserve_for': 'rn403732'}, datetime.datetime(2020, 2, 22, 15, 23): {'infodot': ['60285', '209734', '228586'], 'date_duration': '2020-02-22,2020-02-22', 'testbed_id': '1031', 'time_duration': '10:51:35.554734,15:23:00', 'reserve_for': 'rn403732'}, datetime.datetime(2020, 4, 21, 15, 23): {'infodot': ['60285', '209734', '228586'], 'date_duration': '2020-02-22,2020-04-21', 'testbed_id': '1031', 'time_duration': '15:24:00,15:23:00', 'reserve_for': 'aa022949'}}\n"
     ]
    }
   ],
   "source": [
    "\n",
    "for key,value in output.items():\n",
    "    if datetime.fromisoformat(value['reservation_end']) > datetime.fromisoformat(reserve_end):\n",
    "        start_date = datetime.fromisoformat(reserve_end) + timedelta(seconds=60)\n",
    "        end_date = datetime.fromisoformat(value['reservation_end'])\n",
    "        if not end_date in reserve:\n",
    "            reserve[end_date] = {'infodot':[value['device_infodot']],'date_duration':f'{str(start_date.date())},{str(str(end_date.date()))}','testbed_id':testbed_id,'time_duration':f'{str(start_date.time())},{str(str(end_date.time()))}','reserve_for':value[\"user_id\"]}\n",
    "        else:\n",
    "            reserve[end_date]['infodot'].append(value['device_infodot'])\n",
    "    if datetime.fromisoformat(reserve_start) > datetime.now() + timedelta(hours=1):\n",
    "        start_date = datetime.now() + timedelta(seconds=60)\n",
    "        end_date = datetime.fromisoformat(reserve_start)\n",
    "        if not end_date in reserve:\n",
    "            reserve[end_date] = {'infodot':[value['device_infodot']],'date_duration':f'{str(start_date.date())},{str(str(end_date.date()))}','testbed_id':testbed_id,'time_duration':f'{str(start_date.time())},{str(str(end_date.time()))}','reserve_for':value[\"user_id\"]}\n",
    "        else:\n",
    "            reserve[end_date]['infodot'].append(value['device_infodot'])\n",
    "    start_date = datetime.fromisoformat(reserve_start) + timedelta(seconds=60)\n",
    "    end_date = datetime.fromisoformat(reserve_end)\n",
    "    if not end_date in reserve:\n",
    "        reserve[end_date] = {'infodot':[value['device_infodot']],'date_duration':f'{str(start_date.date())},{str(str(end_date.date()))}','testbed_id':testbed_id,'time_duration':f'{str(start_date.time())},{str(str(end_date.time()))}','reserve_for':reserve_for}\n",
    "    else:\n",
    "        reserve[end_date]['infodot'].append(value['device_infodot'])\n",
    "    \n",
    "print(reserve)"
   ]
  },
  {
   "cell_type": "code",
   "execution_count": 126,
   "metadata": {},
   "outputs": [
    {
     "name": "stdout",
     "output_type": "stream",
     "text": [
      "2021-01-15 23:59:59 {'infodot': ['60285', '209734', '228586'], 'date_duration': '2020-04-21,2021-01-15', 'testbed_id': '1031', 'time_duration': '15:24:00,23:59:59', 'reserve_for': 'rn403732'}\n",
      "Raghu Navalgund\n",
      "2020-02-22 15:23:00 {'infodot': ['60285', '209734', '228586'], 'date_duration': '2020-02-22,2020-02-22', 'testbed_id': '1031', 'time_duration': '10:51:35.554734,15:23:00', 'reserve_for': 'rn403732'}\n",
      "Raghu Navalgund\n",
      "2020-04-21 15:23:00 {'infodot': ['60285', '209734', '228586'], 'date_duration': '2020-02-22,2020-04-21', 'testbed_id': '1031', 'time_duration': '15:24:00,15:23:00', 'reserve_for': 'aa022949'}\n",
      "Anandan Alaganantham\n"
     ]
    }
   ],
   "source": [
    "for item,val in reserve.items():\n",
    "    print(item,val)\n",
    " \n",
    "    print(\"\".join(list(pd.read_csv(\"names.csv\").query(f'id==\"{val[\"reserve_for\"]}\"')['Name'])))\n",
    "    date = val['date_duration'].split(',')\n",
    "    time = val['time_duration'].split(',')\n",
    "    #print(f\"{date[0]} {time[0]}\")"
   ]
  },
  {
   "cell_type": "code",
   "execution_count": 7,
   "metadata": {},
   "outputs": [
    {
     "data": {
      "text/plain": [
       "datetime.datetime(2020, 2, 20, 15, 34)"
      ]
     },
     "execution_count": 7,
     "metadata": {},
     "output_type": "execute_result"
    }
   ],
   "source": [
    "datetime.fromisoformat(reserve_start)"
   ]
  },
  {
   "cell_type": "code",
   "execution_count": 10,
   "metadata": {},
   "outputs": [
    {
     "data": {
      "text/plain": [
       "datetime.datetime(2020, 2, 21, 10, 32, 12, 926932)"
      ]
     },
     "execution_count": 10,
     "metadata": {},
     "output_type": "execute_result"
    }
   ],
   "source": [
    "datetime.now() + timedelta(hours=1)"
   ]
  },
  {
   "cell_type": "code",
   "execution_count": 94,
   "metadata": {},
   "outputs": [
    {
     "data": {
      "text/plain": [
       "'Prem Ganesh Elango'"
      ]
     },
     "execution_count": 94,
     "metadata": {},
     "output_type": "execute_result"
    }
   ],
   "source": [
    "df = pd.read_csv(\"names.csv\")\n",
    "df = \"\".join(list(pd.read_csv(\"names.csv\").query('id==\"pe415247\"')['Name']))\n",
    "df"
   ]
  },
  {
   "cell_type": "code",
   "execution_count": 95,
   "metadata": {},
   "outputs": [
    {
     "data": {
      "text/plain": [
       "'Prem Ganesh Elango'"
      ]
     },
     "execution_count": 95,
     "metadata": {},
     "output_type": "execute_result"
    }
   ],
   "source": [
    "\"\".join(list(pd.read_csv(\"names.csv\").query('id==\"pe415247\"')['Name']))"
   ]
  },
  {
   "cell_type": "code",
   "execution_count": 6,
   "metadata": {},
   "outputs": [
    {
     "data": {
      "text/plain": [
       "'ENG-FOS-SQA-SJ-Diagnostic'"
      ]
     },
     "execution_count": 6,
     "metadata": {},
     "output_type": "execute_result"
    }
   ],
   "source": [
    "dic = {'alltestbed': [{'completed_date': None, 'description': 'FOS SQA San Jose Diagnostic', 'display_name': 'Aixia Shao', 'expected_end_date': None, 'expected_start_date': None, 'id': '32', 'name': 'ENG-FOS-SQA-SJ-Diagnostic', 'on_going': '1', 'status': 'ACTIVE', 'user_id': 'as415214'}, {'completed_date': None, 'description': 'Raghu Navalgund - EM Test Bed', 'display_name': 'Raghu Navalgund', 'expected_end_date': None, 'expected_start_date': None, 'id': '1031', 'name': 'ENG-SQA-EMTest Bed', 'on_going': '1', 'status': 'ACTIVE', 'user_id': 'rn403732'}, {'completed_date': None, 'description': 'This is Scale L2 TB from I-01 to I-28 and J-01to J-09.', 'display_name': 'Amol Sonawane', 'expected_end_date': None, 'expected_start_date': '2019-03-25', 'id': '1036', 'name': 'ENG-FOS-SQA-SJ-ScaleL2', 'on_going': '1', 'status': 'ACTIVE', 'user_id': 'as407652'}, {'completed_date': None, 'description': 'Common Pool San Jose', 'display_name': 'Joseph Giulianelli','expected_end_date': None, 'expected_start_date': None, 'id': '1043', 'name': 'ENG-CP-SJ', 'on_going': '1', 'status': 'ACTIVE', 'user_id': 'jg401178'}, {'completed_date': None, 'description': 'Small Gen5 configuration with host and targets(16G) ', 'display_name': 'Mrunmayee Mardikar', 'expected_end_date': None, 'expected_start_date': None, 'id': '1080', 'name': 'ENG-SQA-SJ-Gen5-Small', 'on_going': '1', 'status': 'ACTIVE', 'user_id': 'mm401197'}, {'completed_date': None, 'description': 'This Test Bed is for AG Scalability', 'display_name': 'Prem Ganesh Elango', 'expected_end_date': None, 'expected_start_date': None, 'id': '2444', 'name': 'ENG-SQA-SJ-ScaleAG', 'on_going': '1', 'status': 'ACTIVE', 'user_id': 'pe415247'}]}\n",
    "owner = ''.join(testbed['user_id'] for testbed in dic['alltestbed'] if testbed['id'] == '32')\n",
    "testbed = ''.join(testbed['name'] for testbed in dic['alltestbed'] if testbed['id'] == '32')\n",
    "testbed"
   ]
  },
  {
   "cell_type": "code",
   "execution_count": 149,
   "metadata": {},
   "outputs": [
    {
     "data": {
      "text/html": [
       "<div>\n",
       "<style scoped>\n",
       "    .dataframe tbody tr th:only-of-type {\n",
       "        vertical-align: middle;\n",
       "    }\n",
       "\n",
       "    .dataframe tbody tr th {\n",
       "        vertical-align: top;\n",
       "    }\n",
       "\n",
       "    .dataframe thead th {\n",
       "        text-align: right;\n",
       "    }\n",
       "</style>\n",
       "<table border=\"1\" class=\"dataframe\">\n",
       "  <thead>\n",
       "    <tr style=\"text-align: right;\">\n",
       "      <th></th>\n",
       "      <th>device_id</th>\n",
       "      <th>device_infodot</th>\n",
       "      <th>device_ipaddress</th>\n",
       "      <th>device_lab</th>\n",
       "      <th>device_manufacturer</th>\n",
       "      <th>device_model</th>\n",
       "      <th>device_rack</th>\n",
       "      <th>device_site</th>\n",
       "      <th>device_uposition</th>\n",
       "    </tr>\n",
       "  </thead>\n",
       "  <tbody>\n",
       "    <tr>\n",
       "      <th>0</th>\n",
       "      <td>292967</td>\n",
       "      <td>151196</td>\n",
       "      <td></td>\n",
       "      <td>Lab-SJS-2.1C.103</td>\n",
       "      <td>IBM</td>\n",
       "      <td>x3650 M3</td>\n",
       "      <td>J12</td>\n",
       "      <td>San Jose (SJS)</td>\n",
       "      <td>F25</td>\n",
       "    </tr>\n",
       "  </tbody>\n",
       "</table>\n",
       "</div>"
      ],
      "text/plain": [
       "  device_id device_infodot device_ipaddress        device_lab  \\\n",
       "0    292967         151196                   Lab-SJS-2.1C.103   \n",
       "\n",
       "  device_manufacturer device_model device_rack     device_site  \\\n",
       "0                 IBM     x3650 M3         J12  San Jose (SJS)   \n",
       "\n",
       "  device_uposition  \n",
       "0              F25  "
      ]
     },
     "execution_count": 149,
     "metadata": {},
     "output_type": "execute_result"
    }
   ],
   "source": [
    "\n",
    "lista = [{'device_id': '292967', 'device_infodot': '151196', 'device_ipaddress': '', 'device_lab': 'Lab-SJS-2.1C.103', 'device_manufacturer': 'IBM', 'device_model': 'x3650 M3', 'device_rack': 'J12', 'device_site': 'San Jose (SJS)', 'device_uposition': 'F25'}, [{'ri_id': '438172', 'ri_ip': '10.154.103.61', 'ri_port': '13', 'ri_tag': '', 'ri_type': 'KVM'}, {'ri_id': '438175', 'ri_ip': '10.154.101.70', 'ri_port': '16', 'ri_tag': '', 'ri_type': 'PDU'}, {'ri_id': '1424053', 'ri_ip': '10.154.103.160', 'ri_port': '16', 'ri_tag': '', 'ri_type': 'PDU'}]]\n",
    "df1 = pd.DataFrame()\n",
    "df1 = df1.append(pd.DataFrame.from_dict(lista[0], orient='index').T)\n",
    "df1"
   ]
  },
  {
   "cell_type": "code",
   "execution_count": 3,
   "metadata": {},
   "outputs": [
    {
     "data": {
      "text/plain": [
       "[4, 5, 2, 7]"
      ]
     },
     "execution_count": 3,
     "metadata": {},
     "output_type": "execute_result"
    }
   ],
   "source": [
    "def test(lista = []):\n",
    "    odd,even = False,False\n",
    "    i, j = 0,len(lista)-1\n",
    "    while(i<j):\n",
    "        if (i %2 == 0 and lista[i]%2 == 0) or (i %2 != 0 and lista[i]%2 != 0):\n",
    "            i+=1\n",
    "        else:\n",
    "            even = True\n",
    "        if (j %2 == 0 and lista[j]%2 == 0) or (j %2 != 0 and lista[j]%2 != 0):\n",
    "            j-=1\n",
    "        else:\n",
    "            odd = True\n",
    "            \n",
    "        if even and odd:\n",
    "            lista[i],lista[j] = lista[j],lista[i]\n",
    "            odd,even = False,False\n",
    "            i+=1\n",
    "            j-=1\n",
    "    return lista\n",
    "test(lista = [4,2,5,7])"
   ]
  },
  {
   "cell_type": "code",
   "execution_count": null,
   "metadata": {},
   "outputs": [],
   "source": [
    "        output = []\n",
    "        for char in string:\n",
    "            if output and char == output[-1]:\n",
    "                output.pop()\n",
    "            else:\n",
    "                output.append(char)\n",
    "        return \"\".join(output)\n",
    "        "
   ]
  }
 ],
 "metadata": {
  "kernelspec": {
   "display_name": "Python 3",
   "language": "python",
   "name": "python3"
  },
  "language_info": {
   "codemirror_mode": {
    "name": "ipython",
    "version": 3
   },
   "file_extension": ".py",
   "mimetype": "text/x-python",
   "name": "python",
   "nbconvert_exporter": "python",
   "pygments_lexer": "ipython3",
   "version": "3.7.0"
  }
 },
 "nbformat": 4,
 "nbformat_minor": 2
}
