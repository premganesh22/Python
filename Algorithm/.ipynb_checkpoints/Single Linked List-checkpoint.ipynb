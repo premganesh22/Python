{
 "cells": [
  {
   "cell_type": "markdown",
   "metadata": {},
   "source": [
    "# Linked List\n",
    "\n",
    "**Binary Search:** Search a sorted array by repeatedly dividing the search interval in half. Begin with an interval covering the whole array. If the value of the search key is less than the item in the middle of the interval, narrow the interval to the lower half. Otherwise narrow it to the upper half. Repeatedly check until the value is found or the interval is empty.\n",
    "\n",
    "**Time Complexity**\n",
    ">Best Case O(1)\n",
    "\n",
    ">Average Case O(log n)\n",
    "\n",
    ">Worst Case O(log n)"
   ]
  },
  {
   "cell_type": "code",
   "execution_count": 67,
   "metadata": {},
   "outputs": [],
   "source": [
    "class linkedListNode():\n",
    "    def __init__(self,value,nextNode = None):\n",
    "        self.value = value\n",
    "        self.nextNode = nextNode\n",
    "        \n",
    "class linkedList():\n",
    "    def __init__(self,head=None):\n",
    "        self.head = head\n",
    "\n",
    "    def insertItem(self,value):\n",
    "        node = linkedListNode(value)\n",
    "        if self.head is None:\n",
    "            self.head = node\n",
    "            return\n",
    "        \n",
    "        curNode = self.head\n",
    "        while True:\n",
    "            if curNode.nextNode is None:\n",
    "                curNode.nextNode = node\n",
    "                break\n",
    "            curNode = curNode.nextNode\n",
    "            \n",
    "    def deleteItem(self,value):\n",
    "        #If linked list is empty\n",
    "        if self.head is None:\n",
    "            return \"Linked List empty\"\n",
    "        \n",
    "        #If the linked list has only one element\n",
    "        if self.head.nextNode is None:\n",
    "            if self.head.value == value:\n",
    "                self.head = None\n",
    "                return\n",
    "            else:\n",
    "                return f\"{value} not found in the linked List\"\n",
    "            \n",
    "        #If the item to delete is in the first item in Linked List\n",
    "        elif self.head.value == value:\n",
    "            self.head = self.head.nextNode\n",
    "            return\n",
    "        \n",
    "        \n",
    "        curNode = self.head\n",
    "        while True:\n",
    "            if curNode.nextNode is not None:\n",
    "                if curNode.nextNode.value == value:\n",
    "                    curNode.nextNode = curNode.nextNode.nextNode\n",
    "                    return\n",
    "                curNode = curNode.nextNode\n",
    "            else:\n",
    "                return f\"{value} not found in the linked List\"\n",
    "\n",
    "            \n",
    "    def printLinkedList(self):\n",
    "        if self.head is None:\n",
    "            return \"None\"\n",
    "        curNode = self.head\n",
    "        \n",
    "        while curNode.nextNode is not None:\n",
    "            print(curNode.value,\"-->\")\n",
    "            curNode = curNode.nextNode\n",
    "        print(curNode.value)\n",
    "        \n",
    "    def countLinkedList(self):\n",
    "        count = 0\n",
    "        if self.head == None:\n",
    "            return count\n",
    "        \n",
    "        curNode = self.head\n",
    "        while True:\n",
    "            count+=1\n",
    "            if curNode.nextNode is None:\n",
    "                return count\n",
    "            curNode = curNode.nextNode\n",
    "    \n",
    "    def searchElement(self,value):\n",
    "        if self.head == None:\n",
    "            return \"Linked List is empty\"\n",
    "        \n",
    "        curNode = self.head\n",
    "        while True:\n",
    "            if curNode.value == value:\n",
    "                return True\n",
    "            else:\n",
    "                if curNode.nextNode is None:\n",
    "                    return False\n",
    "            curNode = curNode.nextNode\n",
    "        \n",
    "                \n",
    " \n"
   ]
  },
  {
   "cell_type": "code",
   "execution_count": 69,
   "metadata": {},
   "outputs": [
    {
     "name": "stdout",
     "output_type": "stream",
     "text": [
      "3 -->\n",
      "4 -->\n",
      "10 -->\n",
      "12\n",
      "None\n"
     ]
    },
    {
     "data": {
      "text/plain": [
       "4"
      ]
     },
     "execution_count": 69,
     "metadata": {},
     "output_type": "execute_result"
    }
   ],
   "source": [
    "ll = linkedList()\n",
    "ll.insertItem(\"3\")\n",
    "ll.insertItem(\"4\")\n",
    "ll.insertItem(\"10\")\n",
    "ll.insertItem(\"12\")\n",
    "ll.deleteItem(\"4\")\n",
    "ll.deleteItem(\"40\")\n",
    "print(ll.printLinkedList())\n",
    "ll.countLinkedList()\n",
    "\n",
    "\n"
   ]
  },
  {
   "cell_type": "code",
   "execution_count": null,
   "metadata": {},
   "outputs": [],
   "source": []
  }
 ],
 "metadata": {
  "kernelspec": {
   "display_name": "Python 3",
   "language": "python",
   "name": "python3"
  },
  "language_info": {
   "codemirror_mode": {
    "name": "ipython",
    "version": 3
   },
   "file_extension": ".py",
   "mimetype": "text/x-python",
   "name": "python",
   "nbconvert_exporter": "python",
   "pygments_lexer": "ipython3",
   "version": "3.7.0"
  }
 },
 "nbformat": 4,
 "nbformat_minor": 2
}
