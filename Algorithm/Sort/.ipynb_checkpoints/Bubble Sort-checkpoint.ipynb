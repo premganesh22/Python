{
 "cells": [
  {
   "cell_type": "markdown",
   "metadata": {},
   "source": [
    "# Bubble Sort\n",
    "\n",
    "**Bubble Sort:** is a simple sorting algorithm that repeatedly steps through the list, compares adjacent elements and swaps them if they are in the wrong order. The pass through the list is repeated until the list is sorted.\n",
    "\n",
    "**Time Complexity**\n",
    ">Best Case O(1)\n",
    "\n",
    ">Average Case O(log n)\n",
    "\n",
    ">Worst Case O(log n)"
   ]
  },
  {
   "cell_type": "code",
   "execution_count": 8,
   "metadata": {},
   "outputs": [],
   "source": [
    "#Version 1. Returns True or False\n",
    "def binary(lista = [], search = 0):\n",
    "    '''\n",
    "    This function takes the list and search element as arguments and return True or False.\n",
    "    \n",
    "    True: If the element is found\n",
    "    False: If the element is not found\n",
    "    \n",
    "    '''\n",
    "    if len(lista) == 1:\n",
    "        return lista[0] == search\n",
    "    else:\n",
    "        mid = len(lista)//2\n",
    "        if lista[mid] == search:\n",
    "            return True\n",
    "        elif lista[mid] < search:\n",
    "            return binary(lista = lista[mid:],search = search)\n",
    "        else:\n",
    "            return binary(lista = lista[:mid],search = search)    "
   ]
  },
  {
   "cell_type": "code",
   "execution_count": 18,
   "metadata": {},
   "outputs": [
    {
     "data": {
      "text/plain": [
       "True"
      ]
     },
     "execution_count": 18,
     "metadata": {},
     "output_type": "execute_result"
    }
   ],
   "source": [
    "binary(lista=[1,2,3,4,5,6,7,8,9], search = 8)"
   ]
  },
  {
   "cell_type": "code",
   "execution_count": 88,
   "metadata": {},
   "outputs": [],
   "source": [
    "#Version 2. Returns the index\n",
    "def binary_index(lista = [], search = 0, start = 0, stop = 0):\n",
    "    '''\n",
    "    This function takes the list, search element, start & stop elements as arguments and index of the element if found.\n",
    "    '''\n",
    "    if start == stop-1:\n",
    "        if lista[start] == search:\n",
    "            return f\"{search} found in index {start}\"\n",
    "        else:\n",
    "            return \"Not Found\"\n",
    "    else:\n",
    "        mid = len(lista[start:stop])//2 + start\n",
    "        if lista[mid] == search:\n",
    "            return f\"{search} found in index {mid}\"\n",
    "        elif lista[mid] < search:\n",
    "            return binary_index(lista = lista,search = search, start = mid, stop = stop)\n",
    "        else:\n",
    "            return binary_index(lista = lista,search = search,start = start,stop = mid)"
   ]
  },
  {
   "cell_type": "code",
   "execution_count": 91,
   "metadata": {},
   "outputs": [
    {
     "data": {
      "text/plain": [
       "'4 found in index 5'"
      ]
     },
     "execution_count": 91,
     "metadata": {},
     "output_type": "execute_result"
    }
   ],
   "source": [
    "binary_index(lista=[0,1,2,3,4,4,5,6,7,8,9], search = 4,start = 0, stop = len([0,1,2,3,4,4,5,6,7,8,9]))\n"
   ]
  },
  {
   "cell_type": "code",
   "execution_count": null,
   "metadata": {},
   "outputs": [],
   "source": []
  }
 ],
 "metadata": {
  "kernelspec": {
   "display_name": "Python 3",
   "language": "python",
   "name": "python3"
  },
  "language_info": {
   "codemirror_mode": {
    "name": "ipython",
    "version": 3
   },
   "file_extension": ".py",
   "mimetype": "text/x-python",
   "name": "python",
   "nbconvert_exporter": "python",
   "pygments_lexer": "ipython3",
   "version": "3.7.0"
  }
 },
 "nbformat": 4,
 "nbformat_minor": 2
}
