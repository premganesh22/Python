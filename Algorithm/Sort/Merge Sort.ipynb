{
 "cells": [
  {
   "cell_type": "markdown",
   "metadata": {},
   "source": [
    "# Merge Sort\n",
    "\n",
    "**Merge Sort:** is a divide-and-conquer algorithm based on the idea of breaking down a list into several sub-lists until each sublist consists of a single element and merging those sublists in a manner that results into a sorted list.\n",
    "\n",
    "**Time Complexity**\n",
    "\n",
    ">Worst complexity: n*log(n)\n",
    "\n",
    ">Average complexity: n*log(n)\n",
    "\n",
    ">Best complexity: n*log(n)\n",
    "\n",
    ">Space complexity: n"
   ]
  },
  {
   "cell_type": "code",
   "execution_count": 110,
   "metadata": {},
   "outputs": [],
   "source": [
    "def sort_and_merge_two_list(lista,listb):\n",
    "    i,j = 0,0\n",
    "    listc = []\n",
    "    while True:\n",
    "        if i == len(lista):\n",
    "            listc.extend(listb[j:])\n",
    "            break\n",
    "        elif j == len(listb):\n",
    "            listc.extend(lista[i:])\n",
    "            break\n",
    "        elif lista[i] < listb[j]:\n",
    "            listc.append(lista[i])\n",
    "            i+=1\n",
    "        elif lista[i] > listb[j]:\n",
    "            listc.append(listb[j])\n",
    "            j+=1\n",
    "    return listc\n",
    "\n",
    "def divide_list(lista = []):\n",
    "    length = len(lista)//2\n",
    "    return lista[0:length],lista[length:]\n",
    "\n",
    "def merge_sort(lista):\n",
    "    if len(lista) <= 1:\n",
    "        return lista\n",
    "    else:\n",
    "        left,right = divide_list(lista)\n",
    "        return sort_and_merge_two_list(merge_sort(left),merge_sort(right))   "
   ]
  },
  {
   "cell_type": "code",
   "execution_count": 111,
   "metadata": {},
   "outputs": [
    {
     "name": "stdout",
     "output_type": "stream",
     "text": [
      "[13, 4] [10, 15, 5]\n",
      "[13] [4]\n",
      "[13]\n",
      "[4]\n",
      "[10] [15, 5]\n",
      "[10]\n",
      "[15] [5]\n",
      "[15]\n",
      "[5]\n"
     ]
    },
    {
     "data": {
      "text/plain": [
       "[4, 5, 10, 13, 15]"
      ]
     },
     "execution_count": 111,
     "metadata": {},
     "output_type": "execute_result"
    }
   ],
   "source": [
    "merge_sort(lista=[13,4,10,15,5])"
   ]
  },
  {
   "cell_type": "code",
   "execution_count": 125,
   "metadata": {},
   "outputs": [
    {
     "name": "stdout",
     "output_type": "stream",
     "text": [
      "12195232\n",
      "12195104\n",
      "12119456\n",
      "12119456\n"
     ]
    }
   ],
   "source": [
    "string = \"prem\"\n",
    "print(id(string))\n",
    "string = \"ganesh\"\n",
    "print(id(string))\n",
    "lista = [1,2,3]\n",
    "print(id(lista))\n",
    "lista.pop()\n",
    "print(id(lista))"
   ]
  },
  {
   "cell_type": "code",
   "execution_count": null,
   "metadata": {},
   "outputs": [],
   "source": []
  }
 ],
 "metadata": {
  "kernelspec": {
   "display_name": "Python 3",
   "language": "python",
   "name": "python3"
  },
  "language_info": {
   "codemirror_mode": {
    "name": "ipython",
    "version": 3
   },
   "file_extension": ".py",
   "mimetype": "text/x-python",
   "name": "python",
   "nbconvert_exporter": "python",
   "pygments_lexer": "ipython3",
   "version": "3.7.0"
  }
 },
 "nbformat": 4,
 "nbformat_minor": 2
}
