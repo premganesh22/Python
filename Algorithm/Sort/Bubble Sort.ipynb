{
 "cells": [
  {
   "cell_type": "markdown",
   "metadata": {},
   "source": [
    "# Bubble Sort\n",
    "\n",
    "**Bubble Sort:** is a simple sorting algorithm that repeatedly steps through the list, compares adjacent elements and swaps them if they are in the wrong order. The pass through the list is repeated until the list is sorted.\n",
    "\n",
    "**Time Complexity**\n",
    "\n",
    ">Worst complexity: n^2\n",
    "\n",
    ">Average complexity: n^2\n",
    "\n",
    ">Best complexity: n\n",
    "\n",
    ">Space complexity: 1"
   ]
  },
  {
   "cell_type": "code",
   "execution_count": 1,
   "metadata": {},
   "outputs": [],
   "source": [
    "def bubble_Sort(unsorted_list = []):\n",
    "    while True:\n",
    "        increment = 0\n",
    "        for item in range(len(unsorted_list)-1):\n",
    "            if unsorted_list[item] > unsorted_list[item+1]:\n",
    "                unsorted_list[item],unsorted_list[item+1] = unsorted_list[item+1],unsorted_list[item]\n",
    "                increment+=1\n",
    "        if increment == 0:\n",
    "            return unsorted_list"
   ]
  },
  {
   "cell_type": "code",
   "execution_count": 5,
   "metadata": {},
   "outputs": [
    {
     "data": {
      "text/plain": [
       "[14, 21, 27, 41, 43, 45, 46, 57, 70]"
      ]
     },
     "execution_count": 5,
     "metadata": {},
     "output_type": "execute_result"
    }
   ],
   "source": [
    "bubble_Sort(unsorted_list=[14,46,43,27,57,41,45,21,70])"
   ]
  },
  {
   "cell_type": "code",
   "execution_count": null,
   "metadata": {},
   "outputs": [],
   "source": []
  }
 ],
 "metadata": {
  "kernelspec": {
   "display_name": "Python 3",
   "language": "python",
   "name": "python3"
  },
  "language_info": {
   "codemirror_mode": {
    "name": "ipython",
    "version": 3
   },
   "file_extension": ".py",
   "mimetype": "text/x-python",
   "name": "python",
   "nbconvert_exporter": "python",
   "pygments_lexer": "ipython3",
   "version": "3.7.0"
  }
 },
 "nbformat": 4,
 "nbformat_minor": 2
}
