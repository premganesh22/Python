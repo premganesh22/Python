{
 "cells": [
  {
   "cell_type": "markdown",
   "metadata": {},
   "source": [
    "# Reverse Single Linked List\n",
    "\n",
    "**Approach:** \n",
    ">1.Initialize three pointers prev as NULL, curr as head and next as NULL.\n",
    "\n",
    ">2.Iterate trough the linked list. In loop, do following.\n",
    "\n",
    "// Before changing next of current,\n",
    "// store next node\n",
    "next = curr->next\n",
    "\n",
    "// Now change next of current\n",
    "// This is where actual reversing happens\n",
    "curr->next = prev\n",
    "\n",
    "// Move prev and curr one step forward\n",
    "prev = curr\n",
    "curr = next\n"
   ]
  },
  {
   "cell_type": "code",
   "execution_count": 19,
   "metadata": {},
   "outputs": [],
   "source": [
    "class linkedListNode():\n",
    "    def __init__(self,value,nextNode = None):\n",
    "        self.value = value\n",
    "        self.nextNode = nextNode\n",
    "        \n",
    "class linkedList():\n",
    "    def __init__(self,head=None):\n",
    "        self.head = head\n",
    "\n",
    "    def insertItem(self,value):\n",
    "        node = linkedListNode(value)\n",
    "        if self.head is None:\n",
    "            self.head = node\n",
    "            return\n",
    "        \n",
    "        curNode = self.head\n",
    "        while True:\n",
    "            if curNode.nextNode is None:\n",
    "                curNode.nextNode = node\n",
    "                break\n",
    "            curNode = curNode.nextNode\n",
    "            \n",
    "\n",
    "    def printLinkedList(self):\n",
    "        if self.head is None:\n",
    "            return \"None\"\n",
    "        curNode = self.head\n",
    "        \n",
    "        while curNode.nextNode is not None:\n",
    "            print(curNode.value,\"-->\")\n",
    "            curNode = curNode.nextNode\n",
    "        print(curNode.value)\n",
    "        \n",
    "    def reverse(self):\n",
    "        prevNode = None\n",
    "        curNode = self.head\n",
    "        \n",
    "        while curNode!=None:\n",
    "            nextNode = curNode.nextNode\n",
    "            curNode.nextNode = prevNode\n",
    "            prevNode = curNode\n",
    "            curNode = nextNode\n",
    "        self.head = prevNode\n",
    "\n",
    "    \n",
    "        \n",
    "        "
   ]
  },
  {
   "cell_type": "code",
   "execution_count": 20,
   "metadata": {},
   "outputs": [
    {
     "name": "stdout",
     "output_type": "stream",
     "text": [
      "3 -->\n",
      "4 -->\n",
      "10 -->\n",
      "12 -->\n",
      "6 -->\n",
      "6 -->\n",
      "7 -->\n",
      "8\n",
      "Reverse the List\n",
      "8 -->\n",
      "7 -->\n",
      "6 -->\n",
      "6 -->\n",
      "12 -->\n",
      "10 -->\n",
      "4 -->\n",
      "3\n"
     ]
    }
   ],
   "source": [
    "ll = linkedList()\n",
    "ll.insertItem(\"3\")\n",
    "ll.insertItem(\"4\")\n",
    "ll.insertItem(\"10\")\n",
    "ll.insertItem(\"12\")\n",
    "ll.insertItem(\"6\")\n",
    "ll.insertItem(\"6\")\n",
    "ll.insertItem(\"7\")\n",
    "ll.insertItem(\"8\")\n",
    "ll.printLinkedList()\n",
    "print(\"Reverse the List\")\n",
    "ll.reverse()\n",
    "ll.printLinkedList()"
   ]
  },
  {
   "cell_type": "code",
   "execution_count": null,
   "metadata": {},
   "outputs": [],
   "source": []
  }
 ],
 "metadata": {
  "kernelspec": {
   "display_name": "Python 3",
   "language": "python",
   "name": "python3"
  },
  "language_info": {
   "codemirror_mode": {
    "name": "ipython",
    "version": 3
   },
   "file_extension": ".py",
   "mimetype": "text/x-python",
   "name": "python",
   "nbconvert_exporter": "python",
   "pygments_lexer": "ipython3",
   "version": "3.7.0"
  }
 },
 "nbformat": 4,
 "nbformat_minor": 2
}
