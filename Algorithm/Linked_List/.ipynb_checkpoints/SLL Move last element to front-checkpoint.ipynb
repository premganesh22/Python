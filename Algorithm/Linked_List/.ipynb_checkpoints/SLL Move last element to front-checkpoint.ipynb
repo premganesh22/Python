{
 "cells": [
  {
   "cell_type": "markdown",
   "metadata": {},
   "source": [
    "# Move last element to front of a given Linked List\n",
    "\n",
    "Write a function that moves the last element to the front in a given Singly Linked List. For example, if the given Linked List is 1->2->3->4->5, then the function should change the list to 5->1->2->3->4.\n",
    "\n",
    "**Approach:** \n",
    "\n",
    ">Traverse the list till last node. Use two pointers: one to store the address of last node and other for address of second last node. After the end of loop do following operations.\n",
    "i) Make second last as last (secLast->next = NULL).\n",
    "ii) Set next of last as head (last->next = *head_ref).\n",
    "iii) Make last as head ( *head_ref = last)\n",
    "\n",
    "**Time Complexity:** O(n)\n",
    "\n",
    "**Space Complexity:** O(1)\n"
   ]
  },
  {
   "cell_type": "code",
   "execution_count": 53,
   "metadata": {},
   "outputs": [],
   "source": [
    "class linkedListNode():\n",
    "    def __init__(self,value,nextNode = None):\n",
    "        self.value = value\n",
    "        self.nextNode = nextNode\n",
    "        \n",
    "class linkedList():\n",
    "    def __init__(self,head=None):\n",
    "        self.head = head\n",
    "\n",
    "    def insertItem(self,value):\n",
    "        node = linkedListNode(value)\n",
    "        if self.head is None:\n",
    "            self.head = node\n",
    "            return\n",
    "        \n",
    "        curNode = self.head\n",
    "        while True:\n",
    "            if curNode.nextNode is None:\n",
    "                curNode.nextNode = node\n",
    "                break\n",
    "            curNode = curNode.nextNode\n",
    "            \n",
    "\n",
    "    def printLinkedList(self):\n",
    "        if self.head is None:\n",
    "            return \"None\"\n",
    "        curNode = self.head\n",
    "        \n",
    "        while curNode.nextNode is not None:\n",
    "            print(curNode.value,\"-->\")\n",
    "            curNode = curNode.nextNode\n",
    "        print(curNode.value)\n",
    "        \n",
    "    def moveLastToFirst(self):\n",
    "        \n",
    "        "
   ]
  },
  {
   "cell_type": "code",
   "execution_count": 54,
   "metadata": {},
   "outputs": [
    {
     "name": "stdout",
     "output_type": "stream",
     "text": [
      "3 -->\n",
      "4 -->\n",
      "5 -->\n",
      "6 -->\n",
      "7 -->\n",
      "8\n",
      "Swap Node\n",
      "7 -->\n",
      "4 -->\n",
      "5 -->\n",
      "6 -->\n",
      "3 -->\n",
      "8\n"
     ]
    }
   ],
   "source": [
    "ll = linkedList()\n",
    "ll.insertItem(\"3\")\n",
    "ll.insertItem(\"4\")\n",
    "ll.insertItem(\"5\")\n",
    "ll.insertItem(\"6\")\n",
    "ll.insertItem(\"7\")\n",
    "ll.insertItem(\"8\")\n",
    "ll.printLinkedList()\n",
    "print(\"Swap Node\")\n",
    "ll.swapNode(\"3\",\"7\")\n",
    "ll.printLinkedList()"
   ]
  }
 ],
 "metadata": {
  "kernelspec": {
   "display_name": "Python 3",
   "language": "python",
   "name": "python3"
  },
  "language_info": {
   "codemirror_mode": {
    "name": "ipython",
    "version": 3
   },
   "file_extension": ".py",
   "mimetype": "text/x-python",
   "name": "python",
   "nbconvert_exporter": "python",
   "pygments_lexer": "ipython3",
   "version": "3.7.0"
  }
 },
 "nbformat": 4,
 "nbformat_minor": 2
}
