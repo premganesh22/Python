{
 "cells": [
  {
   "cell_type": "markdown",
   "metadata": {},
   "source": [
    "# Pairwise Swap elements\n",
    "\n",
    "Given a singly linked list, write a function to swap elements pairwise.\n",
    "\n",
    "**Example:**\n",
    "\n",
    "> Input: 1->2->3->4->5->NULL\n",
    "\n",
    "> Output: 2->1->4->3->5->NULL\n",
    "\n",
    "**Approach:** \n",
    "\n",
    ">Start from the head node and traverse the list. While traversing swap data of each node with its next node’s data.\n",
    "\n",
    "\n",
    "\n",
    "**Time Complexity:** O(n)\n",
    "\n",
    "**Space Complexity:** O(1)\n"
   ]
  },
  {
   "cell_type": "code",
   "execution_count": 29,
   "metadata": {},
   "outputs": [],
   "source": [
    "class linkedListNode():\n",
    "    def __init__(self,value,nextNode = None):\n",
    "        self.value = value\n",
    "        self.nextNode = nextNode\n",
    "        \n",
    "class linkedList():\n",
    "    def __init__(self,head=None):\n",
    "        self.head = head\n",
    "\n",
    "    def insertItem(self,value):\n",
    "        node = linkedListNode(value)\n",
    "        if self.head is None:\n",
    "            self.head = node\n",
    "            return\n",
    "        \n",
    "        curNode = self.head\n",
    "        while True:\n",
    "            if curNode.nextNode is None:\n",
    "                curNode.nextNode = node\n",
    "                break\n",
    "            curNode = curNode.nextNode\n",
    "            \n",
    "\n",
    "    def printLinkedList(self):\n",
    "        if self.head is None:\n",
    "            return \"None\"\n",
    "        curNode = self.head\n",
    "        \n",
    "        while curNode.nextNode is not None:\n",
    "            print(curNode.value,\"-->\")\n",
    "            curNode = curNode.nextNode\n",
    "        print(curNode.value)\n",
    "        \n",
    "    def swapPairWise(self):\n",
    "        temp = self.head\n",
    "        \n",
    "        if temp is None:\n",
    "            return \n",
    "        \n",
    "        while (temp is not None and temp.nextNode is not None):\n",
    "            temp.value,temp.nextNode.value = temp.nextNode.value,temp.value\n",
    "            temp = temp.nextNode.nextNode\n",
    "        \n",
    "        \n",
    "\n",
    "                \n",
    "        "
   ]
  },
  {
   "cell_type": "code",
   "execution_count": 31,
   "metadata": {},
   "outputs": [
    {
     "name": "stdout",
     "output_type": "stream",
     "text": [
      "3 -->\n",
      "4 -->\n",
      "5 -->\n",
      "6 -->\n",
      "8\n",
      "Swap Node\n",
      "4 -->\n",
      "3 -->\n",
      "6 -->\n",
      "5 -->\n",
      "8\n"
     ]
    }
   ],
   "source": [
    "ll = linkedList()\n",
    "ll.insertItem(\"3\")\n",
    "ll.insertItem(\"4\")\n",
    "ll.insertItem(\"5\")\n",
    "ll.insertItem(\"6\")\n",
    "ll.insertItem(\"8\")\n",
    "ll.printLinkedList()\n",
    "print(\"Swap Node\")\n",
    "ll.swapPairWise()\n",
    "ll.printLinkedList()"
   ]
  },
  {
   "cell_type": "code",
   "execution_count": null,
   "metadata": {},
   "outputs": [],
   "source": []
  }
 ],
 "metadata": {
  "kernelspec": {
   "display_name": "Python 3",
   "language": "python",
   "name": "python3"
  }
 },
 "nbformat": 4,
 "nbformat_minor": 2
}
