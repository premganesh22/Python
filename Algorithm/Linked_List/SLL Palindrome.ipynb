{
 "cells": [
  {
   "cell_type": "markdown",
   "metadata": {},
   "source": [
    "# Reverse Single Linked List\n",
    "\n",
    "**Approach:** \n",
    ">1.Find the middle element using two pointer technique\n",
    "\n",
    ">2.While iterating to find the middle elements, push every slow pointer node to a stack.\n",
    "\n",
    ">3.Once we get the middle element, iterate the remaining list and pop the element from the stack and compare if it is same.\n",
    "\n",
    "**Time Complexity:** O(n)\n",
    "\n",
    "**Space Complexity:** O(n)\n"
   ]
  },
  {
   "cell_type": "code",
   "execution_count": 119,
   "metadata": {},
   "outputs": [],
   "source": [
    "class linkedListNode():\n",
    "    def __init__(self,value,nextNode = None):\n",
    "        self.value = value\n",
    "        self.nextNode = nextNode\n",
    "        \n",
    "class linkedList():\n",
    "    def __init__(self,head=None):\n",
    "        self.head = head\n",
    "\n",
    "    def insertItem(self,value):\n",
    "        node = linkedListNode(value)\n",
    "        if self.head is None:\n",
    "            self.head = node\n",
    "            return\n",
    "        \n",
    "        curNode = self.head\n",
    "        while True:\n",
    "            if curNode.nextNode is None:\n",
    "                curNode.nextNode = node\n",
    "                break\n",
    "            curNode = curNode.nextNode\n",
    "            \n",
    "\n",
    "    def printLinkedList(self):\n",
    "        if self.head is None:\n",
    "            return \"None\"\n",
    "        curNode = self.head\n",
    "        \n",
    "        while curNode.nextNode is not None:\n",
    "            print(curNode.value,\"-->\")\n",
    "            curNode = curNode.nextNode\n",
    "        print(curNode.value)\n",
    "        \n",
    "    def isPalindrome(self):\n",
    "        fast_pt = self.head\n",
    "        slow_pt = self.head\n",
    "        stack = [self.head.value]\n",
    "        count = 1 #to find if the is word is odd or even\n",
    "        while True:\n",
    "            \n",
    "            if fast_pt.nextNode is not None:\n",
    "                if fast_pt.nextNode.nextNode is not None:\n",
    "                    fast_pt = fast_pt.nextNode.nextNode\n",
    "                    slow_pt = slow_pt.nextNode\n",
    "                    stack.append(slow_pt.value)\n",
    "                    count+=1 \n",
    "                else:\n",
    "                    fast_pt = fast_pt.nextNode\n",
    "                      \n",
    "            else:\n",
    "                print(slow_pt.value,count,stack)\n",
    "                break\n",
    "        #If the length of the word is the odd number, remove last element from stack.        \n",
    "        if count%2 > 0:\n",
    "            stack.pop()\n",
    "               \n",
    "        while True:\n",
    "            if slow_pt.nextNode is not None and stack:\n",
    "                element = stack.pop()\n",
    "                print(slow_pt.nextNode.value,element)\n",
    "                if slow_pt.nextNode.value != element:\n",
    "                    return False\n",
    "                slow_pt = slow_pt.nextNode\n",
    "            else:\n",
    "                return True"
   ]
  },
  {
   "cell_type": "code",
   "execution_count": 120,
   "metadata": {},
   "outputs": [
    {
     "name": "stdout",
     "output_type": "stream",
     "text": [
      "R -->\n",
      "A -->\n",
      "A -->\n",
      "R\n",
      "A 2 ['R', 'A']\n",
      "A A\n",
      "R R\n",
      "True\n"
     ]
    }
   ],
   "source": [
    "ll = linkedList()\n",
    "for i in \"RAAR\":\n",
    "    ll.insertItem(i)\n",
    "ll.printLinkedList()\n",
    "print(ll.isPalindrome())"
   ]
  },
  {
   "cell_type": "code",
   "execution_count": 121,
   "metadata": {},
   "outputs": [
    {
     "name": "stdout",
     "output_type": "stream",
     "text": [
      "R -->\n",
      "A -->\n",
      "D -->\n",
      "A -->\n",
      "R\n",
      "D 3 ['R', 'A', 'D']\n",
      "A A\n",
      "R R\n",
      "True\n"
     ]
    }
   ],
   "source": [
    "ll = linkedList()\n",
    "for i in \"RADAR\":\n",
    "    ll.insertItem(i)\n",
    "ll.printLinkedList()\n",
    "print(ll.isPalindrome())"
   ]
  },
  {
   "cell_type": "code",
   "execution_count": null,
   "metadata": {},
   "outputs": [],
   "source": []
  }
 ],
 "metadata": {
  "kernelspec": {
   "display_name": "Python 3",
   "language": "python",
   "name": "python3"
  },
  "language_info": {
   "codemirror_mode": {
    "name": "ipython",
    "version": 3
   },
   "file_extension": ".py",
   "mimetype": "text/x-python",
   "name": "python",
   "nbconvert_exporter": "python",
   "pygments_lexer": "ipython3",
   "version": "3.7.0"
  }
 },
 "nbformat": 4,
 "nbformat_minor": 2
}
