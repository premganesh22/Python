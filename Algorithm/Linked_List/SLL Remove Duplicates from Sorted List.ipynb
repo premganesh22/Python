{
 "cells": [
  {
   "cell_type": "markdown",
   "metadata": {},
   "source": [
    "# Remove duplicates from Sorted Linked List\n",
    "\n",
    "Write a function which takes a list sorted in non-decreasing order and deletes any duplicate nodes from the list. The list should only be traversed once.\n",
    "\n",
    "For example if the linked list is 11->11->11->21->43->43->60 then removeDuplicates() should convert the list to 11->21->43->60.\n",
    "\n",
    "**Approach:** \n",
    "\n",
    ">Traverse the list from the head (or start) node. While traversing, compare each node with its next node. If data of next node is same as current node then delete the next node. Before we delete a node, we need to store next pointer of the node\n",
    "\n",
    "\n",
    "**Time Complexity:** O(n)\n",
    "\n",
    "**Space Complexity:** O(1)\n"
   ]
  },
  {
   "cell_type": "code",
   "execution_count": 1,
   "metadata": {},
   "outputs": [],
   "source": [
    "class linkedListNode():\n",
    "    def __init__(self,value,nextNode = None):\n",
    "        self.value = value\n",
    "        self.nextNode = nextNode\n",
    "        \n",
    "class linkedList():\n",
    "    def __init__(self,head=None):\n",
    "        self.head = head\n",
    "\n",
    "    def insertItem(self,value):\n",
    "        node = linkedListNode(value)\n",
    "        if self.head is None:\n",
    "            self.head = node\n",
    "            return\n",
    "        \n",
    "        curNode = self.head\n",
    "        while True:\n",
    "            if curNode.nextNode is None:\n",
    "                curNode.nextNode = node\n",
    "                break\n",
    "            curNode = curNode.nextNode\n",
    "            \n",
    "\n",
    "    def printLinkedList(self):\n",
    "        if self.head is None:\n",
    "            return \"None\"\n",
    "        curNode = self.head\n",
    "        \n",
    "        while curNode.nextNode is not None:\n",
    "            print(curNode.value,\"-->\")\n",
    "            curNode = curNode.nextNode\n",
    "        print(curNode.value)\n",
    "        \n",
    "    def removeDuplicates(self):\n",
    "        curNode = self.head\n",
    "        \n",
    "        while curNode!=None:\n",
    "            if curNode.nextNode is not None:\n",
    "                if curNode.value == curNode.nextNode.value:\n",
    "                    curNode.nextNode = curNode.nextNode.nextNode\n",
    "                else:\n",
    "                    curNode = curNode.nextNode \n",
    "            \n",
    "            else:\n",
    "                return\n",
    "\n",
    "    \n",
    "        \n",
    "        "
   ]
  },
  {
   "cell_type": "code",
   "execution_count": 6,
   "metadata": {},
   "outputs": [
    {
     "name": "stdout",
     "output_type": "stream",
     "text": [
      "3 -->\n",
      "3 -->\n",
      "6 -->\n",
      "6 -->\n",
      "7 -->\n",
      "7\n",
      "Remove Duplicate\n",
      "3 -->\n",
      "6 -->\n",
      "7\n"
     ]
    }
   ],
   "source": [
    "ll = linkedList()\n",
    "ll.insertItem(\"3\")\n",
    "ll.insertItem(\"3\")\n",
    "ll.insertItem(\"6\")\n",
    "ll.insertItem(\"6\")\n",
    "ll.insertItem(\"7\")\n",
    "ll.insertItem(\"7\")\n",
    "ll.printLinkedList()\n",
    "print(\"Remove Duplicate\")\n",
    "ll.removeDuplicates()\n",
    "ll.printLinkedList()"
   ]
  },
  {
   "cell_type": "code",
   "execution_count": null,
   "metadata": {},
   "outputs": [],
   "source": []
  }
 ],
 "metadata": {
  "kernelspec": {
   "display_name": "Python 3",
   "language": "python",
   "name": "python3"
  },
  "language_info": {
   "codemirror_mode": {
    "name": "ipython",
    "version": 3
   },
   "file_extension": ".py",
   "mimetype": "text/x-python",
   "name": "python",
   "nbconvert_exporter": "python",
   "pygments_lexer": "ipython3",
   "version": "3.7.0"
  }
 },
 "nbformat": 4,
 "nbformat_minor": 2
}
